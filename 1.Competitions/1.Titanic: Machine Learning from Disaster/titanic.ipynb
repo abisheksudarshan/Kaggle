{
 "cells": [
  {
   "cell_type": "markdown",
   "metadata": {},
   "source": [
    "\n",
    "\n",
    "    Logistic Regression\n",
    "    Support Vector Machine\n",
    "    Decision Tree\n",
    "    Naive Bayes\n",
    "    Random Forest\n",
    "    Gradient Boosting\n",
    "    K-Nearest Neighbor\n",
    "    XG Bosst\n",
    "\n"
   ]
  },
  {
   "cell_type": "code",
   "execution_count": 1,
   "metadata": {
    "_cell_guid": "b1076dfc-b9ad-4769-8c92-a6c4dae69d19",
    "_uuid": "8f2839f25d086af736a60e9eeb907d3b93b6e0e5"
   },
   "outputs": [
    {
     "name": "stdout",
     "output_type": "stream",
     "text": [
      "/kaggle/input/titanic/train.csv\n",
      "/kaggle/input/titanic/gender_submission.csv\n",
      "/kaggle/input/titanic/test.csv\n"
     ]
    }
   ],
   "source": [
    "import numpy as np \n",
    "import pandas as pd\n",
    "import seaborn as sns\n",
    "import matplotlib.pyplot as plt\n",
    "%matplotlib inline\n",
    "from scipy.stats import pearsonr\n",
    "\n",
    "import os\n",
    "for dirname, _, filenames in os.walk('/kaggle/input'):\n",
    "    for filename in filenames:\n",
    "        print(os.path.join(dirname, filename))"
   ]
  },
  {
   "cell_type": "code",
   "execution_count": 2,
   "metadata": {
    "_cell_guid": "79c7e3d0-c299-4dcb-8224-4455121ee9b0",
    "_uuid": "d629ff2d2480ee46fbb7e2d37f6b5fab8052498a"
   },
   "outputs": [],
   "source": [
    "#Load the data\n",
    "train_data = pd.read_csv(\"/kaggle/input/titanic/train.csv\")\n",
    "test_data = pd.read_csv(\"/kaggle/input/titanic/test.csv\")"
   ]
  },
  {
   "cell_type": "code",
   "execution_count": 3,
   "metadata": {},
   "outputs": [
    {
     "data": {
      "text/html": [
       "<div>\n",
       "<style scoped>\n",
       "    .dataframe tbody tr th:only-of-type {\n",
       "        vertical-align: middle;\n",
       "    }\n",
       "\n",
       "    .dataframe tbody tr th {\n",
       "        vertical-align: top;\n",
       "    }\n",
       "\n",
       "    .dataframe thead th {\n",
       "        text-align: right;\n",
       "    }\n",
       "</style>\n",
       "<table border=\"1\" class=\"dataframe\">\n",
       "  <thead>\n",
       "    <tr style=\"text-align: right;\">\n",
       "      <th></th>\n",
       "      <th>PassengerId</th>\n",
       "      <th>Survived</th>\n",
       "      <th>Pclass</th>\n",
       "      <th>Name</th>\n",
       "      <th>Sex</th>\n",
       "      <th>Age</th>\n",
       "      <th>SibSp</th>\n",
       "      <th>Parch</th>\n",
       "      <th>Ticket</th>\n",
       "      <th>Fare</th>\n",
       "      <th>Cabin</th>\n",
       "      <th>Embarked</th>\n",
       "    </tr>\n",
       "  </thead>\n",
       "  <tbody>\n",
       "    <tr>\n",
       "      <th>0</th>\n",
       "      <td>1</td>\n",
       "      <td>0</td>\n",
       "      <td>3</td>\n",
       "      <td>Braund, Mr. Owen Harris</td>\n",
       "      <td>male</td>\n",
       "      <td>22.0</td>\n",
       "      <td>1</td>\n",
       "      <td>0</td>\n",
       "      <td>A/5 21171</td>\n",
       "      <td>7.2500</td>\n",
       "      <td>NaN</td>\n",
       "      <td>S</td>\n",
       "    </tr>\n",
       "    <tr>\n",
       "      <th>1</th>\n",
       "      <td>2</td>\n",
       "      <td>1</td>\n",
       "      <td>1</td>\n",
       "      <td>Cumings, Mrs. John Bradley (Florence Briggs Th...</td>\n",
       "      <td>female</td>\n",
       "      <td>38.0</td>\n",
       "      <td>1</td>\n",
       "      <td>0</td>\n",
       "      <td>PC 17599</td>\n",
       "      <td>71.2833</td>\n",
       "      <td>C85</td>\n",
       "      <td>C</td>\n",
       "    </tr>\n",
       "  </tbody>\n",
       "</table>\n",
       "</div>"
      ],
      "text/plain": [
       "   PassengerId  Survived  Pclass  \\\n",
       "0            1         0       3   \n",
       "1            2         1       1   \n",
       "\n",
       "                                                Name     Sex   Age  SibSp  \\\n",
       "0                            Braund, Mr. Owen Harris    male  22.0      1   \n",
       "1  Cumings, Mrs. John Bradley (Florence Briggs Th...  female  38.0      1   \n",
       "\n",
       "   Parch     Ticket     Fare Cabin Embarked  \n",
       "0      0  A/5 21171   7.2500   NaN        S  \n",
       "1      0   PC 17599  71.2833   C85        C  "
      ]
     },
     "execution_count": 3,
     "metadata": {},
     "output_type": "execute_result"
    }
   ],
   "source": [
    "train_data.head(2)"
   ]
  },
  {
   "cell_type": "code",
   "execution_count": 4,
   "metadata": {},
   "outputs": [
    {
     "data": {
      "text/html": [
       "<div>\n",
       "<style scoped>\n",
       "    .dataframe tbody tr th:only-of-type {\n",
       "        vertical-align: middle;\n",
       "    }\n",
       "\n",
       "    .dataframe tbody tr th {\n",
       "        vertical-align: top;\n",
       "    }\n",
       "\n",
       "    .dataframe thead th {\n",
       "        text-align: right;\n",
       "    }\n",
       "</style>\n",
       "<table border=\"1\" class=\"dataframe\">\n",
       "  <thead>\n",
       "    <tr style=\"text-align: right;\">\n",
       "      <th></th>\n",
       "      <th>PassengerId</th>\n",
       "      <th>Pclass</th>\n",
       "      <th>Name</th>\n",
       "      <th>Sex</th>\n",
       "      <th>Age</th>\n",
       "      <th>SibSp</th>\n",
       "      <th>Parch</th>\n",
       "      <th>Ticket</th>\n",
       "      <th>Fare</th>\n",
       "      <th>Cabin</th>\n",
       "      <th>Embarked</th>\n",
       "    </tr>\n",
       "  </thead>\n",
       "  <tbody>\n",
       "    <tr>\n",
       "      <th>0</th>\n",
       "      <td>892</td>\n",
       "      <td>3</td>\n",
       "      <td>Kelly, Mr. James</td>\n",
       "      <td>male</td>\n",
       "      <td>34.5</td>\n",
       "      <td>0</td>\n",
       "      <td>0</td>\n",
       "      <td>330911</td>\n",
       "      <td>7.8292</td>\n",
       "      <td>NaN</td>\n",
       "      <td>Q</td>\n",
       "    </tr>\n",
       "    <tr>\n",
       "      <th>1</th>\n",
       "      <td>893</td>\n",
       "      <td>3</td>\n",
       "      <td>Wilkes, Mrs. James (Ellen Needs)</td>\n",
       "      <td>female</td>\n",
       "      <td>47.0</td>\n",
       "      <td>1</td>\n",
       "      <td>0</td>\n",
       "      <td>363272</td>\n",
       "      <td>7.0000</td>\n",
       "      <td>NaN</td>\n",
       "      <td>S</td>\n",
       "    </tr>\n",
       "  </tbody>\n",
       "</table>\n",
       "</div>"
      ],
      "text/plain": [
       "   PassengerId  Pclass                              Name     Sex   Age  SibSp  \\\n",
       "0          892       3                  Kelly, Mr. James    male  34.5      0   \n",
       "1          893       3  Wilkes, Mrs. James (Ellen Needs)  female  47.0      1   \n",
       "\n",
       "   Parch  Ticket    Fare Cabin Embarked  \n",
       "0      0  330911  7.8292   NaN        Q  \n",
       "1      0  363272  7.0000   NaN        S  "
      ]
     },
     "execution_count": 4,
     "metadata": {},
     "output_type": "execute_result"
    }
   ],
   "source": [
    "test_data.head(2)"
   ]
  },
  {
   "cell_type": "code",
   "execution_count": 5,
   "metadata": {},
   "outputs": [],
   "source": [
    "#Concatenating train and test for easy EDA\n",
    "train_data['train_or_test']='train'\n",
    "test_data['train_or_test']='test'\n",
    "all=pd.concat([train_data,test_data],sort=False)\n",
    "\n",
    "#Resetting index, removing old index\n",
    "all.reset_index(inplace=True)\n",
    "all.drop('index',axis=1,inplace=True)"
   ]
  },
  {
   "cell_type": "code",
   "execution_count": 6,
   "metadata": {},
   "outputs": [
    {
     "data": {
      "text/html": [
       "<div>\n",
       "<style scoped>\n",
       "    .dataframe tbody tr th:only-of-type {\n",
       "        vertical-align: middle;\n",
       "    }\n",
       "\n",
       "    .dataframe tbody tr th {\n",
       "        vertical-align: top;\n",
       "    }\n",
       "\n",
       "    .dataframe thead th {\n",
       "        text-align: right;\n",
       "    }\n",
       "</style>\n",
       "<table border=\"1\" class=\"dataframe\">\n",
       "  <thead>\n",
       "    <tr style=\"text-align: right;\">\n",
       "      <th></th>\n",
       "      <th>PassengerId</th>\n",
       "      <th>Survived</th>\n",
       "      <th>Pclass</th>\n",
       "      <th>Name</th>\n",
       "      <th>Sex</th>\n",
       "      <th>Age</th>\n",
       "      <th>SibSp</th>\n",
       "      <th>Parch</th>\n",
       "      <th>Ticket</th>\n",
       "      <th>Fare</th>\n",
       "      <th>Cabin</th>\n",
       "      <th>Embarked</th>\n",
       "      <th>train_or_test</th>\n",
       "    </tr>\n",
       "  </thead>\n",
       "  <tbody>\n",
       "    <tr>\n",
       "      <th>0</th>\n",
       "      <td>1</td>\n",
       "      <td>0.0</td>\n",
       "      <td>3</td>\n",
       "      <td>Braund, Mr. Owen Harris</td>\n",
       "      <td>male</td>\n",
       "      <td>22.0</td>\n",
       "      <td>1</td>\n",
       "      <td>0</td>\n",
       "      <td>A/5 21171</td>\n",
       "      <td>7.2500</td>\n",
       "      <td>NaN</td>\n",
       "      <td>S</td>\n",
       "      <td>train</td>\n",
       "    </tr>\n",
       "    <tr>\n",
       "      <th>1</th>\n",
       "      <td>2</td>\n",
       "      <td>1.0</td>\n",
       "      <td>1</td>\n",
       "      <td>Cumings, Mrs. John Bradley (Florence Briggs Th...</td>\n",
       "      <td>female</td>\n",
       "      <td>38.0</td>\n",
       "      <td>1</td>\n",
       "      <td>0</td>\n",
       "      <td>PC 17599</td>\n",
       "      <td>71.2833</td>\n",
       "      <td>C85</td>\n",
       "      <td>C</td>\n",
       "      <td>train</td>\n",
       "    </tr>\n",
       "  </tbody>\n",
       "</table>\n",
       "</div>"
      ],
      "text/plain": [
       "   PassengerId  Survived  Pclass  \\\n",
       "0            1       0.0       3   \n",
       "1            2       1.0       1   \n",
       "\n",
       "                                                Name     Sex   Age  SibSp  \\\n",
       "0                            Braund, Mr. Owen Harris    male  22.0      1   \n",
       "1  Cumings, Mrs. John Bradley (Florence Briggs Th...  female  38.0      1   \n",
       "\n",
       "   Parch     Ticket     Fare Cabin Embarked train_or_test  \n",
       "0      0  A/5 21171   7.2500   NaN        S         train  \n",
       "1      0   PC 17599  71.2833   C85        C         train  "
      ]
     },
     "execution_count": 6,
     "metadata": {},
     "output_type": "execute_result"
    }
   ],
   "source": [
    "all.head(2)"
   ]
  },
  {
   "cell_type": "markdown",
   "metadata": {},
   "source": [
    "### Exploratory Data Analysis"
   ]
  },
  {
   "cell_type": "markdown",
   "metadata": {},
   "source": [
    "Target variable: Survived (1/0), Potential Predictors: All Others"
   ]
  },
  {
   "cell_type": "markdown",
   "metadata": {},
   "source": [
    "#### Univariate Analysis"
   ]
  },
  {
   "cell_type": "code",
   "execution_count": 7,
   "metadata": {},
   "outputs": [
    {
     "name": "stdout",
     "output_type": "stream",
     "text": [
      "<class 'pandas.core.frame.DataFrame'>\n",
      "RangeIndex: 1309 entries, 0 to 1308\n",
      "Data columns (total 13 columns):\n",
      " #   Column         Non-Null Count  Dtype  \n",
      "---  ------         --------------  -----  \n",
      " 0   PassengerId    1309 non-null   int64  \n",
      " 1   Survived       891 non-null    float64\n",
      " 2   Pclass         1309 non-null   int64  \n",
      " 3   Name           1309 non-null   object \n",
      " 4   Sex            1309 non-null   object \n",
      " 5   Age            1046 non-null   float64\n",
      " 6   SibSp          1309 non-null   int64  \n",
      " 7   Parch          1309 non-null   int64  \n",
      " 8   Ticket         1309 non-null   object \n",
      " 9   Fare           1308 non-null   float64\n",
      " 10  Cabin          295 non-null    object \n",
      " 11  Embarked       1307 non-null   object \n",
      " 12  train_or_test  1309 non-null   object \n",
      "dtypes: float64(3), int64(4), object(6)\n",
      "memory usage: 133.1+ KB\n"
     ]
    }
   ],
   "source": [
    "all.info()"
   ]
  },
  {
   "cell_type": "code",
   "execution_count": 8,
   "metadata": {},
   "outputs": [
    {
     "data": {
      "text/html": [
       "<div>\n",
       "<style scoped>\n",
       "    .dataframe tbody tr th:only-of-type {\n",
       "        vertical-align: middle;\n",
       "    }\n",
       "\n",
       "    .dataframe tbody tr th {\n",
       "        vertical-align: top;\n",
       "    }\n",
       "\n",
       "    .dataframe thead th {\n",
       "        text-align: right;\n",
       "    }\n",
       "</style>\n",
       "<table border=\"1\" class=\"dataframe\">\n",
       "  <thead>\n",
       "    <tr style=\"text-align: right;\">\n",
       "      <th></th>\n",
       "      <th>PassengerId</th>\n",
       "      <th>Survived</th>\n",
       "      <th>Pclass</th>\n",
       "      <th>Age</th>\n",
       "      <th>SibSp</th>\n",
       "      <th>Parch</th>\n",
       "      <th>Fare</th>\n",
       "    </tr>\n",
       "  </thead>\n",
       "  <tbody>\n",
       "    <tr>\n",
       "      <th>count</th>\n",
       "      <td>1309.000000</td>\n",
       "      <td>891.000000</td>\n",
       "      <td>1309.000000</td>\n",
       "      <td>1046.000000</td>\n",
       "      <td>1309.000000</td>\n",
       "      <td>1309.000000</td>\n",
       "      <td>1308.000000</td>\n",
       "    </tr>\n",
       "    <tr>\n",
       "      <th>mean</th>\n",
       "      <td>655.000000</td>\n",
       "      <td>0.383838</td>\n",
       "      <td>2.294882</td>\n",
       "      <td>29.881138</td>\n",
       "      <td>0.498854</td>\n",
       "      <td>0.385027</td>\n",
       "      <td>33.295479</td>\n",
       "    </tr>\n",
       "    <tr>\n",
       "      <th>std</th>\n",
       "      <td>378.020061</td>\n",
       "      <td>0.486592</td>\n",
       "      <td>0.837836</td>\n",
       "      <td>14.413493</td>\n",
       "      <td>1.041658</td>\n",
       "      <td>0.865560</td>\n",
       "      <td>51.758668</td>\n",
       "    </tr>\n",
       "    <tr>\n",
       "      <th>min</th>\n",
       "      <td>1.000000</td>\n",
       "      <td>0.000000</td>\n",
       "      <td>1.000000</td>\n",
       "      <td>0.170000</td>\n",
       "      <td>0.000000</td>\n",
       "      <td>0.000000</td>\n",
       "      <td>0.000000</td>\n",
       "    </tr>\n",
       "    <tr>\n",
       "      <th>25%</th>\n",
       "      <td>328.000000</td>\n",
       "      <td>0.000000</td>\n",
       "      <td>2.000000</td>\n",
       "      <td>21.000000</td>\n",
       "      <td>0.000000</td>\n",
       "      <td>0.000000</td>\n",
       "      <td>7.895800</td>\n",
       "    </tr>\n",
       "    <tr>\n",
       "      <th>50%</th>\n",
       "      <td>655.000000</td>\n",
       "      <td>0.000000</td>\n",
       "      <td>3.000000</td>\n",
       "      <td>28.000000</td>\n",
       "      <td>0.000000</td>\n",
       "      <td>0.000000</td>\n",
       "      <td>14.454200</td>\n",
       "    </tr>\n",
       "    <tr>\n",
       "      <th>75%</th>\n",
       "      <td>982.000000</td>\n",
       "      <td>1.000000</td>\n",
       "      <td>3.000000</td>\n",
       "      <td>39.000000</td>\n",
       "      <td>1.000000</td>\n",
       "      <td>0.000000</td>\n",
       "      <td>31.275000</td>\n",
       "    </tr>\n",
       "    <tr>\n",
       "      <th>max</th>\n",
       "      <td>1309.000000</td>\n",
       "      <td>1.000000</td>\n",
       "      <td>3.000000</td>\n",
       "      <td>80.000000</td>\n",
       "      <td>8.000000</td>\n",
       "      <td>9.000000</td>\n",
       "      <td>512.329200</td>\n",
       "    </tr>\n",
       "  </tbody>\n",
       "</table>\n",
       "</div>"
      ],
      "text/plain": [
       "       PassengerId    Survived       Pclass          Age        SibSp  \\\n",
       "count  1309.000000  891.000000  1309.000000  1046.000000  1309.000000   \n",
       "mean    655.000000    0.383838     2.294882    29.881138     0.498854   \n",
       "std     378.020061    0.486592     0.837836    14.413493     1.041658   \n",
       "min       1.000000    0.000000     1.000000     0.170000     0.000000   \n",
       "25%     328.000000    0.000000     2.000000    21.000000     0.000000   \n",
       "50%     655.000000    0.000000     3.000000    28.000000     0.000000   \n",
       "75%     982.000000    1.000000     3.000000    39.000000     1.000000   \n",
       "max    1309.000000    1.000000     3.000000    80.000000     8.000000   \n",
       "\n",
       "             Parch         Fare  \n",
       "count  1309.000000  1308.000000  \n",
       "mean      0.385027    33.295479  \n",
       "std       0.865560    51.758668  \n",
       "min       0.000000     0.000000  \n",
       "25%       0.000000     7.895800  \n",
       "50%       0.000000    14.454200  \n",
       "75%       0.000000    31.275000  \n",
       "max       9.000000   512.329200  "
      ]
     },
     "execution_count": 8,
     "metadata": {},
     "output_type": "execute_result"
    }
   ],
   "source": [
    "all.describe()"
   ]
  },
  {
   "cell_type": "code",
   "execution_count": 9,
   "metadata": {},
   "outputs": [
    {
     "data": {
      "text/plain": [
       "<matplotlib.axes._subplots.AxesSubplot at 0x7f7d606809d0>"
      ]
     },
     "execution_count": 9,
     "metadata": {},
     "output_type": "execute_result"
    },
    {
     "data": {
      "image/png": "[encoded data removed]",
      "text/plain": [
       "<Figure size 432x288 with 2 Axes>"
      ]
     },
     "metadata": {
      "needs_background": "light"
     },
     "output_type": "display_data"
    }
   ],
   "source": [
    "#Visualization to check for missing values\n",
    "sns.heatmap(all.isnull())"
   ]
  },
  {
   "cell_type": "markdown",
   "metadata": {},
   "source": [
    "Age, Cabin have significant rows with missing values,while Fare & Embarked have a few rows. Survived missing values from test data."
   ]
  },
  {
   "cell_type": "code",
   "execution_count": 10,
   "metadata": {},
   "outputs": [
    {
     "data": {
      "text/plain": [
       "<matplotlib.axes._subplots.AxesSubplot at 0x7f7d6029e710>"
      ]
     },
     "execution_count": 10,
     "metadata": {},
     "output_type": "execute_result"
    },
    {
     "data": {
      "image/png": "[encoded data removed]",
      "text/plain": [
       "<Figure size 432x288 with 1 Axes>"
      ]
     },
     "metadata": {},
     "output_type": "display_data"
    }
   ],
   "source": [
    "#Survived\n",
    "sns.set_style('whitegrid')\n",
    "sns.countplot('Survived',hue='train_or_test',data=all)"
   ]
  },
  {
   "cell_type": "code",
   "execution_count": 11,
   "metadata": {},
   "outputs": [
    {
     "data": {
      "text/plain": [
       "3    709\n",
       "1    323\n",
       "2    277\n",
       "Name: Pclass, dtype: int64"
      ]
     },
     "execution_count": 11,
     "metadata": {},
     "output_type": "execute_result"
    }
   ],
   "source": [
    "#Pclass\n",
    "all['Pclass'].value_counts()"
   ]
  },
  {
   "cell_type": "code",
   "execution_count": 12,
   "metadata": {},
   "outputs": [
    {
     "data": {
      "text/plain": [
       "(                 Survived\n",
       " Pclass Survived          \n",
       " 1      0.0             80\n",
       "        1.0            136\n",
       " 2      0.0             97\n",
       "        1.0             87\n",
       " 3      0.0            372\n",
       "        1.0            119,\n",
       "                  Survived\n",
       " Pclass Survived          \n",
       " 1      0.0          37.04\n",
       "        1.0          62.96\n",
       " 2      0.0          52.72\n",
       "        1.0          47.28\n",
       " 3      0.0          75.76\n",
       "        1.0          24.24)"
      ]
     },
     "execution_count": 12,
     "metadata": {},
     "output_type": "execute_result"
    }
   ],
   "source": [
    "groupby_df = all[all['train_or_test']=='train'].groupby(['Pclass', 'Survived']).agg({'Survived': 'count'})\n",
    "groupby_pcts = groupby_df.groupby(level=0).apply(lambda x:round(100 * x / x.sum(),2))\n",
    "groupby_df,groupby_pcts"
   ]
  },
  {
   "cell_type": "markdown",
   "metadata": {},
   "source": [
    "Clearly Pclass=1 has higher chance of survival ~63% vs Pclass=2(47%) and Pclass=3(24%)"
   ]
  },
  {
   "cell_type": "code",
   "execution_count": 13,
   "metadata": {},
   "outputs": [
    {
     "data": {
      "text/plain": [
       "Connolly, Miss. Kate              2\n",
       "Kelly, Mr. James                  2\n",
       "Thorne, Mrs. Gertrude Maybelle    1\n",
       "Kelly, Mrs. Florence \"Fannie\"     1\n",
       "Head, Mr. Christopher             1\n",
       "                                 ..\n",
       "Goldsmith, Mr. Frank John         1\n",
       "Patchett, Mr. George              1\n",
       "Chapman, Mr. John Henry           1\n",
       "Kiernan, Mr. John                 1\n",
       "Meyer, Mr. Edgar Joseph           1\n",
       "Name: Name, Length: 1307, dtype: int64"
      ]
     },
     "execution_count": 13,
     "metadata": {},
     "output_type": "execute_result"
    }
   ],
   "source": [
    "#Name\n",
    "all['Name'].value_counts()"
   ]
  },
  {
   "cell_type": "code",
   "execution_count": 14,
   "metadata": {},
   "outputs": [
    {
     "data": {
      "text/plain": [
       "2"
      ]
     },
     "execution_count": 14,
     "metadata": {},
     "output_type": "execute_result"
    }
   ],
   "source": [
    "sum(all['Name'].value_counts()>1)"
   ]
  },
  {
   "cell_type": "code",
   "execution_count": 15,
   "metadata": {},
   "outputs": [
    {
     "data": {
      "text/html": [
       "<div>\n",
       "<style scoped>\n",
       "    .dataframe tbody tr th:only-of-type {\n",
       "        vertical-align: middle;\n",
       "    }\n",
       "\n",
       "    .dataframe tbody tr th {\n",
       "        vertical-align: top;\n",
       "    }\n",
       "\n",
       "    .dataframe thead th {\n",
       "        text-align: right;\n",
       "    }\n",
       "</style>\n",
       "<table border=\"1\" class=\"dataframe\">\n",
       "  <thead>\n",
       "    <tr style=\"text-align: right;\">\n",
       "      <th></th>\n",
       "      <th>PassengerId</th>\n",
       "      <th>Survived</th>\n",
       "      <th>Pclass</th>\n",
       "      <th>Name</th>\n",
       "      <th>Sex</th>\n",
       "      <th>Age</th>\n",
       "      <th>SibSp</th>\n",
       "      <th>Parch</th>\n",
       "      <th>Ticket</th>\n",
       "      <th>Fare</th>\n",
       "      <th>Cabin</th>\n",
       "      <th>Embarked</th>\n",
       "      <th>train_or_test</th>\n",
       "    </tr>\n",
       "  </thead>\n",
       "  <tbody>\n",
       "    <tr>\n",
       "      <th>289</th>\n",
       "      <td>290</td>\n",
       "      <td>1.0</td>\n",
       "      <td>3</td>\n",
       "      <td>Connolly, Miss. Kate</td>\n",
       "      <td>female</td>\n",
       "      <td>22.0</td>\n",
       "      <td>0</td>\n",
       "      <td>0</td>\n",
       "      <td>370373</td>\n",
       "      <td>7.7500</td>\n",
       "      <td>NaN</td>\n",
       "      <td>Q</td>\n",
       "      <td>train</td>\n",
       "    </tr>\n",
       "    <tr>\n",
       "      <th>696</th>\n",
       "      <td>697</td>\n",
       "      <td>0.0</td>\n",
       "      <td>3</td>\n",
       "      <td>Kelly, Mr. James</td>\n",
       "      <td>male</td>\n",
       "      <td>44.0</td>\n",
       "      <td>0</td>\n",
       "      <td>0</td>\n",
       "      <td>363592</td>\n",
       "      <td>8.0500</td>\n",
       "      <td>NaN</td>\n",
       "      <td>S</td>\n",
       "      <td>train</td>\n",
       "    </tr>\n",
       "    <tr>\n",
       "      <th>891</th>\n",
       "      <td>892</td>\n",
       "      <td>NaN</td>\n",
       "      <td>3</td>\n",
       "      <td>Kelly, Mr. James</td>\n",
       "      <td>male</td>\n",
       "      <td>34.5</td>\n",
       "      <td>0</td>\n",
       "      <td>0</td>\n",
       "      <td>330911</td>\n",
       "      <td>7.8292</td>\n",
       "      <td>NaN</td>\n",
       "      <td>Q</td>\n",
       "      <td>test</td>\n",
       "    </tr>\n",
       "    <tr>\n",
       "      <th>897</th>\n",
       "      <td>898</td>\n",
       "      <td>NaN</td>\n",
       "      <td>3</td>\n",
       "      <td>Connolly, Miss. Kate</td>\n",
       "      <td>female</td>\n",
       "      <td>30.0</td>\n",
       "      <td>0</td>\n",
       "      <td>0</td>\n",
       "      <td>330972</td>\n",
       "      <td>7.6292</td>\n",
       "      <td>NaN</td>\n",
       "      <td>Q</td>\n",
       "      <td>test</td>\n",
       "    </tr>\n",
       "  </tbody>\n",
       "</table>\n",
       "</div>"
      ],
      "text/plain": [
       "     PassengerId  Survived  Pclass                  Name     Sex   Age  SibSp  \\\n",
       "289          290       1.0       3  Connolly, Miss. Kate  female  22.0      0   \n",
       "696          697       0.0       3      Kelly, Mr. James    male  44.0      0   \n",
       "891          892       NaN       3      Kelly, Mr. James    male  34.5      0   \n",
       "897          898       NaN       3  Connolly, Miss. Kate  female  30.0      0   \n",
       "\n",
       "     Parch  Ticket    Fare Cabin Embarked train_or_test  \n",
       "289      0  370373  7.7500   NaN        Q         train  \n",
       "696      0  363592  8.0500   NaN        S         train  \n",
       "891      0  330911  7.8292   NaN        Q          test  \n",
       "897      0  330972  7.6292   NaN        Q          test  "
      ]
     },
     "execution_count": 15,
     "metadata": {},
     "output_type": "execute_result"
    }
   ],
   "source": [
    "all[(all['Name']=='Kelly, Mr. James') | (all['Name']=='Connolly, Miss. Kate')]"
   ]
  },
  {
   "cell_type": "code",
   "execution_count": 16,
   "metadata": {},
   "outputs": [
    {
     "data": {
      "text/plain": [
       "male      843\n",
       "female    466\n",
       "Name: Sex, dtype: int64"
      ]
     },
     "execution_count": 16,
     "metadata": {},
     "output_type": "execute_result"
    }
   ],
   "source": [
    "#Sex\n",
    "all['Sex'].value_counts()"
   ]
  },
  {
   "cell_type": "code",
   "execution_count": 17,
   "metadata": {},
   "outputs": [
    {
     "data": {
      "text/plain": [
       "(                 Survived\n",
       " Sex    Survived          \n",
       " female 0.0             81\n",
       "        1.0            233\n",
       " male   0.0            468\n",
       "        1.0            109,\n",
       "                  Survived\n",
       " Sex    Survived          \n",
       " female 0.0          25.80\n",
       "        1.0          74.20\n",
       " male   0.0          81.11\n",
       "        1.0          18.89)"
      ]
     },
     "execution_count": 17,
     "metadata": {},
     "output_type": "execute_result"
    }
   ],
   "source": [
    "groupby_df = all[all['train_or_test']=='train'].groupby(['Sex', 'Survived']).agg({'Survived': 'count'})\n",
    "groupby_pcts = groupby_df.groupby(level=0).apply(lambda x:round(100 * x / x.sum(),2))\n",
    "groupby_df,groupby_pcts"
   ]
  },
  {
   "cell_type": "markdown",
   "metadata": {},
   "source": [
    "Female has higher chance of survival ~74% vs Male 19%"
   ]
  },
  {
   "cell_type": "code",
   "execution_count": 18,
   "metadata": {},
   "outputs": [
    {
     "data": {
      "text/plain": [
       "<matplotlib.axes._subplots.AxesSubplot at 0x7f7d60210710>"
      ]
     },
     "execution_count": 18,
     "metadata": {},
     "output_type": "execute_result"
    },
    {
     "data": {
      "image/png": "[encoded data removed]",
      "text/plain": [
       "<Figure size 432x288 with 1 Axes>"
      ]
     },
     "metadata": {},
     "output_type": "display_data"
    }
   ],
   "source": [
    "#Age\n",
    "sns.boxplot(all['Age'])"
   ]
  },
  {
   "cell_type": "code",
   "execution_count": 19,
   "metadata": {},
   "outputs": [
    {
     "data": {
      "text/plain": [
       "<matplotlib.axes._subplots.AxesSubplot at 0x7f7d6027cf50>"
      ]
     },
     "execution_count": 19,
     "metadata": {},
     "output_type": "execute_result"
    },
    {
     "data": {
      "image/png": "[encoded data removed]",
      "text/plain": [
       "<Figure size 432x288 with 1 Axes>"
      ]
     },
     "metadata": {},
     "output_type": "display_data"
    }
   ],
   "source": [
    "sns.distplot(all[all['Survived']==0]['Age'],bins=30,color='blue')\n",
    "sns.distplot(all[all['Survived']==1]['Age'],bins=30,color='red')"
   ]
  },
  {
   "cell_type": "markdown",
   "metadata": {},
   "source": [
    "Lower age has higher chance of survival and the ages are almost normally distributed. "
   ]
  },
  {
   "cell_type": "code",
   "execution_count": 20,
   "metadata": {},
   "outputs": [
    {
     "data": {
      "text/plain": [
       "<matplotlib.axes._subplots.AxesSubplot at 0x7f7d60048910>"
      ]
     },
     "execution_count": 20,
     "metadata": {},
     "output_type": "execute_result"
    },
    {
     "data": {
      "image/png": "[encoded data removed]",
      "text/plain": [
       "<Figure size 432x288 with 1 Axes>"
      ]
     },
     "metadata": {},
     "output_type": "display_data"
    }
   ],
   "source": [
    "#SibSp\n",
    "sns.countplot('SibSp',data=all)"
   ]
  },
  {
   "cell_type": "code",
   "execution_count": 21,
   "metadata": {},
   "outputs": [
    {
     "data": {
      "text/plain": [
       "(                Survived\n",
       " SibSp Survived          \n",
       " 0     0.0            398\n",
       "       1.0            210\n",
       " 1     0.0             97\n",
       "       1.0            112\n",
       " 2     0.0             15\n",
       "       1.0             13\n",
       " 3     0.0             12\n",
       "       1.0              4\n",
       " 4     0.0             15\n",
       "       1.0              3\n",
       " 5     0.0              5\n",
       " 8     0.0              7,\n",
       "                 Survived\n",
       " SibSp Survived          \n",
       " 0     0.0          65.46\n",
       "       1.0          34.54\n",
       " 1     0.0          46.41\n",
       "       1.0          53.59\n",
       " 2     0.0          53.57\n",
       "       1.0          46.43\n",
       " 3     0.0          75.00\n",
       "       1.0          25.00\n",
       " 4     0.0          83.33\n",
       "       1.0          16.67\n",
       " 5     0.0         100.00\n",
       " 8     0.0         100.00)"
      ]
     },
     "execution_count": 21,
     "metadata": {},
     "output_type": "execute_result"
    }
   ],
   "source": [
    "groupby_df = all[all['train_or_test']=='train'].groupby(['SibSp', 'Survived']).agg({'Survived': 'count'})\n",
    "groupby_pcts = groupby_df.groupby(level=0).apply(lambda x:round(100 * x / x.sum(),2))\n",
    "groupby_df,groupby_pcts"
   ]
  },
  {
   "cell_type": "markdown",
   "metadata": {},
   "source": [
    "Passengers with 1,2 Siblings/Spouses have a higher chance of Survival "
   ]
  },
  {
   "cell_type": "code",
   "execution_count": 22,
   "metadata": {},
   "outputs": [
    {
     "data": {
      "text/plain": [
       "<matplotlib.axes._subplots.AxesSubplot at 0x7f7d59fda950>"
      ]
     },
     "execution_count": 22,
     "metadata": {},
     "output_type": "execute_result"
    },
    {
     "data": {
      "image/png": "[encoded data removed]",
      "text/plain": [
       "<Figure size 432x288 with 1 Axes>"
      ]
     },
     "metadata": {},
     "output_type": "display_data"
    }
   ],
   "source": [
    "#Parch\n",
    "sns.countplot('Parch',data=all)"
   ]
  },
  {
   "cell_type": "code",
   "execution_count": 23,
   "metadata": {},
   "outputs": [
    {
     "data": {
      "text/plain": [
       "(                Survived\n",
       " Parch Survived          \n",
       " 0     0.0            445\n",
       "       1.0            233\n",
       " 1     0.0             53\n",
       "       1.0             65\n",
       " 2     0.0             40\n",
       "       1.0             40\n",
       " 3     0.0              2\n",
       "       1.0              3\n",
       " 4     0.0              4\n",
       " 5     0.0              4\n",
       "       1.0              1\n",
       " 6     0.0              1,\n",
       "                 Survived\n",
       " Parch Survived          \n",
       " 0     0.0          65.63\n",
       "       1.0          34.37\n",
       " 1     0.0          44.92\n",
       "       1.0          55.08\n",
       " 2     0.0          50.00\n",
       "       1.0          50.00\n",
       " 3     0.0          40.00\n",
       "       1.0          60.00\n",
       " 4     0.0         100.00\n",
       " 5     0.0          80.00\n",
       "       1.0          20.00\n",
       " 6     0.0         100.00)"
      ]
     },
     "execution_count": 23,
     "metadata": {},
     "output_type": "execute_result"
    }
   ],
   "source": [
    "groupby_df = all[all['train_or_test']=='train'].groupby(['Parch', 'Survived']).agg({'Survived': 'count'})\n",
    "groupby_pcts = groupby_df.groupby(level=0).apply(lambda x:round(100 * x / x.sum(),2))\n",
    "groupby_df,groupby_pcts"
   ]
  },
  {
   "cell_type": "markdown",
   "metadata": {},
   "source": [
    "1-3 Parents/Children have higher chance of Survival"
   ]
  },
  {
   "cell_type": "code",
   "execution_count": 24,
   "metadata": {},
   "outputs": [
    {
     "data": {
      "text/plain": [
       "CA. 2343        11\n",
       "CA 2144          8\n",
       "1601             8\n",
       "347082           7\n",
       "S.O.C. 14879     7\n",
       "                ..\n",
       "12460            1\n",
       "347091           1\n",
       "347086           1\n",
       "A./5. 3338       1\n",
       "C.A. 49867       1\n",
       "Name: Ticket, Length: 929, dtype: int64"
      ]
     },
     "execution_count": 24,
     "metadata": {},
     "output_type": "execute_result"
    }
   ],
   "source": [
    "#Ticket\n",
    "all['Ticket'].value_counts()"
   ]
  },
  {
   "cell_type": "code",
   "execution_count": 25,
   "metadata": {},
   "outputs": [
    {
     "data": {
      "text/plain": [
       "216"
      ]
     },
     "execution_count": 25,
     "metadata": {},
     "output_type": "execute_result"
    }
   ],
   "source": [
    "sum(all['Ticket'].value_counts()>1)"
   ]
  },
  {
   "cell_type": "code",
   "execution_count": 26,
   "metadata": {},
   "outputs": [
    {
     "data": {
      "text/plain": [
       "<matplotlib.axes._subplots.AxesSubplot at 0x7f7d59f68210>"
      ]
     },
     "execution_count": 26,
     "metadata": {},
     "output_type": "execute_result"
    },
    {
     "data": {
      "image/png": "[encoded data removed]",
      "text/plain": [
       "<Figure size 432x288 with 1 Axes>"
      ]
     },
     "metadata": {},
     "output_type": "display_data"
    }
   ],
   "source": [
    "#Fare\n",
    "sns.boxplot(all['Fare'])"
   ]
  },
  {
   "cell_type": "code",
   "execution_count": 27,
   "metadata": {},
   "outputs": [
    {
     "data": {
      "text/plain": [
       "<matplotlib.axes._subplots.AxesSubplot at 0x7f7d59f8ad90>"
      ]
     },
     "execution_count": 27,
     "metadata": {},
     "output_type": "execute_result"
    },
    {
     "data": {
      "image/png": "[encoded data removed]",
      "text/plain": [
       "<Figure size 432x288 with 1 Axes>"
      ]
     },
     "metadata": {},
     "output_type": "display_data"
    }
   ],
   "source": [
    "sns.distplot(all[all['Survived']==0]['Fare'],bins=30,color='blue')\n",
    "sns.distplot(all[all['Survived']==1]['Fare'],bins=30,color='red')"
   ]
  },
  {
   "cell_type": "markdown",
   "metadata": {},
   "source": [
    "We see passengers with higher Fare have a higher chance of survival"
   ]
  },
  {
   "cell_type": "code",
   "execution_count": 28,
   "metadata": {},
   "outputs": [
    {
     "data": {
      "text/plain": [
       "C23 C25 C27        6\n",
       "B57 B59 B63 B66    5\n",
       "G6                 5\n",
       "D                  4\n",
       "C22 C26            4\n",
       "                  ..\n",
       "B61                1\n",
       "C104               1\n",
       "A14                1\n",
       "D56                1\n",
       "A18                1\n",
       "Name: Cabin, Length: 186, dtype: int64"
      ]
     },
     "execution_count": 28,
     "metadata": {},
     "output_type": "execute_result"
    }
   ],
   "source": [
    "#Cabin\n",
    "all['Cabin'].value_counts()"
   ]
  },
  {
   "cell_type": "code",
   "execution_count": 29,
   "metadata": {},
   "outputs": [
    {
     "data": {
      "text/plain": [
       "79"
      ]
     },
     "execution_count": 29,
     "metadata": {},
     "output_type": "execute_result"
    }
   ],
   "source": [
    "sum(all['Cabin'].value_counts()>1)"
   ]
  },
  {
   "cell_type": "code",
   "execution_count": 30,
   "metadata": {},
   "outputs": [
    {
     "data": {
      "text/html": [
       "<div>\n",
       "<style scoped>\n",
       "    .dataframe tbody tr th:only-of-type {\n",
       "        vertical-align: middle;\n",
       "    }\n",
       "\n",
       "    .dataframe tbody tr th {\n",
       "        vertical-align: top;\n",
       "    }\n",
       "\n",
       "    .dataframe thead th {\n",
       "        text-align: right;\n",
       "    }\n",
       "</style>\n",
       "<table border=\"1\" class=\"dataframe\">\n",
       "  <thead>\n",
       "    <tr style=\"text-align: right;\">\n",
       "      <th></th>\n",
       "      <th>PassengerId</th>\n",
       "      <th>Survived</th>\n",
       "      <th>Pclass</th>\n",
       "      <th>Name</th>\n",
       "      <th>Sex</th>\n",
       "      <th>Age</th>\n",
       "      <th>SibSp</th>\n",
       "      <th>Parch</th>\n",
       "      <th>Ticket</th>\n",
       "      <th>Fare</th>\n",
       "      <th>Cabin</th>\n",
       "      <th>Embarked</th>\n",
       "      <th>train_or_test</th>\n",
       "    </tr>\n",
       "  </thead>\n",
       "  <tbody>\n",
       "    <tr>\n",
       "      <th>27</th>\n",
       "      <td>28</td>\n",
       "      <td>0.0</td>\n",
       "      <td>1</td>\n",
       "      <td>Fortune, Mr. Charles Alexander</td>\n",
       "      <td>male</td>\n",
       "      <td>19.0</td>\n",
       "      <td>3</td>\n",
       "      <td>2</td>\n",
       "      <td>19950</td>\n",
       "      <td>263.0</td>\n",
       "      <td>C23 C25 C27</td>\n",
       "      <td>S</td>\n",
       "      <td>train</td>\n",
       "    </tr>\n",
       "    <tr>\n",
       "      <th>88</th>\n",
       "      <td>89</td>\n",
       "      <td>1.0</td>\n",
       "      <td>1</td>\n",
       "      <td>Fortune, Miss. Mabel Helen</td>\n",
       "      <td>female</td>\n",
       "      <td>23.0</td>\n",
       "      <td>3</td>\n",
       "      <td>2</td>\n",
       "      <td>19950</td>\n",
       "      <td>263.0</td>\n",
       "      <td>C23 C25 C27</td>\n",
       "      <td>S</td>\n",
       "      <td>train</td>\n",
       "    </tr>\n",
       "    <tr>\n",
       "      <th>341</th>\n",
       "      <td>342</td>\n",
       "      <td>1.0</td>\n",
       "      <td>1</td>\n",
       "      <td>Fortune, Miss. Alice Elizabeth</td>\n",
       "      <td>female</td>\n",
       "      <td>24.0</td>\n",
       "      <td>3</td>\n",
       "      <td>2</td>\n",
       "      <td>19950</td>\n",
       "      <td>263.0</td>\n",
       "      <td>C23 C25 C27</td>\n",
       "      <td>S</td>\n",
       "      <td>train</td>\n",
       "    </tr>\n",
       "    <tr>\n",
       "      <th>438</th>\n",
       "      <td>439</td>\n",
       "      <td>0.0</td>\n",
       "      <td>1</td>\n",
       "      <td>Fortune, Mr. Mark</td>\n",
       "      <td>male</td>\n",
       "      <td>64.0</td>\n",
       "      <td>1</td>\n",
       "      <td>4</td>\n",
       "      <td>19950</td>\n",
       "      <td>263.0</td>\n",
       "      <td>C23 C25 C27</td>\n",
       "      <td>S</td>\n",
       "      <td>train</td>\n",
       "    </tr>\n",
       "    <tr>\n",
       "      <th>944</th>\n",
       "      <td>945</td>\n",
       "      <td>NaN</td>\n",
       "      <td>1</td>\n",
       "      <td>Fortune, Miss. Ethel Flora</td>\n",
       "      <td>female</td>\n",
       "      <td>28.0</td>\n",
       "      <td>3</td>\n",
       "      <td>2</td>\n",
       "      <td>19950</td>\n",
       "      <td>263.0</td>\n",
       "      <td>C23 C25 C27</td>\n",
       "      <td>S</td>\n",
       "      <td>test</td>\n",
       "    </tr>\n",
       "    <tr>\n",
       "      <th>960</th>\n",
       "      <td>961</td>\n",
       "      <td>NaN</td>\n",
       "      <td>1</td>\n",
       "      <td>Fortune, Mrs. Mark (Mary McDougald)</td>\n",
       "      <td>female</td>\n",
       "      <td>60.0</td>\n",
       "      <td>1</td>\n",
       "      <td>4</td>\n",
       "      <td>19950</td>\n",
       "      <td>263.0</td>\n",
       "      <td>C23 C25 C27</td>\n",
       "      <td>S</td>\n",
       "      <td>test</td>\n",
       "    </tr>\n",
       "  </tbody>\n",
       "</table>\n",
       "</div>"
      ],
      "text/plain": [
       "     PassengerId  Survived  Pclass                                 Name  \\\n",
       "27            28       0.0       1       Fortune, Mr. Charles Alexander   \n",
       "88            89       1.0       1           Fortune, Miss. Mabel Helen   \n",
       "341          342       1.0       1       Fortune, Miss. Alice Elizabeth   \n",
       "438          439       0.0       1                    Fortune, Mr. Mark   \n",
       "944          945       NaN       1           Fortune, Miss. Ethel Flora   \n",
       "960          961       NaN       1  Fortune, Mrs. Mark (Mary McDougald)   \n",
       "\n",
       "        Sex   Age  SibSp  Parch Ticket   Fare        Cabin Embarked  \\\n",
       "27     male  19.0      3      2  19950  263.0  C23 C25 C27        S   \n",
       "88   female  23.0      3      2  19950  263.0  C23 C25 C27        S   \n",
       "341  female  24.0      3      2  19950  263.0  C23 C25 C27        S   \n",
       "438    male  64.0      1      4  19950  263.0  C23 C25 C27        S   \n",
       "944  female  28.0      3      2  19950  263.0  C23 C25 C27        S   \n",
       "960  female  60.0      1      4  19950  263.0  C23 C25 C27        S   \n",
       "\n",
       "    train_or_test  \n",
       "27          train  \n",
       "88          train  \n",
       "341         train  \n",
       "438         train  \n",
       "944          test  \n",
       "960          test  "
      ]
     },
     "execution_count": 30,
     "metadata": {},
     "output_type": "execute_result"
    }
   ],
   "source": [
    "all[all['Cabin']=='C23 C25 C27'] "
   ]
  },
  {
   "cell_type": "code",
   "execution_count": 31,
   "metadata": {},
   "outputs": [
    {
     "data": {
      "text/html": [
       "<div>\n",
       "<style scoped>\n",
       "    .dataframe tbody tr th:only-of-type {\n",
       "        vertical-align: middle;\n",
       "    }\n",
       "\n",
       "    .dataframe tbody tr th {\n",
       "        vertical-align: top;\n",
       "    }\n",
       "\n",
       "    .dataframe thead th {\n",
       "        text-align: right;\n",
       "    }\n",
       "</style>\n",
       "<table border=\"1\" class=\"dataframe\">\n",
       "  <thead>\n",
       "    <tr style=\"text-align: right;\">\n",
       "      <th></th>\n",
       "      <th>PassengerId</th>\n",
       "      <th>Survived</th>\n",
       "      <th>Pclass</th>\n",
       "      <th>Name</th>\n",
       "      <th>Sex</th>\n",
       "      <th>Age</th>\n",
       "      <th>SibSp</th>\n",
       "      <th>Parch</th>\n",
       "      <th>Ticket</th>\n",
       "      <th>Fare</th>\n",
       "      <th>Cabin</th>\n",
       "      <th>Embarked</th>\n",
       "      <th>train_or_test</th>\n",
       "    </tr>\n",
       "  </thead>\n",
       "  <tbody>\n",
       "    <tr>\n",
       "      <th>311</th>\n",
       "      <td>312</td>\n",
       "      <td>1.0</td>\n",
       "      <td>1</td>\n",
       "      <td>Ryerson, Miss. Emily Borie</td>\n",
       "      <td>female</td>\n",
       "      <td>18.0</td>\n",
       "      <td>2</td>\n",
       "      <td>2</td>\n",
       "      <td>PC 17608</td>\n",
       "      <td>262.375</td>\n",
       "      <td>B57 B59 B63 B66</td>\n",
       "      <td>C</td>\n",
       "      <td>train</td>\n",
       "    </tr>\n",
       "    <tr>\n",
       "      <th>742</th>\n",
       "      <td>743</td>\n",
       "      <td>1.0</td>\n",
       "      <td>1</td>\n",
       "      <td>Ryerson, Miss. Susan Parker \"Suzette\"</td>\n",
       "      <td>female</td>\n",
       "      <td>21.0</td>\n",
       "      <td>2</td>\n",
       "      <td>2</td>\n",
       "      <td>PC 17608</td>\n",
       "      <td>262.375</td>\n",
       "      <td>B57 B59 B63 B66</td>\n",
       "      <td>C</td>\n",
       "      <td>train</td>\n",
       "    </tr>\n",
       "    <tr>\n",
       "      <th>915</th>\n",
       "      <td>916</td>\n",
       "      <td>NaN</td>\n",
       "      <td>1</td>\n",
       "      <td>Ryerson, Mrs. Arthur Larned (Emily Maria Borie)</td>\n",
       "      <td>female</td>\n",
       "      <td>48.0</td>\n",
       "      <td>1</td>\n",
       "      <td>3</td>\n",
       "      <td>PC 17608</td>\n",
       "      <td>262.375</td>\n",
       "      <td>B57 B59 B63 B66</td>\n",
       "      <td>C</td>\n",
       "      <td>test</td>\n",
       "    </tr>\n",
       "    <tr>\n",
       "      <th>955</th>\n",
       "      <td>956</td>\n",
       "      <td>NaN</td>\n",
       "      <td>1</td>\n",
       "      <td>Ryerson, Master. John Borie</td>\n",
       "      <td>male</td>\n",
       "      <td>13.0</td>\n",
       "      <td>2</td>\n",
       "      <td>2</td>\n",
       "      <td>PC 17608</td>\n",
       "      <td>262.375</td>\n",
       "      <td>B57 B59 B63 B66</td>\n",
       "      <td>C</td>\n",
       "      <td>test</td>\n",
       "    </tr>\n",
       "    <tr>\n",
       "      <th>1033</th>\n",
       "      <td>1034</td>\n",
       "      <td>NaN</td>\n",
       "      <td>1</td>\n",
       "      <td>Ryerson, Mr. Arthur Larned</td>\n",
       "      <td>male</td>\n",
       "      <td>61.0</td>\n",
       "      <td>1</td>\n",
       "      <td>3</td>\n",
       "      <td>PC 17608</td>\n",
       "      <td>262.375</td>\n",
       "      <td>B57 B59 B63 B66</td>\n",
       "      <td>C</td>\n",
       "      <td>test</td>\n",
       "    </tr>\n",
       "  </tbody>\n",
       "</table>\n",
       "</div>"
      ],
      "text/plain": [
       "      PassengerId  Survived  Pclass  \\\n",
       "311           312       1.0       1   \n",
       "742           743       1.0       1   \n",
       "915           916       NaN       1   \n",
       "955           956       NaN       1   \n",
       "1033         1034       NaN       1   \n",
       "\n",
       "                                                 Name     Sex   Age  SibSp  \\\n",
       "311                        Ryerson, Miss. Emily Borie  female  18.0      2   \n",
       "742             Ryerson, Miss. Susan Parker \"Suzette\"  female  21.0      2   \n",
       "915   Ryerson, Mrs. Arthur Larned (Emily Maria Borie)  female  48.0      1   \n",
       "955                       Ryerson, Master. John Borie    male  13.0      2   \n",
       "1033                       Ryerson, Mr. Arthur Larned    male  61.0      1   \n",
       "\n",
       "      Parch    Ticket     Fare            Cabin Embarked train_or_test  \n",
       "311       2  PC 17608  262.375  B57 B59 B63 B66        C         train  \n",
       "742       2  PC 17608  262.375  B57 B59 B63 B66        C         train  \n",
       "915       3  PC 17608  262.375  B57 B59 B63 B66        C          test  \n",
       "955       2  PC 17608  262.375  B57 B59 B63 B66        C          test  \n",
       "1033      3  PC 17608  262.375  B57 B59 B63 B66        C          test  "
      ]
     },
     "execution_count": 31,
     "metadata": {},
     "output_type": "execute_result"
    }
   ],
   "source": [
    "all[all['Cabin']=='B57 B59 B63 B66'] "
   ]
  },
  {
   "cell_type": "code",
   "execution_count": 32,
   "metadata": {},
   "outputs": [
    {
     "data": {
      "text/plain": [
       "S    914\n",
       "C    270\n",
       "Q    123\n",
       "Name: Embarked, dtype: int64"
      ]
     },
     "execution_count": 32,
     "metadata": {},
     "output_type": "execute_result"
    }
   ],
   "source": [
    "all['Embarked'].value_counts()"
   ]
  },
  {
   "cell_type": "code",
   "execution_count": 33,
   "metadata": {},
   "outputs": [
    {
     "data": {
      "text/plain": [
       "(                   Survived\n",
       " Embarked Survived          \n",
       " C        0.0             75\n",
       "          1.0             93\n",
       " Q        0.0             47\n",
       "          1.0             30\n",
       " S        0.0            427\n",
       "          1.0            217,\n",
       "                    Survived\n",
       " Embarked Survived          \n",
       " C        0.0          44.64\n",
       "          1.0          55.36\n",
       " Q        0.0          61.04\n",
       "          1.0          38.96\n",
       " S        0.0          66.30\n",
       "          1.0          33.70)"
      ]
     },
     "execution_count": 33,
     "metadata": {},
     "output_type": "execute_result"
    }
   ],
   "source": [
    "groupby_df = all[all['train_or_test']=='train'].groupby(['Embarked', 'Survived']).agg({'Survived': 'count'})\n",
    "groupby_pcts = groupby_df.groupby(level=0).apply(lambda x:round(100 * x / x.sum(),2))\n",
    "groupby_df,groupby_pcts"
   ]
  },
  {
   "cell_type": "markdown",
   "metadata": {},
   "source": [
    "Embarked C has a higher chance of survival"
   ]
  },
  {
   "cell_type": "markdown",
   "metadata": {},
   "source": [
    "#### Bivariate Analysis"
   ]
  },
  {
   "cell_type": "code",
   "execution_count": 34,
   "metadata": {},
   "outputs": [
    {
     "data": {
      "text/plain": [
       "PassengerId        int64\n",
       "Survived         float64\n",
       "Pclass             int64\n",
       "Name              object\n",
       "Sex               object\n",
       "Age              float64\n",
       "SibSp              int64\n",
       "Parch              int64\n",
       "Ticket            object\n",
       "Fare             float64\n",
       "Cabin             object\n",
       "Embarked          object\n",
       "train_or_test     object\n",
       "dtype: object"
      ]
     },
     "execution_count": 34,
     "metadata": {},
     "output_type": "execute_result"
    }
   ],
   "source": [
    "all.dtypes"
   ]
  },
  {
   "cell_type": "code",
   "execution_count": 35,
   "metadata": {},
   "outputs": [
    {
     "data": {
      "text/plain": [
       "<matplotlib.axes._subplots.AxesSubplot at 0x7f7d59da5750>"
      ]
     },
     "execution_count": 35,
     "metadata": {},
     "output_type": "execute_result"
    },
    {
     "data": {
      "image/png": "[encoded data removed]",
      "text/plain": [
       "<Figure size 432x288 with 2 Axes>"
      ]
     },
     "metadata": {},
     "output_type": "display_data"
    }
   ],
   "source": [
    "sns.heatmap(all.corr(),annot=True)"
   ]
  },
  {
   "cell_type": "markdown",
   "metadata": {},
   "source": [
    "##### Continuous & Continuous"
   ]
  },
  {
   "cell_type": "code",
   "execution_count": 36,
   "metadata": {},
   "outputs": [
    {
     "data": {
      "text/plain": [
       "<seaborn.axisgrid.JointGrid at 0x7f7d59e23bd0>"
      ]
     },
     "execution_count": 36,
     "metadata": {},
     "output_type": "execute_result"
    },
    {
     "data": {
      "image/png": "[encoded data removed]",
      "text/plain": [
       "<Figure size 432x432 with 3 Axes>"
      ]
     },
     "metadata": {},
     "output_type": "display_data"
    }
   ],
   "source": [
    "sns.jointplot(x='Age',y='Fare',data=all,kind='kde')"
   ]
  },
  {
   "cell_type": "code",
   "execution_count": 37,
   "metadata": {},
   "outputs": [
    {
     "data": {
      "text/plain": [
       "0.1787398559996414"
      ]
     },
     "execution_count": 37,
     "metadata": {},
     "output_type": "execute_result"
    }
   ],
   "source": [
    "#Correlation\n",
    "all.corr()['Fare']['Age']"
   ]
  },
  {
   "cell_type": "markdown",
   "metadata": {},
   "source": [
    "##### Categorical & Categorical"
   ]
  },
  {
   "cell_type": "code",
   "execution_count": 38,
   "metadata": {},
   "outputs": [
    {
     "name": "stdout",
     "output_type": "stream",
     "text": [
      "contingency_table :-\n",
      " Pclass    1    2    3\n",
      "Sex                  \n",
      "female  144  106  216\n",
      "male    179  171  493\n",
      "\n",
      "Observed Values :-\n",
      " [[144 106 216]\n",
      " [179 171 493]]\n",
      "\n",
      "Expected Values :-\n",
      " [[114.98701299  98.61115355 252.40183346]\n",
      " [208.01298701 178.38884645 456.59816654]]\n",
      "\n",
      "Degree of Freedom:- 1\n",
      "\n",
      "Significance level:  0.05\n",
      "\n",
      "chi-square statistic:- 12.226745306984528\n",
      "\n",
      "critical_value: 3.841458820694124\n",
      "\n",
      "p-value: 0.0004710930508484701\n",
      "\n",
      "significant result, reject null hypothesis (H0), dependent.\n",
      "\n",
      "significant result, reject null hypothesis (H0), dependent.\n"
     ]
    }
   ],
   "source": [
    "#Sex & Pclass\n",
    "\n",
    "#Contingency Table\n",
    "contingency_table=pd.crosstab(all[\"Sex\"],all[\"Pclass\"])\n",
    "print('contingency_table :-\\n',contingency_table)\n",
    "\n",
    "#Observed Values\n",
    "Observed_Values = contingency_table.values \n",
    "print(\"\\nObserved Values :-\\n\",Observed_Values)\n",
    "\n",
    "#Expected Values\n",
    "import scipy.stats\n",
    "b=scipy.stats.chi2_contingency(contingency_table)\n",
    "Expected_Values = b[3]\n",
    "print(\"\\nExpected Values :-\\n\",Expected_Values)\n",
    "\n",
    "#Degree of Freedom\n",
    "no_of_rows=len(contingency_table.iloc[0:2,0])\n",
    "no_of_columns=len(contingency_table.iloc[0,0:2])\n",
    "df=(no_of_rows-1)*(no_of_columns-1)\n",
    "print(\"\\nDegree of Freedom:-\",df)\n",
    "\n",
    "#or\n",
    "#df=b[2]\n",
    "#print(\"Degree of Freedom:-\",df)\n",
    "\n",
    "#Significance Level 5%\n",
    "alpha=0.05\n",
    "print('\\nSignificance level: ',alpha)\n",
    "\n",
    "#chi-square statistic - χ2\n",
    "from scipy.stats import chi2\n",
    "chi_square=sum([(o-e)**2./e for o,e in zip(Observed_Values,Expected_Values)])\n",
    "chi_square_statistic=chi_square[0]+chi_square[1]\n",
    "print(\"\\nchi-square statistic:-\",chi_square_statistic)\n",
    "\n",
    "#critical_value\n",
    "critical_value=chi2.ppf(q=1-alpha,df=df)\n",
    "print('\\ncritical_value:',critical_value)\n",
    "\n",
    "#p-value\n",
    "p_value=1-chi2.cdf(x=chi_square_statistic,df=df)\n",
    "print('\\np-value:',p_value)\n",
    "\n",
    "#compare chi_square_statistic with critical_value and p-value which is the probability of getting chi-square>0.09 (chi_square_statistic)\n",
    "if chi_square_statistic>=critical_value:\n",
    "    print(\"\\nsignificant result, reject null hypothesis (H0), dependent.\")\n",
    "else:\n",
    "    print(\"\\nnot significant result, fail to reject null hypothesis (H0).\")\n",
    "    \n",
    "if p_value<=alpha:\n",
    "    print(\"\\nsignificant result, reject null hypothesis (H0), dependent.\")\n",
    "else:\n",
    "    print(\"\\nnot significant result, fail to reject null hypothesis (H0), independent.\")"
   ]
  },
  {
   "cell_type": "code",
   "execution_count": 39,
   "metadata": {},
   "outputs": [
    {
     "name": "stdout",
     "output_type": "stream",
     "text": [
      "contingency_table :-\n",
      " Parch     0   1   2  3  4  5  6  9\n",
      "Sex                               \n",
      "female  293  88  69  6  4  4  1  1\n",
      "male    709  82  44  2  2  2  1  1\n",
      "\n",
      "Observed Values :-\n",
      " [[293  88  69   6   4   4   1   1]\n",
      " [709  82  44   2   2   2   1   1]]\n",
      "\n",
      "Expected Values :-\n",
      " [[356.70893812  60.51948052  40.2276547    2.84797555   2.13598167\n",
      "    2.13598167   0.71199389   0.71199389]\n",
      " [645.29106188 109.48051948  72.7723453    5.15202445   3.86401833\n",
      "    3.86401833   1.28800611   1.28800611]]\n",
      "\n",
      "Degree of Freedom:- 1\n",
      "\n",
      "Significance level:  0.05\n",
      "\n",
      "chi-square statistic:- 37.04458208301473\n",
      "\n",
      "critical_value: 3.841458820694124\n",
      "\n",
      "p-value: 1.1545894240683197e-09\n",
      "\n",
      "significant result, reject null hypothesis (H0), dependent.\n",
      "\n",
      "significant result, reject null hypothesis (H0), dependent.\n"
     ]
    }
   ],
   "source": [
    "#Sex & Parch\n",
    "\n",
    "#Contingency Table\n",
    "contingency_table=pd.crosstab(all[\"Sex\"],all[\"Parch\"])\n",
    "print('contingency_table :-\\n',contingency_table)\n",
    "\n",
    "#Observed Values\n",
    "Observed_Values = contingency_table.values \n",
    "print(\"\\nObserved Values :-\\n\",Observed_Values)\n",
    "\n",
    "#Expected Values\n",
    "import scipy.stats\n",
    "b=scipy.stats.chi2_contingency(contingency_table)\n",
    "Expected_Values = b[3]\n",
    "print(\"\\nExpected Values :-\\n\",Expected_Values)\n",
    "\n",
    "#Degree of Freedom\n",
    "no_of_rows=len(contingency_table.iloc[0:2,0])\n",
    "no_of_columns=len(contingency_table.iloc[0,0:2])\n",
    "df=(no_of_rows-1)*(no_of_columns-1)\n",
    "print(\"\\nDegree of Freedom:-\",df)\n",
    "\n",
    "#or\n",
    "#df=b[2]\n",
    "#print(\"Degree of Freedom:-\",df)\n",
    "\n",
    "#Significance Level 5%\n",
    "alpha=0.05\n",
    "print('\\nSignificance level: ',alpha)\n",
    "\n",
    "#chi-square statistic - χ2\n",
    "from scipy.stats import chi2\n",
    "chi_square=sum([(o-e)**2./e for o,e in zip(Observed_Values,Expected_Values)])\n",
    "chi_square_statistic=chi_square[0]+chi_square[1]\n",
    "print(\"\\nchi-square statistic:-\",chi_square_statistic)\n",
    "\n",
    "#critical_value\n",
    "critical_value=chi2.ppf(q=1-alpha,df=df)\n",
    "print('\\ncritical_value:',critical_value)\n",
    "\n",
    "#p-value\n",
    "p_value=1-chi2.cdf(x=chi_square_statistic,df=df)\n",
    "print('\\np-value:',p_value)\n",
    "\n",
    "#compare chi_square_statistic with critical_value and p-value which is the probability of getting chi-square>0.09 (chi_square_statistic)\n",
    "if chi_square_statistic>=critical_value:\n",
    "    print(\"\\nsignificant result, reject null hypothesis (H0), dependent.\")\n",
    "else:\n",
    "    print(\"\\nnot significant result, fail to reject null hypothesis (H0).\")\n",
    "    \n",
    "if p_value<=alpha:\n",
    "    print(\"\\nsignificant result, reject null hypothesis (H0), dependent.\")\n",
    "else:\n",
    "    print(\"\\nnot significant result, fail to reject null hypothesis (H0), independent.\")"
   ]
  },
  {
   "cell_type": "code",
   "execution_count": 40,
   "metadata": {},
   "outputs": [
    {
     "name": "stdout",
     "output_type": "stream",
     "text": [
      "contingency_table :-\n",
      " SibSp     0    1   2   3   4  5  8\n",
      "Sex                               \n",
      "female  262  160  19  12   7  2  4\n",
      "male    629  159  23   8  15  4  5\n",
      "\n",
      "Observed Values :-\n",
      " [[262 160  19  12   7   2   4]\n",
      " [629 159  23   8  15   4   5]]\n",
      "\n",
      "Expected Values :-\n",
      " [[317.19327731 113.56302521  14.95187166   7.11993888   7.83193277\n",
      "    2.13598167   3.2039725 ]\n",
      " [573.80672269 205.43697479  27.04812834  12.88006112  14.16806723\n",
      "    3.86401833   5.7960275 ]]\n",
      "\n",
      "Degree of Freedom:- 1\n",
      "\n",
      "Significance level:  0.05\n",
      "\n",
      "chi-square statistic:- 44.39796750255644\n",
      "\n",
      "critical_value: 3.841458820694124\n",
      "\n",
      "p-value: 2.6796564966957703e-11\n",
      "\n",
      "significant result, reject null hypothesis (H0), dependent.\n",
      "\n",
      "significant result, reject null hypothesis (H0), dependent.\n"
     ]
    }
   ],
   "source": [
    "#Sex & SibSp\n",
    "\n",
    "#Contingency Table\n",
    "contingency_table=pd.crosstab(all[\"Sex\"],all[\"SibSp\"])\n",
    "print('contingency_table :-\\n',contingency_table)\n",
    "\n",
    "#Observed Values\n",
    "Observed_Values = contingency_table.values \n",
    "print(\"\\nObserved Values :-\\n\",Observed_Values)\n",
    "\n",
    "#Expected Values\n",
    "import scipy.stats\n",
    "b=scipy.stats.chi2_contingency(contingency_table)\n",
    "Expected_Values = b[3]\n",
    "print(\"\\nExpected Values :-\\n\",Expected_Values)\n",
    "\n",
    "#Degree of Freedom\n",
    "no_of_rows=len(contingency_table.iloc[0:2,0])\n",
    "no_of_columns=len(contingency_table.iloc[0,0:2])\n",
    "df=(no_of_rows-1)*(no_of_columns-1)\n",
    "print(\"\\nDegree of Freedom:-\",df)\n",
    "\n",
    "#or\n",
    "#df=b[2]\n",
    "#print(\"Degree of Freedom:-\",df)\n",
    "\n",
    "#Significance Level 5%\n",
    "alpha=0.05\n",
    "print('\\nSignificance level: ',alpha)\n",
    "\n",
    "#chi-square statistic - χ2\n",
    "from scipy.stats import chi2\n",
    "chi_square=sum([(o-e)**2./e for o,e in zip(Observed_Values,Expected_Values)])\n",
    "chi_square_statistic=chi_square[0]+chi_square[1]\n",
    "print(\"\\nchi-square statistic:-\",chi_square_statistic)\n",
    "\n",
    "#critical_value\n",
    "critical_value=chi2.ppf(q=1-alpha,df=df)\n",
    "print('\\ncritical_value:',critical_value)\n",
    "\n",
    "#p-value\n",
    "p_value=1-chi2.cdf(x=chi_square_statistic,df=df)\n",
    "print('\\np-value:',p_value)\n",
    "\n",
    "#compare chi_square_statistic with critical_value and p-value which is the probability of getting chi-square>0.09 (chi_square_statistic)\n",
    "if chi_square_statistic>=critical_value:\n",
    "    print(\"\\nsignificant result, reject null hypothesis (H0), dependent.\")\n",
    "else:\n",
    "    print(\"\\nnot significant result, fail to reject null hypothesis (H0).\")\n",
    "    \n",
    "if p_value<=alpha:\n",
    "    print(\"\\nsignificant result, reject null hypothesis (H0), dependent.\")\n",
    "else:\n",
    "    print(\"\\nnot significant result, fail to reject null hypothesis (H0), independent.\")"
   ]
  },
  {
   "cell_type": "code",
   "execution_count": 41,
   "metadata": {},
   "outputs": [
    {
     "name": "stdout",
     "output_type": "stream",
     "text": [
      "contingency_table :-\n",
      " Embarked    C   Q    S\n",
      "Sex                   \n",
      "female    113  60  291\n",
      "male      157  63  623\n",
      "\n",
      "Observed Values :-\n",
      " [[113  60 291]\n",
      " [157  63 623]]\n",
      "\n",
      "Expected Values :-\n",
      " [[ 95.8530987   43.66641163 324.48048967]\n",
      " [174.1469013   79.33358837 589.51951033]]\n",
      "\n",
      "Degree of Freedom:- 1\n",
      "\n",
      "Significance level:  0.05\n",
      "\n",
      "chi-square statistic:- 14.228166316472308\n",
      "\n",
      "critical_value: 3.841458820694124\n",
      "\n",
      "p-value: 0.00016192856784558174\n",
      "\n",
      "significant result, reject null hypothesis (H0), dependent.\n",
      "\n",
      "significant result, reject null hypothesis (H0), dependent.\n"
     ]
    }
   ],
   "source": [
    "#Sex & Embarked\n",
    "\n",
    "#Contingency Table\n",
    "contingency_table=pd.crosstab(all[\"Sex\"],all[\"Embarked\"])\n",
    "print('contingency_table :-\\n',contingency_table)\n",
    "\n",
    "#Observed Values\n",
    "Observed_Values = contingency_table.values \n",
    "print(\"\\nObserved Values :-\\n\",Observed_Values)\n",
    "\n",
    "#Expected Values\n",
    "import scipy.stats\n",
    "b=scipy.stats.chi2_contingency(contingency_table)\n",
    "Expected_Values = b[3]\n",
    "print(\"\\nExpected Values :-\\n\",Expected_Values)\n",
    "\n",
    "#Degree of Freedom\n",
    "no_of_rows=len(contingency_table.iloc[0:2,0])\n",
    "no_of_columns=len(contingency_table.iloc[0,0:2])\n",
    "df=(no_of_rows-1)*(no_of_columns-1)\n",
    "print(\"\\nDegree of Freedom:-\",df)\n",
    "\n",
    "#or\n",
    "#df=b[2]\n",
    "#print(\"Degree of Freedom:-\",df)\n",
    "\n",
    "#Significance Level 5%\n",
    "alpha=0.05\n",
    "print('\\nSignificance level: ',alpha)\n",
    "\n",
    "#chi-square statistic - χ2\n",
    "from scipy.stats import chi2\n",
    "chi_square=sum([(o-e)**2./e for o,e in zip(Observed_Values,Expected_Values)])\n",
    "chi_square_statistic=chi_square[0]+chi_square[1]\n",
    "print(\"\\nchi-square statistic:-\",chi_square_statistic)\n",
    "\n",
    "#critical_value\n",
    "critical_value=chi2.ppf(q=1-alpha,df=df)\n",
    "print('\\ncritical_value:',critical_value)\n",
    "\n",
    "#p-value\n",
    "p_value=1-chi2.cdf(x=chi_square_statistic,df=df)\n",
    "print('\\np-value:',p_value)\n",
    "\n",
    "#compare chi_square_statistic with critical_value and p-value which is the probability of getting chi-square>0.09 (chi_square_statistic)\n",
    "if chi_square_statistic>=critical_value:\n",
    "    print(\"\\nsignificant result, reject null hypothesis (H0), dependent.\")\n",
    "else:\n",
    "    print(\"\\nnot significant result, fail to reject null hypothesis (H0).\")\n",
    "    \n",
    "if p_value<=alpha:\n",
    "    print(\"\\nsignificant result, reject null hypothesis (H0), dependent.\")\n",
    "else:\n",
    "    print(\"\\nnot significant result, fail to reject null hypothesis (H0), independent.\")"
   ]
  },
  {
   "cell_type": "code",
   "execution_count": 42,
   "metadata": {},
   "outputs": [
    {
     "name": "stdout",
     "output_type": "stream",
     "text": [
      "contingency_table :-\n",
      " SibSp     0    1   2   3   4  5  8\n",
      "Pclass                            \n",
      "1       198  113   8   4   0  0  0\n",
      "2       182   82  12   1   0  0  0\n",
      "3       511  124  22  15  22  6  9\n",
      "\n",
      "Observed Values :-\n",
      " [[198 113   8   4   0   0   0]\n",
      " [182  82  12   1   0   0   0]\n",
      " [511 124  22  15  22   6   9]]\n",
      "\n",
      "Expected Values :-\n",
      " [[219.85714286  78.71428571  10.36363636   4.93506494   5.42857143\n",
      "    1.48051948   2.22077922]\n",
      " [188.54621849  67.50420168   8.88770053   4.23223835   4.65546218\n",
      "    1.2696715    1.90450726]\n",
      " [482.59663866 172.78151261  22.7486631   10.83269672  11.91596639\n",
      "    3.24980901   4.87471352]]\n",
      "\n",
      "Degree of Freedom:- 1\n",
      "\n",
      "Significance level:  0.05\n",
      "\n",
      "chi-square statistic:- 35.891118769936654\n",
      "\n",
      "critical_value: 3.841458820694124\n",
      "\n",
      "p-value: 2.0865765781863388e-09\n",
      "\n",
      "significant result, reject null hypothesis (H0), dependent.\n",
      "\n",
      "significant result, reject null hypothesis (H0), dependent.\n"
     ]
    }
   ],
   "source": [
    "#Pclass & SibSp\n",
    "\n",
    "#Contingency Table\n",
    "contingency_table=pd.crosstab(all[\"Pclass\"],all[\"SibSp\"])\n",
    "print('contingency_table :-\\n',contingency_table)\n",
    "\n",
    "#Observed Values\n",
    "Observed_Values = contingency_table.values \n",
    "print(\"\\nObserved Values :-\\n\",Observed_Values)\n",
    "\n",
    "#Expected Values\n",
    "import scipy.stats\n",
    "b=scipy.stats.chi2_contingency(contingency_table)\n",
    "Expected_Values = b[3]\n",
    "print(\"\\nExpected Values :-\\n\",Expected_Values)\n",
    "\n",
    "#Degree of Freedom\n",
    "no_of_rows=len(contingency_table.iloc[0:2,0])\n",
    "no_of_columns=len(contingency_table.iloc[0,0:2])\n",
    "df=(no_of_rows-1)*(no_of_columns-1)\n",
    "print(\"\\nDegree of Freedom:-\",df)\n",
    "\n",
    "#or\n",
    "#df=b[2]\n",
    "#print(\"Degree of Freedom:-\",df)\n",
    "\n",
    "#Significance Level 5%\n",
    "alpha=0.05\n",
    "print('\\nSignificance level: ',alpha)\n",
    "\n",
    "#chi-square statistic - χ2\n",
    "from scipy.stats import chi2\n",
    "chi_square=sum([(o-e)**2./e for o,e in zip(Observed_Values,Expected_Values)])\n",
    "chi_square_statistic=chi_square[0]+chi_square[1]\n",
    "print(\"\\nchi-square statistic:-\",chi_square_statistic)\n",
    "\n",
    "#critical_value\n",
    "critical_value=chi2.ppf(q=1-alpha,df=df)\n",
    "print('\\ncritical_value:',critical_value)\n",
    "\n",
    "#p-value\n",
    "p_value=1-chi2.cdf(x=chi_square_statistic,df=df)\n",
    "print('\\np-value:',p_value)\n",
    "\n",
    "#compare chi_square_statistic with critical_value and p-value which is the probability of getting chi-square>0.09 (chi_square_statistic)\n",
    "if chi_square_statistic>=critical_value:\n",
    "    print(\"\\nsignificant result, reject null hypothesis (H0), dependent.\")\n",
    "else:\n",
    "    print(\"\\nnot significant result, fail to reject null hypothesis (H0).\")\n",
    "    \n",
    "if p_value<=alpha:\n",
    "    print(\"\\nsignificant result, reject null hypothesis (H0), dependent.\")\n",
    "else:\n",
    "    print(\"\\nnot significant result, fail to reject null hypothesis (H0), independent.\")"
   ]
  },
  {
   "cell_type": "code",
   "execution_count": 43,
   "metadata": {},
   "outputs": [
    {
     "name": "stdout",
     "output_type": "stream",
     "text": [
      "contingency_table :-\n",
      " Parch     0   1   2  3  4  5  6  9\n",
      "Pclass                            \n",
      "1       242  50  27  2  2  0  0  0\n",
      "2       206  43  25  3  0  0  0  0\n",
      "3       554  77  61  3  4  6  2  2\n",
      "\n",
      "Observed Values :-\n",
      " [[242  50  27   2   2   0   0   0]\n",
      " [206  43  25   3   0   0   0   0]\n",
      " [554  77  61   3   4   6   2   2]]\n",
      "\n",
      "Expected Values :-\n",
      " [[2.47246753e+02 4.19480519e+01 2.78831169e+01 1.97402597e+00\n",
      "  1.48051948e+00 1.48051948e+00 4.93506494e-01 4.93506494e-01]\n",
      " [2.12035141e+02 3.59740260e+01 2.39121467e+01 1.69289534e+00\n",
      "  1.26967150e+00 1.26967150e+00 4.23223835e-01 4.23223835e-01]\n",
      " [5.42718105e+02 9.20779221e+01 6.12047364e+01 4.33307869e+00\n",
      "  3.24980901e+00 3.24980901e+00 1.08326967e+00 1.08326967e+00]]\n",
      "\n",
      "Degree of Freedom:- 1\n",
      "\n",
      "Significance level:  0.05\n",
      "\n",
      "chi-square statistic:- 5.904475412195174\n",
      "\n",
      "critical_value: 3.841458820694124\n",
      "\n",
      "p-value: 0.01510246275793048\n",
      "\n",
      "significant result, reject null hypothesis (H0), dependent.\n",
      "\n",
      "significant result, reject null hypothesis (H0), dependent.\n"
     ]
    }
   ],
   "source": [
    "#Pclass & Parch\n",
    "\n",
    "#Contingency Table\n",
    "contingency_table=pd.crosstab(all[\"Pclass\"],all[\"Parch\"])\n",
    "print('contingency_table :-\\n',contingency_table)\n",
    "\n",
    "#Observed Values\n",
    "Observed_Values = contingency_table.values \n",
    "print(\"\\nObserved Values :-\\n\",Observed_Values)\n",
    "\n",
    "#Expected Values\n",
    "import scipy.stats\n",
    "b=scipy.stats.chi2_contingency(contingency_table)\n",
    "Expected_Values = b[3]\n",
    "print(\"\\nExpected Values :-\\n\",Expected_Values)\n",
    "\n",
    "#Degree of Freedom\n",
    "no_of_rows=len(contingency_table.iloc[0:2,0])\n",
    "no_of_columns=len(contingency_table.iloc[0,0:2])\n",
    "df=(no_of_rows-1)*(no_of_columns-1)\n",
    "print(\"\\nDegree of Freedom:-\",df)\n",
    "\n",
    "#or\n",
    "#df=b[2]\n",
    "#print(\"Degree of Freedom:-\",df)\n",
    "\n",
    "#Significance Level 5%\n",
    "alpha=0.05\n",
    "print('\\nSignificance level: ',alpha)\n",
    "\n",
    "#chi-square statistic - χ2\n",
    "from scipy.stats import chi2\n",
    "chi_square=sum([(o-e)**2./e for o,e in zip(Observed_Values,Expected_Values)])\n",
    "chi_square_statistic=chi_square[0]+chi_square[1]\n",
    "print(\"\\nchi-square statistic:-\",chi_square_statistic)\n",
    "\n",
    "#critical_value\n",
    "critical_value=chi2.ppf(q=1-alpha,df=df)\n",
    "print('\\ncritical_value:',critical_value)\n",
    "\n",
    "#p-value\n",
    "p_value=1-chi2.cdf(x=chi_square_statistic,df=df)\n",
    "print('\\np-value:',p_value)\n",
    "\n",
    "#compare chi_square_statistic with critical_value and p-value which is the probability of getting chi-square>0.09 (chi_square_statistic)\n",
    "if chi_square_statistic>=critical_value:\n",
    "    print(\"\\nsignificant result, reject null hypothesis (H0), dependent.\")\n",
    "else:\n",
    "    print(\"\\nnot significant result, fail to reject null hypothesis (H0).\")\n",
    "    \n",
    "if p_value<=alpha:\n",
    "    print(\"\\nsignificant result, reject null hypothesis (H0), dependent.\")\n",
    "else:\n",
    "    print(\"\\nnot significant result, fail to reject null hypothesis (H0), independent.\")"
   ]
  },
  {
   "cell_type": "code",
   "execution_count": 44,
   "metadata": {},
   "outputs": [
    {
     "name": "stdout",
     "output_type": "stream",
     "text": [
      "contingency_table :-\n",
      " Embarked    C    Q    S\n",
      "Pclass                 \n",
      "1         141    3  177\n",
      "2          28    7  242\n",
      "3         101  113  495\n",
      "\n",
      "Observed Values :-\n",
      " [[141   3 177]\n",
      " [ 28   7 242]\n",
      " [101 113 495]]\n",
      "\n",
      "Expected Values :-\n",
      " [[ 66.31216526  30.20887529 224.47895945]\n",
      " [ 57.22264728  26.06809487 193.70925784]\n",
      " [146.46518745  66.72302984 495.81178271]]\n",
      "\n",
      "Degree of Freedom:- 1\n",
      "\n",
      "Significance level:  0.05\n",
      "\n",
      "chi-square statistic:- 183.70888277703472\n",
      "\n",
      "critical_value: 3.841458820694124\n",
      "\n",
      "p-value: 0.0\n",
      "\n",
      "significant result, reject null hypothesis (H0), dependent.\n",
      "\n",
      "significant result, reject null hypothesis (H0), dependent.\n"
     ]
    }
   ],
   "source": [
    "#Pclass & Embarked\n",
    "\n",
    "#Contingency Table\n",
    "contingency_table=pd.crosstab(all[\"Pclass\"],all[\"Embarked\"])\n",
    "print('contingency_table :-\\n',contingency_table)\n",
    "\n",
    "#Observed Values\n",
    "Observed_Values = contingency_table.values \n",
    "print(\"\\nObserved Values :-\\n\",Observed_Values)\n",
    "\n",
    "#Expected Values\n",
    "import scipy.stats\n",
    "b=scipy.stats.chi2_contingency(contingency_table)\n",
    "Expected_Values = b[3]\n",
    "print(\"\\nExpected Values :-\\n\",Expected_Values)\n",
    "\n",
    "#Degree of Freedom\n",
    "no_of_rows=len(contingency_table.iloc[0:2,0])\n",
    "no_of_columns=len(contingency_table.iloc[0,0:2])\n",
    "df=(no_of_rows-1)*(no_of_columns-1)\n",
    "print(\"\\nDegree of Freedom:-\",df)\n",
    "\n",
    "#or\n",
    "#df=b[2]\n",
    "#print(\"Degree of Freedom:-\",df)\n",
    "\n",
    "#Significance Level 5%\n",
    "alpha=0.05\n",
    "print('\\nSignificance level: ',alpha)\n",
    "\n",
    "#chi-square statistic - χ2\n",
    "from scipy.stats import chi2\n",
    "chi_square=sum([(o-e)**2./e for o,e in zip(Observed_Values,Expected_Values)])\n",
    "chi_square_statistic=chi_square[0]+chi_square[1]\n",
    "print(\"\\nchi-square statistic:-\",chi_square_statistic)\n",
    "\n",
    "#critical_value\n",
    "critical_value=chi2.ppf(q=1-alpha,df=df)\n",
    "print('\\ncritical_value:',critical_value)\n",
    "\n",
    "#p-value\n",
    "p_value=1-chi2.cdf(x=chi_square_statistic,df=df)\n",
    "print('\\np-value:',p_value)\n",
    "\n",
    "#compare chi_square_statistic with critical_value and p-value which is the probability of getting chi-square>0.09 (chi_square_statistic)\n",
    "if chi_square_statistic>=critical_value:\n",
    "    print(\"\\nsignificant result, reject null hypothesis (H0), dependent.\")\n",
    "else:\n",
    "    print(\"\\nnot significant result, fail to reject null hypothesis (H0).\")\n",
    "    \n",
    "if p_value<=alpha:\n",
    "    print(\"\\nsignificant result, reject null hypothesis (H0), dependent.\")\n",
    "else:\n",
    "    print(\"\\nnot significant result, fail to reject null hypothesis (H0), independent.\")"
   ]
  },
  {
   "cell_type": "code",
   "execution_count": 45,
   "metadata": {},
   "outputs": [
    {
     "name": "stdout",
     "output_type": "stream",
     "text": [
      "contingency_table :-\n",
      " Parch    0   1   2  3  4  5  6  9\n",
      "SibSp                            \n",
      "0      790  52  43  2  2  2  0  0\n",
      "1      183  90  29  5  4  4  2  2\n",
      "2       26   9   6  1  0  0  0  0\n",
      "3        3   9   8  0  0  0  0  0\n",
      "4        0  10  12  0  0  0  0  0\n",
      "5        0   0   6  0  0  0  0  0\n",
      "8        0   0   9  0  0  0  0  0\n",
      "\n",
      "Observed Values :-\n",
      " [[790  52  43   2   2   2   0   0]\n",
      " [183  90  29   5   4   4   2   2]\n",
      " [ 26   9   6   1   0   0   0   0]\n",
      " [  3   9   8   0   0   0   0   0]\n",
      " [  0  10  12   0   0   0   0   0]\n",
      " [  0   0   6   0   0   0   0   0]\n",
      " [  0   0   9   0   0   0   0   0]]\n",
      "\n",
      "Expected Values :-\n",
      " [[6.82033613e+02 1.15714286e+02 7.69159664e+01 5.44537815e+00\n",
      "  4.08403361e+00 4.08403361e+00 1.36134454e+00 1.36134454e+00]\n",
      " [2.44184874e+02 4.14285714e+01 2.75378151e+01 1.94957983e+00\n",
      "  1.46218487e+00 1.46218487e+00 4.87394958e-01 4.87394958e-01]\n",
      " [3.21497326e+01 5.45454545e+00 3.62566845e+00 2.56684492e-01\n",
      "  1.92513369e-01 1.92513369e-01 6.41711230e-02 6.41711230e-02]\n",
      " [1.53093965e+01 2.59740260e+00 1.72650879e+00 1.22230710e-01\n",
      "  9.16730328e-02 9.16730328e-02 3.05576776e-02 3.05576776e-02]\n",
      " [1.68403361e+01 2.85714286e+00 1.89915966e+00 1.34453782e-01\n",
      "  1.00840336e-01 1.00840336e-01 3.36134454e-02 3.36134454e-02]\n",
      " [4.59281895e+00 7.79220779e-01 5.17952636e-01 3.66692131e-02\n",
      "  2.75019099e-02 2.75019099e-02 9.16730328e-03 9.16730328e-03]\n",
      " [6.88922842e+00 1.16883117e+00 7.76928953e-01 5.50038197e-02\n",
      "  4.12528648e-02 4.12528648e-02 1.37509549e-02 1.37509549e-02]]\n",
      "\n",
      "Degree of Freedom:- 1\n",
      "\n",
      "Significance level:  0.05\n",
      "\n",
      "chi-square statistic:- 201.73825668373766\n",
      "\n",
      "critical_value: 3.841458820694124\n",
      "\n",
      "p-value: 0.0\n",
      "\n",
      "significant result, reject null hypothesis (H0), dependent.\n",
      "\n",
      "significant result, reject null hypothesis (H0), dependent.\n"
     ]
    }
   ],
   "source": [
    "#SibSp & Parch\n",
    "\n",
    "#Contingency Table\n",
    "contingency_table=pd.crosstab(all[\"SibSp\"],all[\"Parch\"])\n",
    "print('contingency_table :-\\n',contingency_table)\n",
    "\n",
    "#Observed Values\n",
    "Observed_Values = contingency_table.values \n",
    "print(\"\\nObserved Values :-\\n\",Observed_Values)\n",
    "\n",
    "#Expected Values\n",
    "import scipy.stats\n",
    "b=scipy.stats.chi2_contingency(contingency_table)\n",
    "Expected_Values = b[3]\n",
    "print(\"\\nExpected Values :-\\n\",Expected_Values)\n",
    "\n",
    "#Degree of Freedom\n",
    "no_of_rows=len(contingency_table.iloc[0:2,0])\n",
    "no_of_columns=len(contingency_table.iloc[0,0:2])\n",
    "df=(no_of_rows-1)*(no_of_columns-1)\n",
    "print(\"\\nDegree of Freedom:-\",df)\n",
    "\n",
    "#or\n",
    "#df=b[2]\n",
    "#print(\"Degree of Freedom:-\",df)\n",
    "\n",
    "#Significance Level 5%\n",
    "alpha=0.05\n",
    "print('\\nSignificance level: ',alpha)\n",
    "\n",
    "#chi-square statistic - χ2\n",
    "from scipy.stats import chi2\n",
    "chi_square=sum([(o-e)**2./e for o,e in zip(Observed_Values,Expected_Values)])\n",
    "chi_square_statistic=chi_square[0]+chi_square[1]\n",
    "print(\"\\nchi-square statistic:-\",chi_square_statistic)\n",
    "\n",
    "#critical_value\n",
    "critical_value=chi2.ppf(q=1-alpha,df=df)\n",
    "print('\\ncritical_value:',critical_value)\n",
    "\n",
    "#p-value\n",
    "p_value=1-chi2.cdf(x=chi_square_statistic,df=df)\n",
    "print('\\np-value:',p_value)\n",
    "\n",
    "#compare chi_square_statistic with critical_value and p-value which is the probability of getting chi-square>0.09 (chi_square_statistic)\n",
    "if chi_square_statistic>=critical_value:\n",
    "    print(\"\\nsignificant result, reject null hypothesis (H0), dependent.\")\n",
    "else:\n",
    "    print(\"\\nnot significant result, fail to reject null hypothesis (H0).\")\n",
    "    \n",
    "if p_value<=alpha:\n",
    "    print(\"\\nsignificant result, reject null hypothesis (H0), dependent.\")\n",
    "else:\n",
    "    print(\"\\nnot significant result, fail to reject null hypothesis (H0), independent.\")"
   ]
  },
  {
   "cell_type": "code",
   "execution_count": 46,
   "metadata": {},
   "outputs": [
    {
     "name": "stdout",
     "output_type": "stream",
     "text": [
      "contingency_table :-\n",
      " Embarked    C    Q    S\n",
      "SibSp                  \n",
      "0         171  100  618\n",
      "1          90   14  215\n",
      "2           9    4   29\n",
      "3           0    0   20\n",
      "4           0    5   17\n",
      "5           0    0    6\n",
      "8           0    0    9\n",
      "\n",
      "Observed Values :-\n",
      " [[171 100 618]\n",
      " [ 90  14 215]\n",
      " [  9   4  29]\n",
      " [  0   0  20]\n",
      " [  0   5  17]\n",
      " [  0   0   6]\n",
      " [  0   0   9]]\n",
      "\n",
      "Expected Values :-\n",
      " [[1.83649579e+02 8.36625861e+01 6.21687835e+02]\n",
      " [6.58990054e+01 3.00206580e+01 2.23080337e+02]\n",
      " [8.67635807e+00 3.95256312e+00 2.93710788e+01]\n",
      " [4.13159908e+00 1.88217292e+00 1.39862280e+01]\n",
      " [4.54475899e+00 2.07039021e+00 1.53848508e+01]\n",
      " [1.23947972e+00 5.64651875e-01 4.19586840e+00]\n",
      " [1.85921959e+00 8.46977812e-01 6.29380260e+00]]\n",
      "\n",
      "Degree of Freedom:- 1\n",
      "\n",
      "Significance level:  0.05\n",
      "\n",
      "chi-square statistic:- 40.65238878122496\n",
      "\n",
      "critical_value: 3.841458820694124\n",
      "\n",
      "p-value: 1.818647454854272e-10\n",
      "\n",
      "significant result, reject null hypothesis (H0), dependent.\n",
      "\n",
      "significant result, reject null hypothesis (H0), dependent.\n"
     ]
    }
   ],
   "source": [
    "#SibSp & Embarked\n",
    "\n",
    "#Contingency Table\n",
    "contingency_table=pd.crosstab(all[\"SibSp\"],all[\"Embarked\"])\n",
    "print('contingency_table :-\\n',contingency_table)\n",
    "\n",
    "#Observed Values\n",
    "Observed_Values = contingency_table.values \n",
    "print(\"\\nObserved Values :-\\n\",Observed_Values)\n",
    "\n",
    "#Expected Values\n",
    "import scipy.stats\n",
    "b=scipy.stats.chi2_contingency(contingency_table)\n",
    "Expected_Values = b[3]\n",
    "print(\"\\nExpected Values :-\\n\",Expected_Values)\n",
    "\n",
    "#Degree of Freedom\n",
    "no_of_rows=len(contingency_table.iloc[0:2,0])\n",
    "no_of_columns=len(contingency_table.iloc[0,0:2])\n",
    "df=(no_of_rows-1)*(no_of_columns-1)\n",
    "print(\"\\nDegree of Freedom:-\",df)\n",
    "\n",
    "#or\n",
    "#df=b[2]\n",
    "#print(\"Degree of Freedom:-\",df)\n",
    "\n",
    "#Significance Level 5%\n",
    "alpha=0.05\n",
    "print('\\nSignificance level: ',alpha)\n",
    "\n",
    "#chi-square statistic - χ2\n",
    "from scipy.stats import chi2\n",
    "chi_square=sum([(o-e)**2./e for o,e in zip(Observed_Values,Expected_Values)])\n",
    "chi_square_statistic=chi_square[0]+chi_square[1]\n",
    "print(\"\\nchi-square statistic:-\",chi_square_statistic)\n",
    "\n",
    "#critical_value\n",
    "critical_value=chi2.ppf(q=1-alpha,df=df)\n",
    "print('\\ncritical_value:',critical_value)\n",
    "\n",
    "#p-value\n",
    "p_value=1-chi2.cdf(x=chi_square_statistic,df=df)\n",
    "print('\\np-value:',p_value)\n",
    "\n",
    "#compare chi_square_statistic with critical_value and p-value which is the probability of getting chi-square>0.09 (chi_square_statistic)\n",
    "if chi_square_statistic>=critical_value:\n",
    "    print(\"\\nsignificant result, reject null hypothesis (H0), dependent.\")\n",
    "else:\n",
    "    print(\"\\nnot significant result, fail to reject null hypothesis (H0).\")\n",
    "    \n",
    "if p_value<=alpha:\n",
    "    print(\"\\nsignificant result, reject null hypothesis (H0), dependent.\")\n",
    "else:\n",
    "    print(\"\\nnot significant result, fail to reject null hypothesis (H0), independent.\")"
   ]
  },
  {
   "cell_type": "code",
   "execution_count": 47,
   "metadata": {},
   "outputs": [
    {
     "name": "stdout",
     "output_type": "stream",
     "text": [
      "contingency_table :-\n",
      " Embarked    C    Q    S\n",
      "Parch                  \n",
      "0         196  114  690\n",
      "1          51    7  112\n",
      "2          20    1   92\n",
      "3           3    0    5\n",
      "4           0    0    6\n",
      "5           0    1    5\n",
      "6           0    0    2\n",
      "9           0    0    2\n",
      "\n",
      "Observed Values :-\n",
      " [[196 114 690]\n",
      " [ 51   7 112]\n",
      " [ 20   1  92]\n",
      " [  3   0   5]\n",
      " [  0   0   6]\n",
      " [  0   1   5]\n",
      " [  0   0   2]\n",
      " [  0   0   2]]\n",
      "\n",
      "Expected Values :-\n",
      " [[2.06579954e+02 9.41086458e+01 6.99311400e+02]\n",
      " [3.51185922e+01 1.59984698e+01 1.18882938e+02]\n",
      " [2.33435348e+01 1.06342770e+01 7.90221882e+01]\n",
      " [1.65263963e+00 7.52869166e-01 5.59449120e+00]\n",
      " [1.23947972e+00 5.64651875e-01 4.19586840e+00]\n",
      " [1.23947972e+00 5.64651875e-01 4.19586840e+00]\n",
      " [4.13159908e-01 1.88217292e-01 1.39862280e+00]\n",
      " [4.13159908e-01 1.88217292e-01 1.39862280e+00]]\n",
      "\n",
      "Degree of Freedom:- 1\n",
      "\n",
      "Significance level:  0.05\n",
      "\n",
      "chi-square statistic:- 32.629966908184954\n",
      "\n",
      "critical_value: 3.841458820694124\n",
      "\n",
      "p-value: 1.1148256540138846e-08\n",
      "\n",
      "significant result, reject null hypothesis (H0), dependent.\n",
      "\n",
      "significant result, reject null hypothesis (H0), dependent.\n"
     ]
    }
   ],
   "source": [
    "#Parch & Embarked\n",
    "\n",
    "#Contingency Table\n",
    "contingency_table=pd.crosstab(all[\"Parch\"],all[\"Embarked\"])\n",
    "print('contingency_table :-\\n',contingency_table)\n",
    "\n",
    "#Observed Values\n",
    "Observed_Values = contingency_table.values \n",
    "print(\"\\nObserved Values :-\\n\",Observed_Values)\n",
    "\n",
    "#Expected Values\n",
    "import scipy.stats\n",
    "b=scipy.stats.chi2_contingency(contingency_table)\n",
    "Expected_Values = b[3]\n",
    "print(\"\\nExpected Values :-\\n\",Expected_Values)\n",
    "\n",
    "#Degree of Freedom\n",
    "no_of_rows=len(contingency_table.iloc[0:2,0])\n",
    "no_of_columns=len(contingency_table.iloc[0,0:2])\n",
    "df=(no_of_rows-1)*(no_of_columns-1)\n",
    "print(\"\\nDegree of Freedom:-\",df)\n",
    "\n",
    "#or\n",
    "#df=b[2]\n",
    "#print(\"Degree of Freedom:-\",df)\n",
    "\n",
    "#Significance Level 5%\n",
    "alpha=0.05\n",
    "print('\\nSignificance level: ',alpha)\n",
    "\n",
    "#chi-square statistic - χ2\n",
    "from scipy.stats import chi2\n",
    "chi_square=sum([(o-e)**2./e for o,e in zip(Observed_Values,Expected_Values)])\n",
    "chi_square_statistic=chi_square[0]+chi_square[1]\n",
    "print(\"\\nchi-square statistic:-\",chi_square_statistic)\n",
    "\n",
    "#critical_value\n",
    "critical_value=chi2.ppf(q=1-alpha,df=df)\n",
    "print('\\ncritical_value:',critical_value)\n",
    "\n",
    "#p-value\n",
    "p_value=1-chi2.cdf(x=chi_square_statistic,df=df)\n",
    "print('\\np-value:',p_value)\n",
    "\n",
    "#compare chi_square_statistic with critical_value and p-value which is the probability of getting chi-square>0.09 (chi_square_statistic)\n",
    "if chi_square_statistic>=critical_value:\n",
    "    print(\"\\nsignificant result, reject null hypothesis (H0), dependent.\")\n",
    "else:\n",
    "    print(\"\\nnot significant result, fail to reject null hypothesis (H0).\")\n",
    "    \n",
    "if p_value<=alpha:\n",
    "    print(\"\\nsignificant result, reject null hypothesis (H0), dependent.\")\n",
    "else:\n",
    "    print(\"\\nnot significant result, fail to reject null hypothesis (H0), independent.\")"
   ]
  },
  {
   "cell_type": "markdown",
   "metadata": {},
   "source": [
    "All the categorical variables seem to be dependent on each other"
   ]
  },
  {
   "cell_type": "markdown",
   "metadata": {},
   "source": [
    "##### Categorical & Continuous "
   ]
  },
  {
   "cell_type": "code",
   "execution_count": 48,
   "metadata": {},
   "outputs": [
    {
     "data": {
      "text/plain": [
       "<matplotlib.axes._subplots.AxesSubplot at 0x7f7d59fb7ad0>"
      ]
     },
     "execution_count": 48,
     "metadata": {},
     "output_type": "execute_result"
    },
    {
     "data": {
      "image/png": "[encoded data removed]",
      "text/plain": [
       "<Figure size 432x288 with 1 Axes>"
      ]
     },
     "metadata": {},
     "output_type": "display_data"
    }
   ],
   "source": [
    "#Pclass & Age\n",
    "sns.boxplot(x='Pclass',y='Age',data=all)"
   ]
  },
  {
   "cell_type": "code",
   "execution_count": 49,
   "metadata": {},
   "outputs": [
    {
     "data": {
      "text/plain": [
       "<matplotlib.axes._subplots.AxesSubplot at 0x7f7d59be0e50>"
      ]
     },
     "execution_count": 49,
     "metadata": {},
     "output_type": "execute_result"
    },
    {
     "data": {
      "image/png": "[encoded data removed]",
      "text/plain": [
       "<Figure size 432x288 with 1 Axes>"
      ]
     },
     "metadata": {},
     "output_type": "display_data"
    }
   ],
   "source": [
    "#Sex & Age\n",
    "sns.boxplot(x='Sex',y='Age',data=all)"
   ]
  },
  {
   "cell_type": "code",
   "execution_count": 50,
   "metadata": {},
   "outputs": [
    {
     "data": {
      "text/plain": [
       "<matplotlib.axes._subplots.AxesSubplot at 0x7f7d599fc810>"
      ]
     },
     "execution_count": 50,
     "metadata": {},
     "output_type": "execute_result"
    },
    {
     "data": {
      "image/png": "[encoded data removed]",
      "text/plain": [
       "<Figure size 432x288 with 1 Axes>"
      ]
     },
     "metadata": {},
     "output_type": "display_data"
    }
   ],
   "source": [
    "#Parch & Age\n",
    "sns.boxplot(x='Parch',y='Age',data=all)"
   ]
  },
  {
   "cell_type": "code",
   "execution_count": 51,
   "metadata": {},
   "outputs": [
    {
     "data": {
      "text/plain": [
       "<matplotlib.axes._subplots.AxesSubplot at 0x7f7d59a35510>"
      ]
     },
     "execution_count": 51,
     "metadata": {},
     "output_type": "execute_result"
    },
    {
     "data": {
      "image/png": "[encoded data removed]",
      "text/plain": [
       "<Figure size 432x288 with 1 Axes>"
      ]
     },
     "metadata": {},
     "output_type": "display_data"
    }
   ],
   "source": [
    "#SibSp & Age\n",
    "sns.boxplot(x='SibSp',y='Age',data=all)"
   ]
  },
  {
   "cell_type": "code",
   "execution_count": 52,
   "metadata": {},
   "outputs": [
    {
     "data": {
      "text/plain": [
       "<matplotlib.axes._subplots.AxesSubplot at 0x7f7d59af81d0>"
      ]
     },
     "execution_count": 52,
     "metadata": {},
     "output_type": "execute_result"
    },
    {
     "data": {
      "image/png": "[encoded data removed]",
      "text/plain": [
       "<Figure size 432x288 with 1 Axes>"
      ]
     },
     "metadata": {},
     "output_type": "display_data"
    }
   ],
   "source": [
    "#Embarked & Age\n",
    "sns.boxplot(x='Embarked',y='Age',data=all)"
   ]
  },
  {
   "cell_type": "code",
   "execution_count": 53,
   "metadata": {},
   "outputs": [
    {
     "data": {
      "text/plain": [
       "<matplotlib.axes._subplots.AxesSubplot at 0x7f7d6008d690>"
      ]
     },
     "execution_count": 53,
     "metadata": {},
     "output_type": "execute_result"
    },
    {
     "data": {
      "image/png": "[encoded data removed]",
      "text/plain": [
       "<Figure size 432x288 with 1 Axes>"
      ]
     },
     "metadata": {},
     "output_type": "display_data"
    }
   ],
   "source": [
    "#Pclass & Fare\n",
    "sns.boxplot(x='Pclass',y='Fare',data=all)"
   ]
  },
  {
   "cell_type": "code",
   "execution_count": 54,
   "metadata": {},
   "outputs": [
    {
     "data": {
      "text/plain": [
       "<matplotlib.axes._subplots.AxesSubplot at 0x7f7d5970b4d0>"
      ]
     },
     "execution_count": 54,
     "metadata": {},
     "output_type": "execute_result"
    },
    {
     "data": {
      "image/png": "[encoded data removed]",
      "text/plain": [
       "<Figure size 432x288 with 1 Axes>"
      ]
     },
     "metadata": {},
     "output_type": "display_data"
    }
   ],
   "source": [
    "#Sex & Fare\n",
    "sns.boxplot(x='Sex',y='Fare',data=all)"
   ]
  },
  {
   "cell_type": "code",
   "execution_count": 55,
   "metadata": {},
   "outputs": [
    {
     "data": {
      "text/plain": [
       "<matplotlib.axes._subplots.AxesSubplot at 0x7f7d596f3190>"
      ]
     },
     "execution_count": 55,
     "metadata": {},
     "output_type": "execute_result"
    },
    {
     "data": {
      "image/png": "[encoded data removed]",
      "text/plain": [
       "<Figure size 432x288 with 1 Axes>"
      ]
     },
     "metadata": {},
     "output_type": "display_data"
    }
   ],
   "source": [
    "#Parch & Fare\n",
    "sns.boxplot(x='Parch',y='Fare',data=all)"
   ]
  },
  {
   "cell_type": "code",
   "execution_count": 56,
   "metadata": {},
   "outputs": [
    {
     "data": {
      "text/plain": [
       "<matplotlib.axes._subplots.AxesSubplot at 0x7f7d602c5490>"
      ]
     },
     "execution_count": 56,
     "metadata": {},
     "output_type": "execute_result"
    },
    {
     "data": {
      "image/png": "[encoded data removed]",
      "text/plain": [
       "<Figure size 432x288 with 1 Axes>"
      ]
     },
     "metadata": {},
     "output_type": "display_data"
    }
   ],
   "source": [
    "#SibSp & Fare\n",
    "sns.boxplot(x='SibSp',y='Fare',data=all)"
   ]
  },
  {
   "cell_type": "code",
   "execution_count": 57,
   "metadata": {},
   "outputs": [
    {
     "data": {
      "text/plain": [
       "<matplotlib.axes._subplots.AxesSubplot at 0x7f7d594fa190>"
      ]
     },
     "execution_count": 57,
     "metadata": {},
     "output_type": "execute_result"
    },
    {
     "data": {
      "image/png": "[encoded data removed]",
      "text/plain": [
       "<Figure size 432x288 with 1 Axes>"
      ]
     },
     "metadata": {},
     "output_type": "display_data"
    }
   ],
   "source": [
    "#Embarked & Fare\n",
    "sns.boxplot(x='Embarked',y='Fare',data=all)"
   ]
  },
  {
   "cell_type": "markdown",
   "metadata": {},
   "source": [
    "#### Missing Value Treatment"
   ]
  },
  {
   "cell_type": "code",
   "execution_count": 58,
   "metadata": {},
   "outputs": [
    {
     "data": {
      "text/plain": [
       "PassengerId         0\n",
       "Survived          418\n",
       "Pclass              0\n",
       "Name                0\n",
       "Sex                 0\n",
       "Age               263\n",
       "SibSp               0\n",
       "Parch               0\n",
       "Ticket              0\n",
       "Fare                1\n",
       "Cabin            1014\n",
       "Embarked            2\n",
       "train_or_test       0\n",
       "dtype: int64"
      ]
     },
     "execution_count": 58,
     "metadata": {},
     "output_type": "execute_result"
    }
   ],
   "source": [
    "all.isnull().sum()"
   ]
  },
  {
   "cell_type": "code",
   "execution_count": 59,
   "metadata": {},
   "outputs": [],
   "source": [
    "#Filling Embarked with most common value\n",
    "all['Embarked']=all['Embarked'].fillna('S')\n",
    "\n",
    "#Filling Fare with mean(Fare)\n",
    "all['Fare']=all['Fare'].fillna(all['Fare'].mean())"
   ]
  },
  {
   "cell_type": "code",
   "execution_count": 60,
   "metadata": {},
   "outputs": [
    {
     "data": {
      "text/plain": [
       "PassengerId         0\n",
       "Survived          418\n",
       "Pclass              0\n",
       "Name                0\n",
       "Sex                 0\n",
       "Age               263\n",
       "SibSp               0\n",
       "Parch               0\n",
       "Ticket              0\n",
       "Fare                0\n",
       "Cabin            1014\n",
       "Embarked            0\n",
       "train_or_test       0\n",
       "dtype: int64"
      ]
     },
     "execution_count": 60,
     "metadata": {},
     "output_type": "execute_result"
    }
   ],
   "source": [
    "all.isnull().sum()"
   ]
  },
  {
   "cell_type": "code",
   "execution_count": 61,
   "metadata": {},
   "outputs": [
    {
     "data": {
      "text/plain": [
       "PassengerId         0\n",
       "Survived          418\n",
       "Pclass              0\n",
       "Name                0\n",
       "Sex                 0\n",
       "Age               263\n",
       "SibSp               0\n",
       "Parch               0\n",
       "Ticket              0\n",
       "Fare                0\n",
       "Cabin            1014\n",
       "Embarked            0\n",
       "train_or_test       0\n",
       "Age1                0\n",
       "Age2                0\n",
       "Age3              263\n",
       "dtype: int64"
      ]
     },
     "execution_count": 61,
     "metadata": {},
     "output_type": "execute_result"
    }
   ],
   "source": [
    "#Creating placeholders\n",
    "all['Age1']=all['Age']\n",
    "all['Age2']=all['Age']\n",
    "all['Age3']=all['Age']\n",
    "\n",
    "#Imputing Age with mean & median\n",
    "avg_age=all['Age'].mean()\n",
    "median_age=all['Age'].median()\n",
    "\n",
    "all['Age1']=all['Age1'].fillna(avg_age)\n",
    "all['Age2']=all['Age2'].fillna(median_age)\n",
    "\n",
    "all.isnull().sum()"
   ]
  },
  {
   "cell_type": "code",
   "execution_count": 62,
   "metadata": {},
   "outputs": [
    {
     "data": {
      "text/plain": [
       "Pclass\n",
       "1    39.159930\n",
       "2    29.506705\n",
       "3    24.816367\n",
       "Name: Age, dtype: float64"
      ]
     },
     "execution_count": 62,
     "metadata": {},
     "output_type": "execute_result"
    }
   ],
   "source": [
    "#Imputing Age with mean of Age by Pclass \n",
    "age_by_pclass=all.groupby('Pclass')['Age'].mean()\n",
    "age_by_pclass"
   ]
  },
  {
   "cell_type": "code",
   "execution_count": 63,
   "metadata": {},
   "outputs": [],
   "source": [
    "for i in all.index:\n",
    "    if pd.isnull(all.loc[i,'Age']):\n",
    "        \n",
    "        if all.loc[i,'Pclass']==1:\n",
    "            all.at[i,'Age3']=age_by_pclass[1]\n",
    "        \n",
    "        if all.loc[i,'Pclass']==2:\n",
    "            all.at[i,'Age3']=age_by_pclass[2]\n",
    "            \n",
    "        if all.loc[i,'Pclass']==3:\n",
    "            all.at[i,'Age3']=age_by_pclass[3]\n",
    "        "
   ]
  },
  {
   "cell_type": "code",
   "execution_count": 64,
   "metadata": {},
   "outputs": [],
   "source": [
    "all['Age']=all['Age1']\n",
    "all.drop(['Age1','Age2','Age3'],axis=1,inplace=True)"
   ]
  },
  {
   "cell_type": "code",
   "execution_count": 65,
   "metadata": {},
   "outputs": [
    {
     "data": {
      "text/html": [
       "<div>\n",
       "<style scoped>\n",
       "    .dataframe tbody tr th:only-of-type {\n",
       "        vertical-align: middle;\n",
       "    }\n",
       "\n",
       "    .dataframe tbody tr th {\n",
       "        vertical-align: top;\n",
       "    }\n",
       "\n",
       "    .dataframe thead th {\n",
       "        text-align: right;\n",
       "    }\n",
       "</style>\n",
       "<table border=\"1\" class=\"dataframe\">\n",
       "  <thead>\n",
       "    <tr style=\"text-align: right;\">\n",
       "      <th></th>\n",
       "      <th>PassengerId</th>\n",
       "      <th>Survived</th>\n",
       "      <th>Pclass</th>\n",
       "      <th>Name</th>\n",
       "      <th>Sex</th>\n",
       "      <th>Age</th>\n",
       "      <th>SibSp</th>\n",
       "      <th>Parch</th>\n",
       "      <th>Ticket</th>\n",
       "      <th>Fare</th>\n",
       "      <th>Cabin</th>\n",
       "      <th>Embarked</th>\n",
       "      <th>train_or_test</th>\n",
       "    </tr>\n",
       "  </thead>\n",
       "  <tbody>\n",
       "    <tr>\n",
       "      <th>0</th>\n",
       "      <td>1</td>\n",
       "      <td>0.0</td>\n",
       "      <td>3</td>\n",
       "      <td>Braund, Mr. Owen Harris</td>\n",
       "      <td>male</td>\n",
       "      <td>22.0</td>\n",
       "      <td>1</td>\n",
       "      <td>0</td>\n",
       "      <td>A/5 21171</td>\n",
       "      <td>7.2500</td>\n",
       "      <td>NaN</td>\n",
       "      <td>S</td>\n",
       "      <td>train</td>\n",
       "    </tr>\n",
       "    <tr>\n",
       "      <th>1</th>\n",
       "      <td>2</td>\n",
       "      <td>1.0</td>\n",
       "      <td>1</td>\n",
       "      <td>Cumings, Mrs. John Bradley (Florence Briggs Th...</td>\n",
       "      <td>female</td>\n",
       "      <td>38.0</td>\n",
       "      <td>1</td>\n",
       "      <td>0</td>\n",
       "      <td>PC 17599</td>\n",
       "      <td>71.2833</td>\n",
       "      <td>C85</td>\n",
       "      <td>C</td>\n",
       "      <td>train</td>\n",
       "    </tr>\n",
       "    <tr>\n",
       "      <th>2</th>\n",
       "      <td>3</td>\n",
       "      <td>1.0</td>\n",
       "      <td>3</td>\n",
       "      <td>Heikkinen, Miss. Laina</td>\n",
       "      <td>female</td>\n",
       "      <td>26.0</td>\n",
       "      <td>0</td>\n",
       "      <td>0</td>\n",
       "      <td>STON/O2. 3101282</td>\n",
       "      <td>7.9250</td>\n",
       "      <td>NaN</td>\n",
       "      <td>S</td>\n",
       "      <td>train</td>\n",
       "    </tr>\n",
       "    <tr>\n",
       "      <th>3</th>\n",
       "      <td>4</td>\n",
       "      <td>1.0</td>\n",
       "      <td>1</td>\n",
       "      <td>Futrelle, Mrs. Jacques Heath (Lily May Peel)</td>\n",
       "      <td>female</td>\n",
       "      <td>35.0</td>\n",
       "      <td>1</td>\n",
       "      <td>0</td>\n",
       "      <td>113803</td>\n",
       "      <td>53.1000</td>\n",
       "      <td>C123</td>\n",
       "      <td>S</td>\n",
       "      <td>train</td>\n",
       "    </tr>\n",
       "    <tr>\n",
       "      <th>4</th>\n",
       "      <td>5</td>\n",
       "      <td>0.0</td>\n",
       "      <td>3</td>\n",
       "      <td>Allen, Mr. William Henry</td>\n",
       "      <td>male</td>\n",
       "      <td>35.0</td>\n",
       "      <td>0</td>\n",
       "      <td>0</td>\n",
       "      <td>373450</td>\n",
       "      <td>8.0500</td>\n",
       "      <td>NaN</td>\n",
       "      <td>S</td>\n",
       "      <td>train</td>\n",
       "    </tr>\n",
       "  </tbody>\n",
       "</table>\n",
       "</div>"
      ],
      "text/plain": [
       "   PassengerId  Survived  Pclass  \\\n",
       "0            1       0.0       3   \n",
       "1            2       1.0       1   \n",
       "2            3       1.0       3   \n",
       "3            4       1.0       1   \n",
       "4            5       0.0       3   \n",
       "\n",
       "                                                Name     Sex   Age  SibSp  \\\n",
       "0                            Braund, Mr. Owen Harris    male  22.0      1   \n",
       "1  Cumings, Mrs. John Bradley (Florence Briggs Th...  female  38.0      1   \n",
       "2                             Heikkinen, Miss. Laina  female  26.0      0   \n",
       "3       Futrelle, Mrs. Jacques Heath (Lily May Peel)  female  35.0      1   \n",
       "4                           Allen, Mr. William Henry    male  35.0      0   \n",
       "\n",
       "   Parch            Ticket     Fare Cabin Embarked train_or_test  \n",
       "0      0         A/5 21171   7.2500   NaN        S         train  \n",
       "1      0          PC 17599  71.2833   C85        C         train  \n",
       "2      0  STON/O2. 3101282   7.9250   NaN        S         train  \n",
       "3      0            113803  53.1000  C123        S         train  \n",
       "4      0            373450   8.0500   NaN        S         train  "
      ]
     },
     "execution_count": 65,
     "metadata": {},
     "output_type": "execute_result"
    }
   ],
   "source": [
    "all.head()"
   ]
  },
  {
   "cell_type": "code",
   "execution_count": 66,
   "metadata": {},
   "outputs": [],
   "source": [
    "train_data=all[all['train_or_test']=='train'].drop('train_or_test',axis=1)\n",
    "test_data=all[all['train_or_test']=='test'].drop(['train_or_test','Survived'],axis=1)"
   ]
  },
  {
   "cell_type": "markdown",
   "metadata": {},
   "source": [
    "### Building Models"
   ]
  },
  {
   "cell_type": "code",
   "execution_count": 67,
   "metadata": {},
   "outputs": [],
   "source": [
    "from sklearn.model_selection import train_test_split\n",
    "from sklearn.metrics import classification_report"
   ]
  },
  {
   "cell_type": "code",
   "execution_count": 68,
   "metadata": {},
   "outputs": [],
   "source": [
    "features = [\"Pclass\", \"Sex\", \"SibSp\", \"Parch\", \"Age\", \"Fare\", \"Embarked\"]\n",
    "X_train, X_test, y_train, y_test = train_test_split(pd.get_dummies(train_data[features]), \n",
    "                                                    train_data['Survived'], test_size=0.30, \n",
    "                                                    random_state=101)"
   ]
  },
  {
   "cell_type": "markdown",
   "metadata": {},
   "source": [
    "#### Logistic Regression"
   ]
  },
  {
   "cell_type": "code",
   "execution_count": 69,
   "metadata": {},
   "outputs": [],
   "source": [
    "from sklearn.linear_model import LogisticRegression"
   ]
  },
  {
   "cell_type": "code",
   "execution_count": 70,
   "metadata": {},
   "outputs": [
    {
     "name": "stderr",
     "output_type": "stream",
     "text": [
      "/opt/conda/lib/python3.7/site-packages/sklearn/linear_model/_logistic.py:764: ConvergenceWarning: lbfgs failed to converge (status=1):\n",
      "STOP: TOTAL NO. of ITERATIONS REACHED LIMIT.\n",
      "\n",
      "Increase the number of iterations (max_iter) or scale the data as shown in:\n",
      "    https://scikit-learn.org/stable/modules/preprocessing.html\n",
      "Please also refer to the documentation for alternative solver options:\n",
      "    https://scikit-learn.org/stable/modules/linear_model.html#logistic-regression\n",
      "  extra_warning_msg=_LOGISTIC_SOLVER_CONVERGENCE_MSG)\n"
     ]
    },
    {
     "data": {
      "text/plain": [
       "LogisticRegression()"
      ]
     },
     "execution_count": 70,
     "metadata": {},
     "output_type": "execute_result"
    }
   ],
   "source": [
    "logmodel = LogisticRegression()\n",
    "logmodel.fit(X_train,y_train)"
   ]
  },
  {
   "cell_type": "code",
   "execution_count": 71,
   "metadata": {},
   "outputs": [],
   "source": [
    "predictions = logmodel.predict(X_test)"
   ]
  },
  {
   "cell_type": "code",
   "execution_count": 72,
   "metadata": {},
   "outputs": [
    {
     "name": "stdout",
     "output_type": "stream",
     "text": [
      "              precision    recall  f1-score   support\n",
      "\n",
      "         0.0       0.77      0.86      0.82       154\n",
      "         1.0       0.78      0.66      0.71       114\n",
      "\n",
      "    accuracy                           0.78       268\n",
      "   macro avg       0.78      0.76      0.77       268\n",
      "weighted avg       0.78      0.78      0.77       268\n",
      "\n"
     ]
    }
   ],
   "source": [
    "print(classification_report(y_test,predictions))"
   ]
  },
  {
   "cell_type": "markdown",
   "metadata": {},
   "source": [
    "#### For Submission"
   ]
  },
  {
   "cell_type": "code",
   "execution_count": 73,
   "metadata": {},
   "outputs": [
    {
     "ename": "NameError",
     "evalue": "name 'model' is not defined",
     "output_type": "error",
     "traceback": [
      "\u001b[0;31m---------------------------------------------------------------------------\u001b[0m",
      "\u001b[0;31mNameError\u001b[0m                                 Traceback (most recent call last)",
      "\u001b[0;32m<ipython-input-73-fe4a969a7b21>\u001b[0m in \u001b[0;36m<module>\u001b[0;34m\u001b[0m\n\u001b[1;32m      1\u001b[0m \u001b[0mX_test\u001b[0m \u001b[0;34m=\u001b[0m \u001b[0mpd\u001b[0m\u001b[0;34m.\u001b[0m\u001b[0mget_dummies\u001b[0m\u001b[0;34m(\u001b[0m\u001b[0mtest_data\u001b[0m\u001b[0;34m[\u001b[0m\u001b[0mfeatures\u001b[0m\u001b[0;34m]\u001b[0m\u001b[0;34m)\u001b[0m\u001b[0;34m\u001b[0m\u001b[0;34m\u001b[0m\u001b[0m\n\u001b[0;32m----> 2\u001b[0;31m \u001b[0mpredictions\u001b[0m \u001b[0;34m=\u001b[0m \u001b[0mmodel\u001b[0m\u001b[0;34m.\u001b[0m\u001b[0mpredict\u001b[0m\u001b[0;34m(\u001b[0m\u001b[0mX_test\u001b[0m\u001b[0;34m)\u001b[0m\u001b[0;34m\u001b[0m\u001b[0;34m\u001b[0m\u001b[0m\n\u001b[0m",
      "\u001b[0;31mNameError\u001b[0m: name 'model' is not defined"
     ]
    }
   ],
   "source": [
    "X_test = pd.get_dummies(test_data[features])\n",
    "predictions = model.predict(X_test)"
   ]
  },
  {
   "cell_type": "code",
   "execution_count": 74,
   "metadata": {},
   "outputs": [
    {
     "data": {
      "text/plain": [
       "'\\nfrom sklearn.ensemble import RandomForestClassifier\\n\\ny = train_data[\"Survived\"]\\n\\nfeatures = [\"Pclass\", \"Sex\", \"SibSp\", \"Parch\", \"Age\", \"Fare\", \"Embarked\"]\\nX = pd.get_dummies(train_data[features])\\nX_test = pd.get_dummies(test_data[features])\\n\\nmodel = RandomForestClassifier(n_estimators=100, max_depth=5, random_state=1)\\nmodel.fit(X, y)\\npredictions = model.predict(X_test)\\n'"
      ]
     },
     "execution_count": 74,
     "metadata": {},
     "output_type": "execute_result"
    }
   ],
   "source": [
    "'''\n",
    "from sklearn.ensemble import RandomForestClassifier\n",
    "\n",
    "y = train_data[\"Survived\"]\n",
    "\n",
    "features = [\"Pclass\", \"Sex\", \"SibSp\", \"Parch\", \"Age\", \"Fare\", \"Embarked\"]\n",
    "X = pd.get_dummies(train_data[features])\n",
    "X_test = pd.get_dummies(test_data[features])\n",
    "\n",
    "model = RandomForestClassifier(n_estimators=100, max_depth=5, random_state=1)\n",
    "model.fit(X, y)\n",
    "predictions = model.predict(X_test)\n",
    "'''"
   ]
  },
  {
   "cell_type": "code",
   "execution_count": 75,
   "metadata": {},
   "outputs": [
    {
     "ename": "ValueError",
     "evalue": "array length 268 does not match index length 418",
     "output_type": "error",
     "traceback": [
      "\u001b[0;31m---------------------------------------------------------------------------\u001b[0m",
      "\u001b[0;31mValueError\u001b[0m                                Traceback (most recent call last)",
      "\u001b[0;32m<ipython-input-75-39caf572f4c4>\u001b[0m in \u001b[0;36m<module>\u001b[0;34m\u001b[0m\n\u001b[0;32m----> 1\u001b[0;31m \u001b[0moutput\u001b[0m \u001b[0;34m=\u001b[0m \u001b[0mpd\u001b[0m\u001b[0;34m.\u001b[0m\u001b[0mDataFrame\u001b[0m\u001b[0;34m(\u001b[0m\u001b[0;34m{\u001b[0m\u001b[0;34m'PassengerId'\u001b[0m\u001b[0;34m:\u001b[0m \u001b[0mtest_data\u001b[0m\u001b[0;34m.\u001b[0m\u001b[0mPassengerId\u001b[0m\u001b[0;34m,\u001b[0m \u001b[0;34m'Survived'\u001b[0m\u001b[0;34m:\u001b[0m \u001b[0mpredictions\u001b[0m\u001b[0;34m}\u001b[0m\u001b[0;34m)\u001b[0m\u001b[0;34m\u001b[0m\u001b[0;34m\u001b[0m\u001b[0m\n\u001b[0m\u001b[1;32m      2\u001b[0m \u001b[0moutput\u001b[0m\u001b[0;34m.\u001b[0m\u001b[0mto_csv\u001b[0m\u001b[0;34m(\u001b[0m\u001b[0;34m'my_submission.csv'\u001b[0m\u001b[0;34m,\u001b[0m \u001b[0mindex\u001b[0m\u001b[0;34m=\u001b[0m\u001b[0;32mFalse\u001b[0m\u001b[0;34m)\u001b[0m\u001b[0;34m\u001b[0m\u001b[0;34m\u001b[0m\u001b[0m\n\u001b[1;32m      3\u001b[0m \u001b[0mprint\u001b[0m\u001b[0;34m(\u001b[0m\u001b[0;34m\"Your submission was successfully saved!\"\u001b[0m\u001b[0;34m)\u001b[0m\u001b[0;34m\u001b[0m\u001b[0;34m\u001b[0m\u001b[0m\n",
      "\u001b[0;32m/opt/conda/lib/python3.7/site-packages/pandas/core/frame.py\u001b[0m in \u001b[0;36m__init__\u001b[0;34m(self, data, index, columns, dtype, copy)\u001b[0m\n\u001b[1;32m    433\u001b[0m             )\n\u001b[1;32m    434\u001b[0m         \u001b[0;32melif\u001b[0m \u001b[0misinstance\u001b[0m\u001b[0;34m(\u001b[0m\u001b[0mdata\u001b[0m\u001b[0;34m,\u001b[0m \u001b[0mdict\u001b[0m\u001b[0;34m)\u001b[0m\u001b[0;34m:\u001b[0m\u001b[0;34m\u001b[0m\u001b[0;34m\u001b[0m\u001b[0m\n\u001b[0;32m--> 435\u001b[0;31m             \u001b[0mmgr\u001b[0m \u001b[0;34m=\u001b[0m \u001b[0minit_dict\u001b[0m\u001b[0;34m(\u001b[0m\u001b[0mdata\u001b[0m\u001b[0;34m,\u001b[0m \u001b[0mindex\u001b[0m\u001b[0;34m,\u001b[0m \u001b[0mcolumns\u001b[0m\u001b[0;34m,\u001b[0m \u001b[0mdtype\u001b[0m\u001b[0;34m=\u001b[0m\u001b[0mdtype\u001b[0m\u001b[0;34m)\u001b[0m\u001b[0;34m\u001b[0m\u001b[0;34m\u001b[0m\u001b[0m\n\u001b[0m\u001b[1;32m    436\u001b[0m         \u001b[0;32melif\u001b[0m \u001b[0misinstance\u001b[0m\u001b[0;34m(\u001b[0m\u001b[0mdata\u001b[0m\u001b[0;34m,\u001b[0m \u001b[0mma\u001b[0m\u001b[0;34m.\u001b[0m\u001b[0mMaskedArray\u001b[0m\u001b[0;34m)\u001b[0m\u001b[0;34m:\u001b[0m\u001b[0;34m\u001b[0m\u001b[0;34m\u001b[0m\u001b[0m\n\u001b[1;32m    437\u001b[0m             \u001b[0;32mimport\u001b[0m \u001b[0mnumpy\u001b[0m\u001b[0;34m.\u001b[0m\u001b[0mma\u001b[0m\u001b[0;34m.\u001b[0m\u001b[0mmrecords\u001b[0m \u001b[0;32mas\u001b[0m \u001b[0mmrecords\u001b[0m\u001b[0;34m\u001b[0m\u001b[0;34m\u001b[0m\u001b[0m\n",
      "\u001b[0;32m/opt/conda/lib/python3.7/site-packages/pandas/core/internals/construction.py\u001b[0m in \u001b[0;36minit_dict\u001b[0;34m(data, index, columns, dtype)\u001b[0m\n\u001b[1;32m    252\u001b[0m             \u001b[0marr\u001b[0m \u001b[0;32mif\u001b[0m \u001b[0;32mnot\u001b[0m \u001b[0mis_datetime64tz_dtype\u001b[0m\u001b[0;34m(\u001b[0m\u001b[0marr\u001b[0m\u001b[0;34m)\u001b[0m \u001b[0;32melse\u001b[0m \u001b[0marr\u001b[0m\u001b[0;34m.\u001b[0m\u001b[0mcopy\u001b[0m\u001b[0;34m(\u001b[0m\u001b[0;34m)\u001b[0m \u001b[0;32mfor\u001b[0m \u001b[0marr\u001b[0m \u001b[0;32min\u001b[0m \u001b[0marrays\u001b[0m\u001b[0;34m\u001b[0m\u001b[0;34m\u001b[0m\u001b[0m\n\u001b[1;32m    253\u001b[0m         ]\n\u001b[0;32m--> 254\u001b[0;31m     \u001b[0;32mreturn\u001b[0m \u001b[0marrays_to_mgr\u001b[0m\u001b[0;34m(\u001b[0m\u001b[0marrays\u001b[0m\u001b[0;34m,\u001b[0m \u001b[0mdata_names\u001b[0m\u001b[0;34m,\u001b[0m \u001b[0mindex\u001b[0m\u001b[0;34m,\u001b[0m \u001b[0mcolumns\u001b[0m\u001b[0;34m,\u001b[0m \u001b[0mdtype\u001b[0m\u001b[0;34m=\u001b[0m\u001b[0mdtype\u001b[0m\u001b[0;34m)\u001b[0m\u001b[0;34m\u001b[0m\u001b[0;34m\u001b[0m\u001b[0m\n\u001b[0m\u001b[1;32m    255\u001b[0m \u001b[0;34m\u001b[0m\u001b[0m\n\u001b[1;32m    256\u001b[0m \u001b[0;34m\u001b[0m\u001b[0m\n",
      "\u001b[0;32m/opt/conda/lib/python3.7/site-packages/pandas/core/internals/construction.py\u001b[0m in \u001b[0;36marrays_to_mgr\u001b[0;34m(arrays, arr_names, index, columns, dtype)\u001b[0m\n\u001b[1;32m     62\u001b[0m     \u001b[0;31m# figure out the index, if necessary\u001b[0m\u001b[0;34m\u001b[0m\u001b[0;34m\u001b[0m\u001b[0;34m\u001b[0m\u001b[0m\n\u001b[1;32m     63\u001b[0m     \u001b[0;32mif\u001b[0m \u001b[0mindex\u001b[0m \u001b[0;32mis\u001b[0m \u001b[0;32mNone\u001b[0m\u001b[0;34m:\u001b[0m\u001b[0;34m\u001b[0m\u001b[0;34m\u001b[0m\u001b[0m\n\u001b[0;32m---> 64\u001b[0;31m         \u001b[0mindex\u001b[0m \u001b[0;34m=\u001b[0m \u001b[0mextract_index\u001b[0m\u001b[0;34m(\u001b[0m\u001b[0marrays\u001b[0m\u001b[0;34m)\u001b[0m\u001b[0;34m\u001b[0m\u001b[0;34m\u001b[0m\u001b[0m\n\u001b[0m\u001b[1;32m     65\u001b[0m     \u001b[0;32melse\u001b[0m\u001b[0;34m:\u001b[0m\u001b[0;34m\u001b[0m\u001b[0;34m\u001b[0m\u001b[0m\n\u001b[1;32m     66\u001b[0m         \u001b[0mindex\u001b[0m \u001b[0;34m=\u001b[0m \u001b[0mensure_index\u001b[0m\u001b[0;34m(\u001b[0m\u001b[0mindex\u001b[0m\u001b[0;34m)\u001b[0m\u001b[0;34m\u001b[0m\u001b[0;34m\u001b[0m\u001b[0m\n",
      "\u001b[0;32m/opt/conda/lib/python3.7/site-packages/pandas/core/internals/construction.py\u001b[0m in \u001b[0;36mextract_index\u001b[0;34m(data)\u001b[0m\n\u001b[1;32m    376\u001b[0m                         \u001b[0;34mf\"length {len(index)}\"\u001b[0m\u001b[0;34m\u001b[0m\u001b[0;34m\u001b[0m\u001b[0m\n\u001b[1;32m    377\u001b[0m                     )\n\u001b[0;32m--> 378\u001b[0;31m                     \u001b[0;32mraise\u001b[0m \u001b[0mValueError\u001b[0m\u001b[0;34m(\u001b[0m\u001b[0mmsg\u001b[0m\u001b[0;34m)\u001b[0m\u001b[0;34m\u001b[0m\u001b[0;34m\u001b[0m\u001b[0m\n\u001b[0m\u001b[1;32m    379\u001b[0m             \u001b[0;32melse\u001b[0m\u001b[0;34m:\u001b[0m\u001b[0;34m\u001b[0m\u001b[0;34m\u001b[0m\u001b[0m\n\u001b[1;32m    380\u001b[0m                 \u001b[0mindex\u001b[0m \u001b[0;34m=\u001b[0m \u001b[0mibase\u001b[0m\u001b[0;34m.\u001b[0m\u001b[0mdefault_index\u001b[0m\u001b[0;34m(\u001b[0m\u001b[0mlengths\u001b[0m\u001b[0;34m[\u001b[0m\u001b[0;36m0\u001b[0m\u001b[0;34m]\u001b[0m\u001b[0;34m)\u001b[0m\u001b[0;34m\u001b[0m\u001b[0;34m\u001b[0m\u001b[0m\n",
      "\u001b[0;31mValueError\u001b[0m: array length 268 does not match index length 418"
     ]
    }
   ],
   "source": [
    "output = pd.DataFrame({'PassengerId': test_data.PassengerId, 'Survived': predictions})\n",
    "output.to_csv('my_submission.csv', index=False)\n",
    "print(\"Your submission was successfully saved!\")"
   ]
  }
 ],
 "metadata": {
  "kernelspec": {
   "display_name": "Python 3",
   "language": "python",
   "name": "python3"
  },
  "language_info": {
   "codemirror_mode": {
    "name": "ipython",
    "version": 3
   },
   "file_extension": ".py",
   "mimetype": "text/x-python",
   "name": "python",
   "nbconvert_exporter": "python",
   "pygments_lexer": "ipython3",
   "version": "3.7.6"
  }
 },
 "nbformat": 4,
 "nbformat_minor": 4
}
