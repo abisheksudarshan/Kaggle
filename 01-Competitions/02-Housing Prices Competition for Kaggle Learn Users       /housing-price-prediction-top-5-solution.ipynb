{
 "cells": [
  {
   "cell_type": "markdown",
   "id": "b55424f8",
   "metadata": {
    "papermill": {
     "duration": 0.007885,
     "end_time": "2023-03-23T07:37:57.564749",
     "exception": false,
     "start_time": "2023-03-23T07:37:57.556864",
     "status": "completed"
    },
    "tags": []
   },
   "source": [
    "![Ames Housing dataset image](https://i.imgur.com/lTJVG4e.png)"
   ]
  },
  {
   "cell_type": "markdown",
   "id": "98f7b937",
   "metadata": {
    "papermill": {
     "duration": 0.006516,
     "end_time": "2023-03-23T07:37:57.578456",
     "exception": false,
     "start_time": "2023-03-23T07:37:57.571940",
     "status": "completed"
    },
    "tags": []
   },
   "source": [
    "# Housing Price Prediction\n",
    "\n",
    "Ask a home buyer to describe their dream house, and they probably won't begin with the height of the basement ceiling or the proximity to an east-west railroad. But this playground competition's dataset proves that much more influences price negotiations than the number of bedrooms or a white-picket fence.\n",
    "\n",
    "With 79 explanatory variables describing (almost) every aspect of residential homes in Ames, Iowa, this competition challenges you to predict the final price of each home."
   ]
  },
  {
   "cell_type": "markdown",
   "id": "767aacaa",
   "metadata": {
    "papermill": {
     "duration": 0.006541,
     "end_time": "2023-03-23T07:37:57.591718",
     "exception": false,
     "start_time": "2023-03-23T07:37:57.585177",
     "status": "completed"
    },
    "tags": []
   },
   "source": [
    "##### expand below cell for data dictionary and file description"
   ]
  },
  {
   "cell_type": "markdown",
   "id": "3d408386",
   "metadata": {
    "papermill": {
     "duration": 0.006563,
     "end_time": "2023-03-23T07:37:57.605066",
     "exception": false,
     "start_time": "2023-03-23T07:37:57.598503",
     "status": "completed"
    },
    "tags": []
   },
   "source": [
    "## File descriptions\n",
    "\n",
    "    train.csv - the training set\n",
    "    test.csv - the test set\n",
    "    data_description.txt - full description of each column, originally prepared by Dean De Cock but lightly edited to match the column names used here\n",
    "    sample_submission.csv - a benchmark submission from a linear regression on year and month of sale, lot square footage, and number of bedrooms\n",
    "\n",
    "## Data fields\n",
    "\n",
    "Here's a brief version of what you'll find in the data description file.\n",
    "\n",
    "    SalePrice - the property's sale price in dollars. This is the target variable that you're trying to predict.\n",
    "    MSSubClass: The building class\n",
    "    MSZoning: The general zoning classification\n",
    "    LotFrontage: Linear feet of street connected to property\n",
    "    LotArea: Lot size in square feet\n",
    "    Street: Type of road access\n",
    "    Alley: Type of alley access\n",
    "    LotShape: General shape of property\n",
    "    LandContour: Flatness of the property\n",
    "    Utilities: Type of utilities available\n",
    "    LotConfig: Lot configuration\n",
    "    LandSlope: Slope of property\n",
    "    Neighborhood: Physical locations within Ames city limits\n",
    "    Condition1: Proximity to main road or railroad\n",
    "    Condition2: Proximity to main road or railroad (if a second is present)\n",
    "    BldgType: Type of dwelling\n",
    "    HouseStyle: Style of dwelling\n",
    "    OverallQual: Overall material and finish quality\n",
    "    OverallCond: Overall condition rating\n",
    "    YearBuilt: Original construction date\n",
    "    YearRemodAdd: Remodel date\n",
    "    RoofStyle: Type of roof\n",
    "    RoofMatl: Roof material\n",
    "    Exterior1st: Exterior covering on house\n",
    "    Exterior2nd: Exterior covering on house (if more than one material)\n",
    "    MasVnrType: Masonry veneer type\n",
    "    MasVnrArea: Masonry veneer area in square feet\n",
    "    ExterQual: Exterior material quality\n",
    "    ExterCond: Present condition of the material on the exterior\n",
    "    Foundation: Type of foundation\n",
    "    BsmtQual: Height of the basement\n",
    "    BsmtCond: General condition of the basement\n",
    "    BsmtExposure: Walkout or garden level basement walls\n",
    "    BsmtFinType1: Quality of basement finished area\n",
    "    BsmtFinSF1: Type 1 finished square feet\n",
    "    BsmtFinType2: Quality of second finished area (if present)\n",
    "    BsmtFinSF2: Type 2 finished square feet\n",
    "    BsmtUnfSF: Unfinished square feet of basement area\n",
    "    TotalBsmtSF: Total square feet of basement area\n",
    "    Heating: Type of heating\n",
    "    HeatingQC: Heating quality and condition\n",
    "    CentralAir: Central air conditioning\n",
    "    Electrical: Electrical system\n",
    "    1stFlrSF: First Floor square feet\n",
    "    2ndFlrSF: Second floor square feet\n",
    "    LowQualFinSF: Low quality finished square feet (all floors)\n",
    "    GrLivArea: Above grade (ground) living area square feet\n",
    "    BsmtFullBath: Basement full bathrooms\n",
    "    BsmtHalfBath: Basement half bathrooms\n",
    "    FullBath: Full bathrooms above grade\n",
    "    HalfBath: Half baths above grade\n",
    "    Bedroom: Number of bedrooms above basement level\n",
    "    Kitchen: Number of kitchens\n",
    "    KitchenQual: Kitchen quality\n",
    "    TotRmsAbvGrd: Total rooms above grade (does not include bathrooms)\n",
    "    Functional: Home functionality rating\n",
    "    Fireplaces: Number of fireplaces\n",
    "    FireplaceQu: Fireplace quality\n",
    "    GarageType: Garage location\n",
    "    GarageYrBlt: Year garage was built\n",
    "    GarageFinish: Interior finish of the garage\n",
    "    GarageCars: Size of garage in car capacity\n",
    "    GarageArea: Size of garage in square feet\n",
    "    GarageQual: Garage quality\n",
    "    GarageCond: Garage condition\n",
    "    PavedDrive: Paved driveway\n",
    "    WoodDeckSF: Wood deck area in square feet\n",
    "    OpenPorchSF: Open porch area in square feet\n",
    "    EnclosedPorch: Enclosed porch area in square feet\n",
    "    3SsnPorch: Three season porch area in square feet\n",
    "    ScreenPorch: Screen porch area in square feet\n",
    "    PoolArea: Pool area in square feet\n",
    "    PoolQC: Pool quality\n",
    "    Fence: Fence quality\n",
    "    MiscFeature: Miscellaneous feature not covered in other categories\n",
    "    MiscVal: $Value of miscellaneous feature\n",
    "    MoSold: Month Sold\n",
    "    YrSold: Year Sold\n",
    "    SaleType: Type of sale\n",
    "    SaleCondition: Condition of sale\n"
   ]
  },
  {
   "cell_type": "markdown",
   "id": "3420936f",
   "metadata": {
    "papermill": {
     "duration": 0.006491,
     "end_time": "2023-03-23T07:37:57.618459",
     "exception": false,
     "start_time": "2023-03-23T07:37:57.611968",
     "status": "completed"
    },
    "tags": []
   },
   "source": [
    "# Setup"
   ]
  },
  {
   "cell_type": "code",
   "execution_count": 1,
   "id": "0304d668",
   "metadata": {
    "execution": {
     "iopub.execute_input": "2023-03-23T07:37:57.633672Z",
     "iopub.status.busy": "2023-03-23T07:37:57.633276Z",
     "iopub.status.idle": "2023-03-23T07:38:00.168801Z",
     "shell.execute_reply": "2023-03-23T07:38:00.167458Z"
    },
    "papermill": {
     "duration": 2.546966,
     "end_time": "2023-03-23T07:38:00.172121",
     "exception": false,
     "start_time": "2023-03-23T07:37:57.625155",
     "status": "completed"
    },
    "tags": []
   },
   "outputs": [
    {
     "name": "stdout",
     "output_type": "stream",
     "text": [
      "Setup Complete\n"
     ]
    }
   ],
   "source": [
    "# Set up code checking\n",
    "import os\n",
    "if not os.path.exists(\"../input/train.csv\"):\n",
    "    os.symlink(\"../input/home-data-for-ml-course/train.csv\", \"../input/train.csv\")  \n",
    "    os.symlink(\"../input/home-data-for-ml-course/test.csv\", \"../input/test.csv\") \n",
    "from learntools.core import binder\n",
    "binder.bind(globals())\n",
    "from learntools.ml_intermediate.ex6 import *\n",
    "print(\"Setup Complete\")"
   ]
  },
  {
   "cell_type": "code",
   "execution_count": 2,
   "id": "9a7d97a3",
   "metadata": {
    "execution": {
     "iopub.execute_input": "2023-03-23T07:38:00.190165Z",
     "iopub.status.busy": "2023-03-23T07:38:00.189019Z",
     "iopub.status.idle": "2023-03-23T07:38:00.511642Z",
     "shell.execute_reply": "2023-03-23T07:38:00.510313Z"
    },
    "papermill": {
     "duration": 0.334552,
     "end_time": "2023-03-23T07:38:00.514849",
     "exception": false,
     "start_time": "2023-03-23T07:38:00.180297",
     "status": "completed"
    },
    "tags": []
   },
   "outputs": [],
   "source": [
    "# for data processing\n",
    "import pandas as pd\n",
    "import numpy as np\n",
    "\n",
    "# for data visualization\n",
    "import seaborn as sns\n",
    "import matplotlib.pyplot as plt\n",
    "%matplotlib inline\n",
    "\n",
    "import warnings\n",
    "warnings.filterwarnings('ignore')"
   ]
  },
  {
   "cell_type": "markdown",
   "id": "a9787a04",
   "metadata": {
    "papermill": {
     "duration": 0.007887,
     "end_time": "2023-03-23T07:38:00.530295",
     "exception": false,
     "start_time": "2023-03-23T07:38:00.522408",
     "status": "completed"
    },
    "tags": []
   },
   "source": [
    "# Loading Data"
   ]
  },
  {
   "cell_type": "code",
   "execution_count": 3,
   "id": "de1256a8",
   "metadata": {
    "execution": {
     "iopub.execute_input": "2023-03-23T07:38:00.546784Z",
     "iopub.status.busy": "2023-03-23T07:38:00.546343Z",
     "iopub.status.idle": "2023-03-23T07:38:00.593162Z",
     "shell.execute_reply": "2023-03-23T07:38:00.591834Z"
    },
    "papermill": {
     "duration": 0.058203,
     "end_time": "2023-03-23T07:38:00.595872",
     "exception": false,
     "start_time": "2023-03-23T07:38:00.537669",
     "status": "completed"
    },
    "tags": []
   },
   "outputs": [],
   "source": [
    "train = pd.read_csv('../input/train.csv')\n",
    "test = pd.read_csv('../input/test.csv')"
   ]
  },
  {
   "cell_type": "code",
   "execution_count": 4,
   "id": "28e1e2eb",
   "metadata": {
    "execution": {
     "iopub.execute_input": "2023-03-23T07:38:00.612309Z",
     "iopub.status.busy": "2023-03-23T07:38:00.611862Z",
     "iopub.status.idle": "2023-03-23T07:38:00.618151Z",
     "shell.execute_reply": "2023-03-23T07:38:00.616729Z"
    },
    "papermill": {
     "duration": 0.018155,
     "end_time": "2023-03-23T07:38:00.621211",
     "exception": false,
     "start_time": "2023-03-23T07:38:00.603056",
     "status": "completed"
    },
    "tags": []
   },
   "outputs": [
    {
     "name": "stdout",
     "output_type": "stream",
     "text": [
      "Train Shape : (1460, 81)\n",
      "Test Shape : (1459, 80)\n"
     ]
    }
   ],
   "source": [
    "print (\"Train Shape :\" ,train.shape)\n",
    "print (\"Test Shape :\" ,test.shape)"
   ]
  },
  {
   "cell_type": "markdown",
   "id": "44ca2fa0",
   "metadata": {
    "papermill": {
     "duration": 0.007514,
     "end_time": "2023-03-23T07:38:00.636130",
     "exception": false,
     "start_time": "2023-03-23T07:38:00.628616",
     "status": "completed"
    },
    "tags": []
   },
   "source": [
    "#### lets look at a sample of training data for understanding the data"
   ]
  },
  {
   "cell_type": "code",
   "execution_count": 5,
   "id": "89ad9897",
   "metadata": {
    "execution": {
     "iopub.execute_input": "2023-03-23T07:38:00.653437Z",
     "iopub.status.busy": "2023-03-23T07:38:00.652281Z",
     "iopub.status.idle": "2023-03-23T07:38:00.679685Z",
     "shell.execute_reply": "2023-03-23T07:38:00.678299Z"
    },
    "papermill": {
     "duration": 0.03931,
     "end_time": "2023-03-23T07:38:00.682735",
     "exception": false,
     "start_time": "2023-03-23T07:38:00.643425",
     "status": "completed"
    },
    "tags": []
   },
   "outputs": [
    {
     "data": {
      "text/html": [
       "<div>\n",
       "<style scoped>\n",
       "    .dataframe tbody tr th:only-of-type {\n",
       "        vertical-align: middle;\n",
       "    }\n",
       "\n",
       "    .dataframe tbody tr th {\n",
       "        vertical-align: top;\n",
       "    }\n",
       "\n",
       "    .dataframe thead th {\n",
       "        text-align: right;\n",
       "    }\n",
       "</style>\n",
       "<table border=\"1\" class=\"dataframe\">\n",
       "  <thead>\n",
       "    <tr style=\"text-align: right;\">\n",
       "      <th></th>\n",
       "      <th>0</th>\n",
       "      <th>1</th>\n",
       "      <th>2</th>\n",
       "    </tr>\n",
       "  </thead>\n",
       "  <tbody>\n",
       "    <tr>\n",
       "      <th>Id</th>\n",
       "      <td>1</td>\n",
       "      <td>2</td>\n",
       "      <td>3</td>\n",
       "    </tr>\n",
       "    <tr>\n",
       "      <th>MSSubClass</th>\n",
       "      <td>60</td>\n",
       "      <td>20</td>\n",
       "      <td>60</td>\n",
       "    </tr>\n",
       "    <tr>\n",
       "      <th>MSZoning</th>\n",
       "      <td>RL</td>\n",
       "      <td>RL</td>\n",
       "      <td>RL</td>\n",
       "    </tr>\n",
       "    <tr>\n",
       "      <th>LotFrontage</th>\n",
       "      <td>65.0</td>\n",
       "      <td>80.0</td>\n",
       "      <td>68.0</td>\n",
       "    </tr>\n",
       "    <tr>\n",
       "      <th>LotArea</th>\n",
       "      <td>8450</td>\n",
       "      <td>9600</td>\n",
       "      <td>11250</td>\n",
       "    </tr>\n",
       "    <tr>\n",
       "      <th>...</th>\n",
       "      <td>...</td>\n",
       "      <td>...</td>\n",
       "      <td>...</td>\n",
       "    </tr>\n",
       "    <tr>\n",
       "      <th>MoSold</th>\n",
       "      <td>2</td>\n",
       "      <td>5</td>\n",
       "      <td>9</td>\n",
       "    </tr>\n",
       "    <tr>\n",
       "      <th>YrSold</th>\n",
       "      <td>2008</td>\n",
       "      <td>2007</td>\n",
       "      <td>2008</td>\n",
       "    </tr>\n",
       "    <tr>\n",
       "      <th>SaleType</th>\n",
       "      <td>WD</td>\n",
       "      <td>WD</td>\n",
       "      <td>WD</td>\n",
       "    </tr>\n",
       "    <tr>\n",
       "      <th>SaleCondition</th>\n",
       "      <td>Normal</td>\n",
       "      <td>Normal</td>\n",
       "      <td>Normal</td>\n",
       "    </tr>\n",
       "    <tr>\n",
       "      <th>SalePrice</th>\n",
       "      <td>208500</td>\n",
       "      <td>181500</td>\n",
       "      <td>223500</td>\n",
       "    </tr>\n",
       "  </tbody>\n",
       "</table>\n",
       "<p>81 rows × 3 columns</p>\n",
       "</div>"
      ],
      "text/plain": [
       "                    0       1       2\n",
       "Id                  1       2       3\n",
       "MSSubClass         60      20      60\n",
       "MSZoning           RL      RL      RL\n",
       "LotFrontage      65.0    80.0    68.0\n",
       "LotArea          8450    9600   11250\n",
       "...               ...     ...     ...\n",
       "MoSold              2       5       9\n",
       "YrSold           2008    2007    2008\n",
       "SaleType           WD      WD      WD\n",
       "SaleCondition  Normal  Normal  Normal\n",
       "SalePrice      208500  181500  223500\n",
       "\n",
       "[81 rows x 3 columns]"
      ]
     },
     "execution_count": 5,
     "metadata": {},
     "output_type": "execute_result"
    }
   ],
   "source": [
    "train.head(3).transpose()"
   ]
  },
  {
   "cell_type": "markdown",
   "id": "4ef38aa4",
   "metadata": {
    "papermill": {
     "duration": 0.007243,
     "end_time": "2023-03-23T07:38:00.697647",
     "exception": false,
     "start_time": "2023-03-23T07:38:00.690404",
     "status": "completed"
    },
    "tags": []
   },
   "source": [
    "##### summary statistics on training data"
   ]
  },
  {
   "cell_type": "code",
   "execution_count": 6,
   "id": "01c7daf0",
   "metadata": {
    "execution": {
     "iopub.execute_input": "2023-03-23T07:38:00.714663Z",
     "iopub.status.busy": "2023-03-23T07:38:00.714248Z",
     "iopub.status.idle": "2023-03-23T07:38:00.835040Z",
     "shell.execute_reply": "2023-03-23T07:38:00.834102Z"
    },
    "papermill": {
     "duration": 0.132464,
     "end_time": "2023-03-23T07:38:00.837790",
     "exception": false,
     "start_time": "2023-03-23T07:38:00.705326",
     "status": "completed"
    },
    "tags": []
   },
   "outputs": [
    {
     "data": {
      "text/html": [
       "<div>\n",
       "<style scoped>\n",
       "    .dataframe tbody tr th:only-of-type {\n",
       "        vertical-align: middle;\n",
       "    }\n",
       "\n",
       "    .dataframe tbody tr th {\n",
       "        vertical-align: top;\n",
       "    }\n",
       "\n",
       "    .dataframe thead th {\n",
       "        text-align: right;\n",
       "    }\n",
       "</style>\n",
       "<table border=\"1\" class=\"dataframe\">\n",
       "  <thead>\n",
       "    <tr style=\"text-align: right;\">\n",
       "      <th></th>\n",
       "      <th>count</th>\n",
       "      <th>mean</th>\n",
       "      <th>std</th>\n",
       "      <th>min</th>\n",
       "      <th>25%</th>\n",
       "      <th>50%</th>\n",
       "      <th>75%</th>\n",
       "      <th>max</th>\n",
       "    </tr>\n",
       "  </thead>\n",
       "  <tbody>\n",
       "    <tr>\n",
       "      <th>Id</th>\n",
       "      <td>1460.0</td>\n",
       "      <td>730.500000</td>\n",
       "      <td>421.610009</td>\n",
       "      <td>1.0</td>\n",
       "      <td>365.75</td>\n",
       "      <td>730.5</td>\n",
       "      <td>1095.25</td>\n",
       "      <td>1460.0</td>\n",
       "    </tr>\n",
       "    <tr>\n",
       "      <th>MSSubClass</th>\n",
       "      <td>1460.0</td>\n",
       "      <td>56.897260</td>\n",
       "      <td>42.300571</td>\n",
       "      <td>20.0</td>\n",
       "      <td>20.00</td>\n",
       "      <td>50.0</td>\n",
       "      <td>70.00</td>\n",
       "      <td>190.0</td>\n",
       "    </tr>\n",
       "    <tr>\n",
       "      <th>LotFrontage</th>\n",
       "      <td>1201.0</td>\n",
       "      <td>70.049958</td>\n",
       "      <td>24.284752</td>\n",
       "      <td>21.0</td>\n",
       "      <td>59.00</td>\n",
       "      <td>69.0</td>\n",
       "      <td>80.00</td>\n",
       "      <td>313.0</td>\n",
       "    </tr>\n",
       "    <tr>\n",
       "      <th>LotArea</th>\n",
       "      <td>1460.0</td>\n",
       "      <td>10516.828082</td>\n",
       "      <td>9981.264932</td>\n",
       "      <td>1300.0</td>\n",
       "      <td>7553.50</td>\n",
       "      <td>9478.5</td>\n",
       "      <td>11601.50</td>\n",
       "      <td>215245.0</td>\n",
       "    </tr>\n",
       "    <tr>\n",
       "      <th>OverallQual</th>\n",
       "      <td>1460.0</td>\n",
       "      <td>6.099315</td>\n",
       "      <td>1.382997</td>\n",
       "      <td>1.0</td>\n",
       "      <td>5.00</td>\n",
       "      <td>6.0</td>\n",
       "      <td>7.00</td>\n",
       "      <td>10.0</td>\n",
       "    </tr>\n",
       "    <tr>\n",
       "      <th>OverallCond</th>\n",
       "      <td>1460.0</td>\n",
       "      <td>5.575342</td>\n",
       "      <td>1.112799</td>\n",
       "      <td>1.0</td>\n",
       "      <td>5.00</td>\n",
       "      <td>5.0</td>\n",
       "      <td>6.00</td>\n",
       "      <td>9.0</td>\n",
       "    </tr>\n",
       "    <tr>\n",
       "      <th>YearBuilt</th>\n",
       "      <td>1460.0</td>\n",
       "      <td>1971.267808</td>\n",
       "      <td>30.202904</td>\n",
       "      <td>1872.0</td>\n",
       "      <td>1954.00</td>\n",
       "      <td>1973.0</td>\n",
       "      <td>2000.00</td>\n",
       "      <td>2010.0</td>\n",
       "    </tr>\n",
       "    <tr>\n",
       "      <th>YearRemodAdd</th>\n",
       "      <td>1460.0</td>\n",
       "      <td>1984.865753</td>\n",
       "      <td>20.645407</td>\n",
       "      <td>1950.0</td>\n",
       "      <td>1967.00</td>\n",
       "      <td>1994.0</td>\n",
       "      <td>2004.00</td>\n",
       "      <td>2010.0</td>\n",
       "    </tr>\n",
       "    <tr>\n",
       "      <th>MasVnrArea</th>\n",
       "      <td>1452.0</td>\n",
       "      <td>103.685262</td>\n",
       "      <td>181.066207</td>\n",
       "      <td>0.0</td>\n",
       "      <td>0.00</td>\n",
       "      <td>0.0</td>\n",
       "      <td>166.00</td>\n",
       "      <td>1600.0</td>\n",
       "    </tr>\n",
       "    <tr>\n",
       "      <th>BsmtFinSF1</th>\n",
       "      <td>1460.0</td>\n",
       "      <td>443.639726</td>\n",
       "      <td>456.098091</td>\n",
       "      <td>0.0</td>\n",
       "      <td>0.00</td>\n",
       "      <td>383.5</td>\n",
       "      <td>712.25</td>\n",
       "      <td>5644.0</td>\n",
       "    </tr>\n",
       "    <tr>\n",
       "      <th>BsmtFinSF2</th>\n",
       "      <td>1460.0</td>\n",
       "      <td>46.549315</td>\n",
       "      <td>161.319273</td>\n",
       "      <td>0.0</td>\n",
       "      <td>0.00</td>\n",
       "      <td>0.0</td>\n",
       "      <td>0.00</td>\n",
       "      <td>1474.0</td>\n",
       "    </tr>\n",
       "    <tr>\n",
       "      <th>BsmtUnfSF</th>\n",
       "      <td>1460.0</td>\n",
       "      <td>567.240411</td>\n",
       "      <td>441.866955</td>\n",
       "      <td>0.0</td>\n",
       "      <td>223.00</td>\n",
       "      <td>477.5</td>\n",
       "      <td>808.00</td>\n",
       "      <td>2336.0</td>\n",
       "    </tr>\n",
       "    <tr>\n",
       "      <th>TotalBsmtSF</th>\n",
       "      <td>1460.0</td>\n",
       "      <td>1057.429452</td>\n",
       "      <td>438.705324</td>\n",
       "      <td>0.0</td>\n",
       "      <td>795.75</td>\n",
       "      <td>991.5</td>\n",
       "      <td>1298.25</td>\n",
       "      <td>6110.0</td>\n",
       "    </tr>\n",
       "    <tr>\n",
       "      <th>1stFlrSF</th>\n",
       "      <td>1460.0</td>\n",
       "      <td>1162.626712</td>\n",
       "      <td>386.587738</td>\n",
       "      <td>334.0</td>\n",
       "      <td>882.00</td>\n",
       "      <td>1087.0</td>\n",
       "      <td>1391.25</td>\n",
       "      <td>4692.0</td>\n",
       "    </tr>\n",
       "    <tr>\n",
       "      <th>2ndFlrSF</th>\n",
       "      <td>1460.0</td>\n",
       "      <td>346.992466</td>\n",
       "      <td>436.528436</td>\n",
       "      <td>0.0</td>\n",
       "      <td>0.00</td>\n",
       "      <td>0.0</td>\n",
       "      <td>728.00</td>\n",
       "      <td>2065.0</td>\n",
       "    </tr>\n",
       "    <tr>\n",
       "      <th>LowQualFinSF</th>\n",
       "      <td>1460.0</td>\n",
       "      <td>5.844521</td>\n",
       "      <td>48.623081</td>\n",
       "      <td>0.0</td>\n",
       "      <td>0.00</td>\n",
       "      <td>0.0</td>\n",
       "      <td>0.00</td>\n",
       "      <td>572.0</td>\n",
       "    </tr>\n",
       "    <tr>\n",
       "      <th>GrLivArea</th>\n",
       "      <td>1460.0</td>\n",
       "      <td>1515.463699</td>\n",
       "      <td>525.480383</td>\n",
       "      <td>334.0</td>\n",
       "      <td>1129.50</td>\n",
       "      <td>1464.0</td>\n",
       "      <td>1776.75</td>\n",
       "      <td>5642.0</td>\n",
       "    </tr>\n",
       "    <tr>\n",
       "      <th>BsmtFullBath</th>\n",
       "      <td>1460.0</td>\n",
       "      <td>0.425342</td>\n",
       "      <td>0.518911</td>\n",
       "      <td>0.0</td>\n",
       "      <td>0.00</td>\n",
       "      <td>0.0</td>\n",
       "      <td>1.00</td>\n",
       "      <td>3.0</td>\n",
       "    </tr>\n",
       "    <tr>\n",
       "      <th>BsmtHalfBath</th>\n",
       "      <td>1460.0</td>\n",
       "      <td>0.057534</td>\n",
       "      <td>0.238753</td>\n",
       "      <td>0.0</td>\n",
       "      <td>0.00</td>\n",
       "      <td>0.0</td>\n",
       "      <td>0.00</td>\n",
       "      <td>2.0</td>\n",
       "    </tr>\n",
       "    <tr>\n",
       "      <th>FullBath</th>\n",
       "      <td>1460.0</td>\n",
       "      <td>1.565068</td>\n",
       "      <td>0.550916</td>\n",
       "      <td>0.0</td>\n",
       "      <td>1.00</td>\n",
       "      <td>2.0</td>\n",
       "      <td>2.00</td>\n",
       "      <td>3.0</td>\n",
       "    </tr>\n",
       "    <tr>\n",
       "      <th>HalfBath</th>\n",
       "      <td>1460.0</td>\n",
       "      <td>0.382877</td>\n",
       "      <td>0.502885</td>\n",
       "      <td>0.0</td>\n",
       "      <td>0.00</td>\n",
       "      <td>0.0</td>\n",
       "      <td>1.00</td>\n",
       "      <td>2.0</td>\n",
       "    </tr>\n",
       "    <tr>\n",
       "      <th>BedroomAbvGr</th>\n",
       "      <td>1460.0</td>\n",
       "      <td>2.866438</td>\n",
       "      <td>0.815778</td>\n",
       "      <td>0.0</td>\n",
       "      <td>2.00</td>\n",
       "      <td>3.0</td>\n",
       "      <td>3.00</td>\n",
       "      <td>8.0</td>\n",
       "    </tr>\n",
       "    <tr>\n",
       "      <th>KitchenAbvGr</th>\n",
       "      <td>1460.0</td>\n",
       "      <td>1.046575</td>\n",
       "      <td>0.220338</td>\n",
       "      <td>0.0</td>\n",
       "      <td>1.00</td>\n",
       "      <td>1.0</td>\n",
       "      <td>1.00</td>\n",
       "      <td>3.0</td>\n",
       "    </tr>\n",
       "    <tr>\n",
       "      <th>TotRmsAbvGrd</th>\n",
       "      <td>1460.0</td>\n",
       "      <td>6.517808</td>\n",
       "      <td>1.625393</td>\n",
       "      <td>2.0</td>\n",
       "      <td>5.00</td>\n",
       "      <td>6.0</td>\n",
       "      <td>7.00</td>\n",
       "      <td>14.0</td>\n",
       "    </tr>\n",
       "    <tr>\n",
       "      <th>Fireplaces</th>\n",
       "      <td>1460.0</td>\n",
       "      <td>0.613014</td>\n",
       "      <td>0.644666</td>\n",
       "      <td>0.0</td>\n",
       "      <td>0.00</td>\n",
       "      <td>1.0</td>\n",
       "      <td>1.00</td>\n",
       "      <td>3.0</td>\n",
       "    </tr>\n",
       "    <tr>\n",
       "      <th>GarageYrBlt</th>\n",
       "      <td>1379.0</td>\n",
       "      <td>1978.506164</td>\n",
       "      <td>24.689725</td>\n",
       "      <td>1900.0</td>\n",
       "      <td>1961.00</td>\n",
       "      <td>1980.0</td>\n",
       "      <td>2002.00</td>\n",
       "      <td>2010.0</td>\n",
       "    </tr>\n",
       "    <tr>\n",
       "      <th>GarageCars</th>\n",
       "      <td>1460.0</td>\n",
       "      <td>1.767123</td>\n",
       "      <td>0.747315</td>\n",
       "      <td>0.0</td>\n",
       "      <td>1.00</td>\n",
       "      <td>2.0</td>\n",
       "      <td>2.00</td>\n",
       "      <td>4.0</td>\n",
       "    </tr>\n",
       "    <tr>\n",
       "      <th>GarageArea</th>\n",
       "      <td>1460.0</td>\n",
       "      <td>472.980137</td>\n",
       "      <td>213.804841</td>\n",
       "      <td>0.0</td>\n",
       "      <td>334.50</td>\n",
       "      <td>480.0</td>\n",
       "      <td>576.00</td>\n",
       "      <td>1418.0</td>\n",
       "    </tr>\n",
       "    <tr>\n",
       "      <th>WoodDeckSF</th>\n",
       "      <td>1460.0</td>\n",
       "      <td>94.244521</td>\n",
       "      <td>125.338794</td>\n",
       "      <td>0.0</td>\n",
       "      <td>0.00</td>\n",
       "      <td>0.0</td>\n",
       "      <td>168.00</td>\n",
       "      <td>857.0</td>\n",
       "    </tr>\n",
       "    <tr>\n",
       "      <th>OpenPorchSF</th>\n",
       "      <td>1460.0</td>\n",
       "      <td>46.660274</td>\n",
       "      <td>66.256028</td>\n",
       "      <td>0.0</td>\n",
       "      <td>0.00</td>\n",
       "      <td>25.0</td>\n",
       "      <td>68.00</td>\n",
       "      <td>547.0</td>\n",
       "    </tr>\n",
       "    <tr>\n",
       "      <th>EnclosedPorch</th>\n",
       "      <td>1460.0</td>\n",
       "      <td>21.954110</td>\n",
       "      <td>61.119149</td>\n",
       "      <td>0.0</td>\n",
       "      <td>0.00</td>\n",
       "      <td>0.0</td>\n",
       "      <td>0.00</td>\n",
       "      <td>552.0</td>\n",
       "    </tr>\n",
       "    <tr>\n",
       "      <th>3SsnPorch</th>\n",
       "      <td>1460.0</td>\n",
       "      <td>3.409589</td>\n",
       "      <td>29.317331</td>\n",
       "      <td>0.0</td>\n",
       "      <td>0.00</td>\n",
       "      <td>0.0</td>\n",
       "      <td>0.00</td>\n",
       "      <td>508.0</td>\n",
       "    </tr>\n",
       "    <tr>\n",
       "      <th>ScreenPorch</th>\n",
       "      <td>1460.0</td>\n",
       "      <td>15.060959</td>\n",
       "      <td>55.757415</td>\n",
       "      <td>0.0</td>\n",
       "      <td>0.00</td>\n",
       "      <td>0.0</td>\n",
       "      <td>0.00</td>\n",
       "      <td>480.0</td>\n",
       "    </tr>\n",
       "    <tr>\n",
       "      <th>PoolArea</th>\n",
       "      <td>1460.0</td>\n",
       "      <td>2.758904</td>\n",
       "      <td>40.177307</td>\n",
       "      <td>0.0</td>\n",
       "      <td>0.00</td>\n",
       "      <td>0.0</td>\n",
       "      <td>0.00</td>\n",
       "      <td>738.0</td>\n",
       "    </tr>\n",
       "    <tr>\n",
       "      <th>MiscVal</th>\n",
       "      <td>1460.0</td>\n",
       "      <td>43.489041</td>\n",
       "      <td>496.123024</td>\n",
       "      <td>0.0</td>\n",
       "      <td>0.00</td>\n",
       "      <td>0.0</td>\n",
       "      <td>0.00</td>\n",
       "      <td>15500.0</td>\n",
       "    </tr>\n",
       "    <tr>\n",
       "      <th>MoSold</th>\n",
       "      <td>1460.0</td>\n",
       "      <td>6.321918</td>\n",
       "      <td>2.703626</td>\n",
       "      <td>1.0</td>\n",
       "      <td>5.00</td>\n",
       "      <td>6.0</td>\n",
       "      <td>8.00</td>\n",
       "      <td>12.0</td>\n",
       "    </tr>\n",
       "    <tr>\n",
       "      <th>YrSold</th>\n",
       "      <td>1460.0</td>\n",
       "      <td>2007.815753</td>\n",
       "      <td>1.328095</td>\n",
       "      <td>2006.0</td>\n",
       "      <td>2007.00</td>\n",
       "      <td>2008.0</td>\n",
       "      <td>2009.00</td>\n",
       "      <td>2010.0</td>\n",
       "    </tr>\n",
       "    <tr>\n",
       "      <th>SalePrice</th>\n",
       "      <td>1460.0</td>\n",
       "      <td>180921.195890</td>\n",
       "      <td>79442.502883</td>\n",
       "      <td>34900.0</td>\n",
       "      <td>129975.00</td>\n",
       "      <td>163000.0</td>\n",
       "      <td>214000.00</td>\n",
       "      <td>755000.0</td>\n",
       "    </tr>\n",
       "  </tbody>\n",
       "</table>\n",
       "</div>"
      ],
      "text/plain": [
       "                count           mean           std      min        25%  \\\n",
       "Id             1460.0     730.500000    421.610009      1.0     365.75   \n",
       "MSSubClass     1460.0      56.897260     42.300571     20.0      20.00   \n",
       "LotFrontage    1201.0      70.049958     24.284752     21.0      59.00   \n",
       "LotArea        1460.0   10516.828082   9981.264932   1300.0    7553.50   \n",
       "OverallQual    1460.0       6.099315      1.382997      1.0       5.00   \n",
       "OverallCond    1460.0       5.575342      1.112799      1.0       5.00   \n",
       "YearBuilt      1460.0    1971.267808     30.202904   1872.0    1954.00   \n",
       "YearRemodAdd   1460.0    1984.865753     20.645407   1950.0    1967.00   \n",
       "MasVnrArea     1452.0     103.685262    181.066207      0.0       0.00   \n",
       "BsmtFinSF1     1460.0     443.639726    456.098091      0.0       0.00   \n",
       "BsmtFinSF2     1460.0      46.549315    161.319273      0.0       0.00   \n",
       "BsmtUnfSF      1460.0     567.240411    441.866955      0.0     223.00   \n",
       "TotalBsmtSF    1460.0    1057.429452    438.705324      0.0     795.75   \n",
       "1stFlrSF       1460.0    1162.626712    386.587738    334.0     882.00   \n",
       "2ndFlrSF       1460.0     346.992466    436.528436      0.0       0.00   \n",
       "LowQualFinSF   1460.0       5.844521     48.623081      0.0       0.00   \n",
       "GrLivArea      1460.0    1515.463699    525.480383    334.0    1129.50   \n",
       "BsmtFullBath   1460.0       0.425342      0.518911      0.0       0.00   \n",
       "BsmtHalfBath   1460.0       0.057534      0.238753      0.0       0.00   \n",
       "FullBath       1460.0       1.565068      0.550916      0.0       1.00   \n",
       "HalfBath       1460.0       0.382877      0.502885      0.0       0.00   \n",
       "BedroomAbvGr   1460.0       2.866438      0.815778      0.0       2.00   \n",
       "KitchenAbvGr   1460.0       1.046575      0.220338      0.0       1.00   \n",
       "TotRmsAbvGrd   1460.0       6.517808      1.625393      2.0       5.00   \n",
       "Fireplaces     1460.0       0.613014      0.644666      0.0       0.00   \n",
       "GarageYrBlt    1379.0    1978.506164     24.689725   1900.0    1961.00   \n",
       "GarageCars     1460.0       1.767123      0.747315      0.0       1.00   \n",
       "GarageArea     1460.0     472.980137    213.804841      0.0     334.50   \n",
       "WoodDeckSF     1460.0      94.244521    125.338794      0.0       0.00   \n",
       "OpenPorchSF    1460.0      46.660274     66.256028      0.0       0.00   \n",
       "EnclosedPorch  1460.0      21.954110     61.119149      0.0       0.00   \n",
       "3SsnPorch      1460.0       3.409589     29.317331      0.0       0.00   \n",
       "ScreenPorch    1460.0      15.060959     55.757415      0.0       0.00   \n",
       "PoolArea       1460.0       2.758904     40.177307      0.0       0.00   \n",
       "MiscVal        1460.0      43.489041    496.123024      0.0       0.00   \n",
       "MoSold         1460.0       6.321918      2.703626      1.0       5.00   \n",
       "YrSold         1460.0    2007.815753      1.328095   2006.0    2007.00   \n",
       "SalePrice      1460.0  180921.195890  79442.502883  34900.0  129975.00   \n",
       "\n",
       "                    50%        75%       max  \n",
       "Id                730.5    1095.25    1460.0  \n",
       "MSSubClass         50.0      70.00     190.0  \n",
       "LotFrontage        69.0      80.00     313.0  \n",
       "LotArea          9478.5   11601.50  215245.0  \n",
       "OverallQual         6.0       7.00      10.0  \n",
       "OverallCond         5.0       6.00       9.0  \n",
       "YearBuilt        1973.0    2000.00    2010.0  \n",
       "YearRemodAdd     1994.0    2004.00    2010.0  \n",
       "MasVnrArea          0.0     166.00    1600.0  \n",
       "BsmtFinSF1        383.5     712.25    5644.0  \n",
       "BsmtFinSF2          0.0       0.00    1474.0  \n",
       "BsmtUnfSF         477.5     808.00    2336.0  \n",
       "TotalBsmtSF       991.5    1298.25    6110.0  \n",
       "1stFlrSF         1087.0    1391.25    4692.0  \n",
       "2ndFlrSF            0.0     728.00    2065.0  \n",
       "LowQualFinSF        0.0       0.00     572.0  \n",
       "GrLivArea        1464.0    1776.75    5642.0  \n",
       "BsmtFullBath        0.0       1.00       3.0  \n",
       "BsmtHalfBath        0.0       0.00       2.0  \n",
       "FullBath            2.0       2.00       3.0  \n",
       "HalfBath            0.0       1.00       2.0  \n",
       "BedroomAbvGr        3.0       3.00       8.0  \n",
       "KitchenAbvGr        1.0       1.00       3.0  \n",
       "TotRmsAbvGrd        6.0       7.00      14.0  \n",
       "Fireplaces          1.0       1.00       3.0  \n",
       "GarageYrBlt      1980.0    2002.00    2010.0  \n",
       "GarageCars          2.0       2.00       4.0  \n",
       "GarageArea        480.0     576.00    1418.0  \n",
       "WoodDeckSF          0.0     168.00     857.0  \n",
       "OpenPorchSF        25.0      68.00     547.0  \n",
       "EnclosedPorch       0.0       0.00     552.0  \n",
       "3SsnPorch           0.0       0.00     508.0  \n",
       "ScreenPorch         0.0       0.00     480.0  \n",
       "PoolArea            0.0       0.00     738.0  \n",
       "MiscVal             0.0       0.00   15500.0  \n",
       "MoSold              6.0       8.00      12.0  \n",
       "YrSold           2008.0    2009.00    2010.0  \n",
       "SalePrice      163000.0  214000.00  755000.0  "
      ]
     },
     "execution_count": 6,
     "metadata": {},
     "output_type": "execute_result"
    }
   ],
   "source": [
    "train.describe().transpose()"
   ]
  },
  {
   "cell_type": "markdown",
   "id": "02730498",
   "metadata": {
    "papermill": {
     "duration": 0.007973,
     "end_time": "2023-03-23T07:38:00.854182",
     "exception": false,
     "start_time": "2023-03-23T07:38:00.846209",
     "status": "completed"
    },
    "tags": []
   },
   "source": [
    "# Exploratory Data Analysis"
   ]
  },
  {
   "cell_type": "code",
   "execution_count": 7,
   "id": "ee50161a",
   "metadata": {
    "execution": {
     "iopub.execute_input": "2023-03-23T07:38:00.873196Z",
     "iopub.status.busy": "2023-03-23T07:38:00.872051Z",
     "iopub.status.idle": "2023-03-23T07:38:04.352623Z",
     "shell.execute_reply": "2023-03-23T07:38:04.351124Z"
    },
    "papermill": {
     "duration": 3.49402,
     "end_time": "2023-03-23T07:38:04.356431",
     "exception": false,
     "start_time": "2023-03-23T07:38:00.862411",
     "status": "completed"
    },
    "tags": []
   },
   "outputs": [],
   "source": [
    "import pandas_profiling\n",
    "profile_report = pandas_profiling.ProfileReport(train)"
   ]
  },
  {
   "cell_type": "markdown",
   "id": "fe33c414",
   "metadata": {
    "papermill": {
     "duration": 0.007955,
     "end_time": "2023-03-23T07:38:04.373221",
     "exception": false,
     "start_time": "2023-03-23T07:38:04.365266",
     "status": "completed"
    },
    "tags": []
   },
   "source": [
    "This is a very easy way of doing quick EDA. \n",
    "\n",
    "#### High level summary\n",
    "* Number of variables\t81\n",
    "* Number of observations\t1460\n",
    "* Missing cells\t6965 (5.9%)\n",
    "\n",
    "#### Variables types\n",
    "* Numeric\t32\n",
    "* Categorical\t48\n",
    "* Boolean\t1\n"
   ]
  },
  {
   "cell_type": "markdown",
   "id": "7b2b67e5",
   "metadata": {
    "papermill": {
     "duration": 0.007909,
     "end_time": "2023-03-23T07:38:04.389361",
     "exception": false,
     "start_time": "2023-03-23T07:38:04.381452",
     "status": "completed"
    },
    "tags": []
   },
   "source": [
    "# Feature Engineering"
   ]
  },
  {
   "cell_type": "markdown",
   "id": "61ae89e2",
   "metadata": {
    "papermill": {
     "duration": 0.008439,
     "end_time": "2023-03-23T07:38:04.405970",
     "exception": false,
     "start_time": "2023-03-23T07:38:04.397531",
     "status": "completed"
    },
    "tags": []
   },
   "source": [
    "#### Lets have a deeper look into the missing values"
   ]
  },
  {
   "cell_type": "code",
   "execution_count": 8,
   "id": "5b0d34ff",
   "metadata": {
    "execution": {
     "iopub.execute_input": "2023-03-23T07:38:04.424942Z",
     "iopub.status.busy": "2023-03-23T07:38:04.424441Z",
     "iopub.status.idle": "2023-03-23T07:38:04.453476Z",
     "shell.execute_reply": "2023-03-23T07:38:04.452243Z"
    },
    "papermill": {
     "duration": 0.041688,
     "end_time": "2023-03-23T07:38:04.456143",
     "exception": false,
     "start_time": "2023-03-23T07:38:04.414455",
     "status": "completed"
    },
    "tags": []
   },
   "outputs": [
    {
     "data": {
      "text/html": [
       "<div>\n",
       "<style scoped>\n",
       "    .dataframe tbody tr th:only-of-type {\n",
       "        vertical-align: middle;\n",
       "    }\n",
       "\n",
       "    .dataframe tbody tr th {\n",
       "        vertical-align: top;\n",
       "    }\n",
       "\n",
       "    .dataframe thead th {\n",
       "        text-align: right;\n",
       "    }\n",
       "</style>\n",
       "<table border=\"1\" class=\"dataframe\">\n",
       "  <thead>\n",
       "    <tr style=\"text-align: right;\">\n",
       "      <th></th>\n",
       "      <th>Total</th>\n",
       "      <th>Percent</th>\n",
       "    </tr>\n",
       "  </thead>\n",
       "  <tbody>\n",
       "    <tr>\n",
       "      <th>PoolQC</th>\n",
       "      <td>1453</td>\n",
       "      <td>99.52</td>\n",
       "    </tr>\n",
       "    <tr>\n",
       "      <th>MiscFeature</th>\n",
       "      <td>1406</td>\n",
       "      <td>96.30</td>\n",
       "    </tr>\n",
       "    <tr>\n",
       "      <th>Alley</th>\n",
       "      <td>1369</td>\n",
       "      <td>93.77</td>\n",
       "    </tr>\n",
       "    <tr>\n",
       "      <th>Fence</th>\n",
       "      <td>1179</td>\n",
       "      <td>80.75</td>\n",
       "    </tr>\n",
       "    <tr>\n",
       "      <th>FireplaceQu</th>\n",
       "      <td>690</td>\n",
       "      <td>47.26</td>\n",
       "    </tr>\n",
       "    <tr>\n",
       "      <th>LotFrontage</th>\n",
       "      <td>259</td>\n",
       "      <td>17.74</td>\n",
       "    </tr>\n",
       "    <tr>\n",
       "      <th>GarageYrBlt</th>\n",
       "      <td>81</td>\n",
       "      <td>5.55</td>\n",
       "    </tr>\n",
       "    <tr>\n",
       "      <th>GarageCond</th>\n",
       "      <td>81</td>\n",
       "      <td>5.55</td>\n",
       "    </tr>\n",
       "    <tr>\n",
       "      <th>GarageType</th>\n",
       "      <td>81</td>\n",
       "      <td>5.55</td>\n",
       "    </tr>\n",
       "    <tr>\n",
       "      <th>GarageFinish</th>\n",
       "      <td>81</td>\n",
       "      <td>5.55</td>\n",
       "    </tr>\n",
       "    <tr>\n",
       "      <th>GarageQual</th>\n",
       "      <td>81</td>\n",
       "      <td>5.55</td>\n",
       "    </tr>\n",
       "    <tr>\n",
       "      <th>BsmtFinType2</th>\n",
       "      <td>38</td>\n",
       "      <td>2.60</td>\n",
       "    </tr>\n",
       "    <tr>\n",
       "      <th>BsmtExposure</th>\n",
       "      <td>38</td>\n",
       "      <td>2.60</td>\n",
       "    </tr>\n",
       "    <tr>\n",
       "      <th>BsmtQual</th>\n",
       "      <td>37</td>\n",
       "      <td>2.53</td>\n",
       "    </tr>\n",
       "    <tr>\n",
       "      <th>BsmtCond</th>\n",
       "      <td>37</td>\n",
       "      <td>2.53</td>\n",
       "    </tr>\n",
       "    <tr>\n",
       "      <th>BsmtFinType1</th>\n",
       "      <td>37</td>\n",
       "      <td>2.53</td>\n",
       "    </tr>\n",
       "    <tr>\n",
       "      <th>MasVnrArea</th>\n",
       "      <td>8</td>\n",
       "      <td>0.55</td>\n",
       "    </tr>\n",
       "    <tr>\n",
       "      <th>MasVnrType</th>\n",
       "      <td>8</td>\n",
       "      <td>0.55</td>\n",
       "    </tr>\n",
       "    <tr>\n",
       "      <th>Electrical</th>\n",
       "      <td>1</td>\n",
       "      <td>0.07</td>\n",
       "    </tr>\n",
       "  </tbody>\n",
       "</table>\n",
       "</div>"
      ],
      "text/plain": [
       "              Total  Percent\n",
       "PoolQC         1453    99.52\n",
       "MiscFeature    1406    96.30\n",
       "Alley          1369    93.77\n",
       "Fence          1179    80.75\n",
       "FireplaceQu     690    47.26\n",
       "LotFrontage     259    17.74\n",
       "GarageYrBlt      81     5.55\n",
       "GarageCond       81     5.55\n",
       "GarageType       81     5.55\n",
       "GarageFinish     81     5.55\n",
       "GarageQual       81     5.55\n",
       "BsmtFinType2     38     2.60\n",
       "BsmtExposure     38     2.60\n",
       "BsmtQual         37     2.53\n",
       "BsmtCond         37     2.53\n",
       "BsmtFinType1     37     2.53\n",
       "MasVnrArea        8     0.55\n",
       "MasVnrType        8     0.55\n",
       "Electrical        1     0.07"
      ]
     },
     "execution_count": 8,
     "metadata": {},
     "output_type": "execute_result"
    }
   ],
   "source": [
    "def missingValuesInfo(df):\n",
    "    total = df.isnull().sum().sort_values(ascending = False)\n",
    "    percent = round(df.isnull().sum().sort_values(ascending = False)/len(df)*100, 2)\n",
    "    temp = pd.concat([total, percent], axis = 1,keys= ['Total', 'Percent'])\n",
    "    return temp.loc[(temp['Total'] > 0)]\n",
    "\n",
    "missingValuesInfo(train)"
   ]
  },
  {
   "cell_type": "markdown",
   "id": "ea379fb8",
   "metadata": {
    "papermill": {
     "duration": 0.008379,
     "end_time": "2023-03-23T07:38:04.473244",
     "exception": false,
     "start_time": "2023-03-23T07:38:04.464865",
     "status": "completed"
    },
    "tags": []
   },
   "source": [
    "#### lets do basic missing value treatment, using 'UNKNOWN' for categorical and median value for numeric features"
   ]
  },
  {
   "cell_type": "code",
   "execution_count": 9,
   "id": "daac730e",
   "metadata": {
    "execution": {
     "iopub.execute_input": "2023-03-23T07:38:04.492468Z",
     "iopub.status.busy": "2023-03-23T07:38:04.491993Z",
     "iopub.status.idle": "2023-03-23T07:38:04.560151Z",
     "shell.execute_reply": "2023-03-23T07:38:04.558852Z"
    },
    "papermill": {
     "duration": 0.081318,
     "end_time": "2023-03-23T07:38:04.563171",
     "exception": false,
     "start_time": "2023-03-23T07:38:04.481853",
     "status": "completed"
    },
    "tags": []
   },
   "outputs": [],
   "source": [
    "def HandleMissingValues(df):\n",
    "\n",
    "    num_cols = [cname for cname in df.columns if df[cname].dtype in ['int64', 'float64']]\n",
    "    cat_cols = [cname for cname in df.columns if df[cname].dtype == \"object\"]\n",
    "    values = {}\n",
    "\n",
    "    for a in cat_cols:\n",
    "        values[a] = 'UNKOWN'\n",
    "\n",
    "    for a in num_cols:\n",
    "        values[a] = df[a].median()\n",
    "        \n",
    "    df.fillna(value=values,inplace=True)\n",
    "    \n",
    "    \n",
    "HandleMissingValues(train)\n",
    "HandleMissingValues(test)"
   ]
  },
  {
   "cell_type": "markdown",
   "id": "96c92d6d",
   "metadata": {
    "papermill": {
     "duration": 0.008329,
     "end_time": "2023-03-23T07:38:04.580595",
     "exception": false,
     "start_time": "2023-03-23T07:38:04.572266",
     "status": "completed"
    },
    "tags": []
   },
   "source": [
    "#### Encoding the categorical variables with low cardinality. \"Cardinality\" means the number of unique values in a column"
   ]
  },
  {
   "cell_type": "code",
   "execution_count": 10,
   "id": "bbcb7858",
   "metadata": {
    "execution": {
     "iopub.execute_input": "2023-03-23T07:38:04.599840Z",
     "iopub.status.busy": "2023-03-23T07:38:04.599375Z",
     "iopub.status.idle": "2023-03-23T07:38:04.617879Z",
     "shell.execute_reply": "2023-03-23T07:38:04.616049Z"
    },
    "papermill": {
     "duration": 0.031533,
     "end_time": "2023-03-23T07:38:04.620667",
     "exception": false,
     "start_time": "2023-03-23T07:38:04.589134",
     "status": "completed"
    },
    "tags": []
   },
   "outputs": [],
   "source": [
    "# select categorical columns with relatively low cardinality (convenient but arbitrary)\n",
    "low_cardinality_cols = [cname for cname in train.columns if train[cname].nunique() < 10 and \n",
    "                        train[cname].dtype == \"object\"]"
   ]
  },
  {
   "cell_type": "markdown",
   "id": "2a743a26",
   "metadata": {
    "papermill": {
     "duration": 0.00832,
     "end_time": "2023-03-23T07:38:04.637794",
     "exception": false,
     "start_time": "2023-03-23T07:38:04.629474",
     "status": "completed"
    },
    "tags": []
   },
   "source": [
    "#### selecting only columns which are required"
   ]
  },
  {
   "cell_type": "code",
   "execution_count": 11,
   "id": "1a0fe41a",
   "metadata": {
    "execution": {
     "iopub.execute_input": "2023-03-23T07:38:04.657150Z",
     "iopub.status.busy": "2023-03-23T07:38:04.656692Z",
     "iopub.status.idle": "2023-03-23T07:38:04.664304Z",
     "shell.execute_reply": "2023-03-23T07:38:04.662869Z"
    },
    "papermill": {
     "duration": 0.020867,
     "end_time": "2023-03-23T07:38:04.667330",
     "exception": false,
     "start_time": "2023-03-23T07:38:04.646463",
     "status": "completed"
    },
    "tags": []
   },
   "outputs": [],
   "source": [
    "# select numeric columns\n",
    "numeric_cols = [cname for cname in train.columns if train[cname].dtype in ['int64', 'float64']]\n",
    "\n",
    "# removing salesprice (target) & id\n",
    "numeric_cols.remove('Id')\n",
    "numeric_cols.remove('SalePrice')\n",
    "\n",
    "# Keep selected columns only\n",
    "my_cols = low_cardinality_cols + numeric_cols"
   ]
  },
  {
   "cell_type": "code",
   "execution_count": 12,
   "id": "9912ebc6",
   "metadata": {
    "execution": {
     "iopub.execute_input": "2023-03-23T07:38:04.686788Z",
     "iopub.status.busy": "2023-03-23T07:38:04.686339Z",
     "iopub.status.idle": "2023-03-23T07:38:04.699882Z",
     "shell.execute_reply": "2023-03-23T07:38:04.698542Z"
    },
    "papermill": {
     "duration": 0.026804,
     "end_time": "2023-03-23T07:38:04.702938",
     "exception": false,
     "start_time": "2023-03-23T07:38:04.676134",
     "status": "completed"
    },
    "tags": []
   },
   "outputs": [],
   "source": [
    "X_train = train[my_cols].copy()\n",
    "X_test = test[my_cols].copy()\n",
    "y_train = train['SalePrice']"
   ]
  },
  {
   "cell_type": "markdown",
   "id": "b4a22a98",
   "metadata": {
    "papermill": {
     "duration": 0.008758,
     "end_time": "2023-03-23T07:38:04.720586",
     "exception": false,
     "start_time": "2023-03-23T07:38:04.711828",
     "status": "completed"
    },
    "tags": []
   },
   "source": [
    "#### One-hot Encoding"
   ]
  },
  {
   "cell_type": "code",
   "execution_count": 13,
   "id": "72cd298a",
   "metadata": {
    "execution": {
     "iopub.execute_input": "2023-03-23T07:38:04.741006Z",
     "iopub.status.busy": "2023-03-23T07:38:04.740100Z",
     "iopub.status.idle": "2023-03-23T07:38:04.818246Z",
     "shell.execute_reply": "2023-03-23T07:38:04.816247Z"
    },
    "papermill": {
     "duration": 0.091412,
     "end_time": "2023-03-23T07:38:04.820938",
     "exception": false,
     "start_time": "2023-03-23T07:38:04.729526",
     "status": "completed"
    },
    "tags": []
   },
   "outputs": [
    {
     "name": "stdout",
     "output_type": "stream",
     "text": [
      "Shape of Training Data (1460, 253)\n",
      "Shape of Test Data (1459, 253)\n"
     ]
    }
   ],
   "source": [
    "# concatenating train and test for uniform one-hot encoding\n",
    "X_train['train_or_test']='train'\n",
    "X_test['train_or_test']='test'\n",
    "data=pd.concat([X_train,X_test],sort=False)\n",
    "\n",
    "# resetting index, removing old index\n",
    "data.reset_index(inplace=True)\n",
    "data.drop('index',axis=1,inplace=True)\n",
    "data = pd.get_dummies(data,columns = low_cardinality_cols)\n",
    "\n",
    "X_train = data[data['train_or_test']=='train']\n",
    "X_test = data[data['train_or_test']=='test']\n",
    "\n",
    "X_train.drop('train_or_test',axis=1,inplace=True)\n",
    "X_test.drop('train_or_test',axis=1,inplace=True)\n",
    "\n",
    "# looking at data after encoding\n",
    "print(\"Shape of Training Data\", X_train.shape)\n",
    "print(\"Shape of Test Data\", X_test.shape)"
   ]
  },
  {
   "cell_type": "markdown",
   "id": "6a852c45",
   "metadata": {
    "papermill": {
     "duration": 0.008484,
     "end_time": "2023-03-23T07:38:04.838475",
     "exception": false,
     "start_time": "2023-03-23T07:38:04.829991",
     "status": "completed"
    },
    "tags": []
   },
   "source": [
    "# Model Building"
   ]
  },
  {
   "cell_type": "markdown",
   "id": "6c2786d7",
   "metadata": {
    "papermill": {
     "duration": 0.008403,
     "end_time": "2023-03-23T07:38:04.855614",
     "exception": false,
     "start_time": "2023-03-23T07:38:04.847211",
     "status": "completed"
    },
    "tags": []
   },
   "source": [
    "1.Ridge CV "
   ]
  },
  {
   "cell_type": "code",
   "execution_count": 14,
   "id": "e6c7b48f",
   "metadata": {
    "execution": {
     "iopub.execute_input": "2023-03-23T07:38:04.876108Z",
     "iopub.status.busy": "2023-03-23T07:38:04.875660Z",
     "iopub.status.idle": "2023-03-23T07:38:06.178185Z",
     "shell.execute_reply": "2023-03-23T07:38:06.176303Z"
    },
    "papermill": {
     "duration": 1.318515,
     "end_time": "2023-03-23T07:38:06.183129",
     "exception": false,
     "start_time": "2023-03-23T07:38:04.864614",
     "status": "completed"
    },
    "tags": []
   },
   "outputs": [],
   "source": [
    "from sklearn.linear_model import RidgeCV\n",
    "\n",
    "ridge_cv = RidgeCV(alphas=(0.01, 0.05, 0.1, 0.3, 1, 3, 5, 10), cv=4)\n",
    "ridge_cv.fit(X_train, y_train)\n",
    "ridge_cv_preds = ridge_cv.predict(X_test)"
   ]
  },
  {
   "cell_type": "markdown",
   "id": "22fc60db",
   "metadata": {
    "papermill": {
     "duration": 0.022515,
     "end_time": "2023-03-23T07:38:06.228595",
     "exception": false,
     "start_time": "2023-03-23T07:38:06.206080",
     "status": "completed"
    },
    "tags": []
   },
   "source": [
    "2. XGBoost"
   ]
  },
  {
   "cell_type": "code",
   "execution_count": 15,
   "id": "9324a53e",
   "metadata": {
    "execution": {
     "iopub.execute_input": "2023-03-23T07:38:06.277655Z",
     "iopub.status.busy": "2023-03-23T07:38:06.276870Z",
     "iopub.status.idle": "2023-03-23T07:38:08.652292Z",
     "shell.execute_reply": "2023-03-23T07:38:08.651309Z"
    },
    "papermill": {
     "duration": 2.404418,
     "end_time": "2023-03-23T07:38:08.655991",
     "exception": false,
     "start_time": "2023-03-23T07:38:06.251573",
     "status": "completed"
    },
    "tags": []
   },
   "outputs": [],
   "source": [
    "import xgboost as xgb\n",
    "\n",
    "model_xgb = xgb.XGBRegressor(n_estimators=340, max_depth=2, learning_rate=0.2)\n",
    "model_xgb.fit(X_train, y_train)\n",
    "xgb_preds=model_xgb.predict(X_test)"
   ]
  },
  {
   "cell_type": "code",
   "execution_count": 16,
   "id": "1924aefc",
   "metadata": {
    "execution": {
     "iopub.execute_input": "2023-03-23T07:38:08.681190Z",
     "iopub.status.busy": "2023-03-23T07:38:08.680689Z",
     "iopub.status.idle": "2023-03-23T07:38:08.696151Z",
     "shell.execute_reply": "2023-03-23T07:38:08.694866Z"
    },
    "papermill": {
     "duration": 0.030297,
     "end_time": "2023-03-23T07:38:08.699549",
     "exception": false,
     "start_time": "2023-03-23T07:38:08.669252",
     "status": "completed"
    },
    "tags": []
   },
   "outputs": [
    {
     "data": {
      "text/html": [
       "<div>\n",
       "<style scoped>\n",
       "    .dataframe tbody tr th:only-of-type {\n",
       "        vertical-align: middle;\n",
       "    }\n",
       "\n",
       "    .dataframe tbody tr th {\n",
       "        vertical-align: top;\n",
       "    }\n",
       "\n",
       "    .dataframe thead th {\n",
       "        text-align: right;\n",
       "    }\n",
       "</style>\n",
       "<table border=\"1\" class=\"dataframe\">\n",
       "  <thead>\n",
       "    <tr style=\"text-align: right;\">\n",
       "      <th></th>\n",
       "      <th>Id</th>\n",
       "      <th>SalePrice</th>\n",
       "    </tr>\n",
       "  </thead>\n",
       "  <tbody>\n",
       "    <tr>\n",
       "      <th>0</th>\n",
       "      <td>1461</td>\n",
       "      <td>112504.354972</td>\n",
       "    </tr>\n",
       "    <tr>\n",
       "      <th>1</th>\n",
       "      <td>1462</td>\n",
       "      <td>160570.333939</td>\n",
       "    </tr>\n",
       "    <tr>\n",
       "      <th>2</th>\n",
       "      <td>1463</td>\n",
       "      <td>181005.360775</td>\n",
       "    </tr>\n",
       "    <tr>\n",
       "      <th>3</th>\n",
       "      <td>1464</td>\n",
       "      <td>187673.901328</td>\n",
       "    </tr>\n",
       "    <tr>\n",
       "      <th>4</th>\n",
       "      <td>1465</td>\n",
       "      <td>195812.157865</td>\n",
       "    </tr>\n",
       "  </tbody>\n",
       "</table>\n",
       "</div>"
      ],
      "text/plain": [
       "     Id      SalePrice\n",
       "0  1461  112504.354972\n",
       "1  1462  160570.333939\n",
       "2  1463  181005.360775\n",
       "3  1464  187673.901328\n",
       "4  1465  195812.157865"
      ]
     },
     "execution_count": 16,
     "metadata": {},
     "output_type": "execute_result"
    }
   ],
   "source": [
    "# final prediction based on esemble method. assign 50% weight to both models\n",
    "predictions = ( ridge_cv_preds + xgb_preds )/2\n",
    "\n",
    "#make the submission data frame\n",
    "submission = {\n",
    "    'Id': test.Id.values,\n",
    "    'SalePrice': predictions\n",
    "}\n",
    "solution = pd.DataFrame(submission)\n",
    "solution.head()"
   ]
  },
  {
   "cell_type": "code",
   "execution_count": 17,
   "id": "1257315d",
   "metadata": {
    "execution": {
     "iopub.execute_input": "2023-03-23T07:38:08.725961Z",
     "iopub.status.busy": "2023-03-23T07:38:08.724511Z",
     "iopub.status.idle": "2023-03-23T07:38:08.748676Z",
     "shell.execute_reply": "2023-03-23T07:38:08.747315Z"
    },
    "papermill": {
     "duration": 0.040507,
     "end_time": "2023-03-23T07:38:08.752924",
     "exception": false,
     "start_time": "2023-03-23T07:38:08.712417",
     "status": "completed"
    },
    "tags": []
   },
   "outputs": [
    {
     "name": "stdout",
     "output_type": "stream",
     "text": [
      "Your submission was successfully saved!\n"
     ]
    }
   ],
   "source": [
    "solution.to_csv('my_submission.csv', index=False)\n",
    "print(\"Your submission was successfully saved!\")"
   ]
  },
  {
   "cell_type": "markdown",
   "id": "f6137944",
   "metadata": {
    "papermill": {
     "duration": 0.013929,
     "end_time": "2023-03-23T07:38:08.787029",
     "exception": false,
     "start_time": "2023-03-23T07:38:08.773100",
     "status": "completed"
    },
    "tags": []
   },
   "source": [
    "# References:\n",
    "1. EDA - https://pandas-profiling.github.io/pandas-profiling/docs/master/rtd/\n",
    "2. Ridge CV - https://scikit-learn.org/stable/modules/generated/sklearn.linear_model.RidgeCV.html\n",
    "3. Ideas for feature engineering - https://www.kaggle.com/vikumsw/house-prices-solution-beginner\n",
    "\n",
    "## Feel free to share feedback, upvote if you found the notebook useful!"
   ]
  }
 ],
 "metadata": {
  "kernelspec": {
   "display_name": "Python 3",
   "language": "python",
   "name": "python3"
  },
  "language_info": {
   "codemirror_mode": {
    "name": "ipython",
    "version": 3
   },
   "file_extension": ".py",
   "mimetype": "text/x-python",
   "name": "python",
   "nbconvert_exporter": "python",
   "pygments_lexer": "ipython3",
   "version": "3.7.12"
  },
  "papermill": {
   "default_parameters": {},
   "duration": 23.261765,
   "end_time": "2023-03-23T07:38:09.820917",
   "environment_variables": {},
   "exception": null,
   "input_path": "__notebook__.ipynb",
   "output_path": "__notebook__.ipynb",
   "parameters": {},
   "start_time": "2023-03-23T07:37:46.559152",
   "version": "2.4.0"
  }
 },
 "nbformat": 4,
 "nbformat_minor": 5
}
